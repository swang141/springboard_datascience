{
 "cells": [
  {
   "cell_type": "code",
   "execution_count": 1,
   "metadata": {
    "scrolled": true
   },
   "outputs": [],
   "source": [
    "#import bank marketing dataset\n",
    "%matplotlib inline\n",
    "import numpy as np\n",
    "import pandas as pd\n",
    "import matplotlib.pyplot as plt\n",
    "import seaborn as sns\n",
    "from sklearn_pandas import CategoricalImputer\n",
    "from sklearn.model_selection import train_test_split \n",
    "from sklearn import preprocessing \n",
    "from sklearn.decomposition import PCA\n",
    "from sklearn.ensemble import RandomForestClassifier\n",
    "from sklearn import metrics\n",
    "from sklearn.model_selection import RandomizedSearchCV\n",
    "from sklearn.model_selection import GridSearchCV\n",
    "from scipy import stats\n",
    "from pprint import pprint"
   ]
  },
  {
   "cell_type": "code",
   "execution_count": 2,
   "metadata": {
    "scrolled": true
   },
   "outputs": [
    {
     "name": "stdout",
     "output_type": "stream",
     "text": [
      "   age        job  marital    education default housing loan    contact month  \\\n",
      "0   56  housemaid  married     basic.4y      no      no   no  telephone   may   \n",
      "1   57   services  married  high.school     NaN      no   no  telephone   may   \n",
      "2   37   services  married  high.school      no     yes   no  telephone   may   \n",
      "3   40     admin.  married     basic.6y      no      no   no  telephone   may   \n",
      "4   56   services  married  high.school      no      no  yes  telephone   may   \n",
      "\n",
      "  day_of_week  ...  campaign  pdays  previous  poutcome emp.var.rate  \\\n",
      "0         mon  ...         1    999         0       NaN          1.1   \n",
      "1         mon  ...         1    999         0       NaN          1.1   \n",
      "2         mon  ...         1    999         0       NaN          1.1   \n",
      "3         mon  ...         1    999         0       NaN          1.1   \n",
      "4         mon  ...         1    999         0       NaN          1.1   \n",
      "\n",
      "   cons.price.idx  cons.conf.idx  euribor3m  nr.employed   y  \n",
      "0          93.994          -36.4      4.857       5191.0  no  \n",
      "1          93.994          -36.4      4.857       5191.0  no  \n",
      "2          93.994          -36.4      4.857       5191.0  no  \n",
      "3          93.994          -36.4      4.857       5191.0  no  \n",
      "4          93.994          -36.4      4.857       5191.0  no  \n",
      "\n",
      "[5 rows x 21 columns]\n"
     ]
    }
   ],
   "source": [
    "bank_full = pd.read_csv(r'C:\\Users\\wangs\\Documents\\SHAN WANG\\SpringBoard-Datascience\\Project\\BANK MARKETING DATASET\\bank-additional\\bank-additional-full.csv', sep = ';', na_values = ['unknown', 'nonexistent'])\n",
    "print (bank_full.head())"
   ]
  },
  {
   "cell_type": "code",
   "execution_count": 3,
   "metadata": {},
   "outputs": [
    {
     "name": "stdout",
     "output_type": "stream",
     "text": [
      "<class 'pandas.core.frame.DataFrame'>\n",
      "RangeIndex: 41188 entries, 0 to 41187\n",
      "Data columns (total 21 columns):\n",
      "age               41188 non-null int64\n",
      "job               40858 non-null object\n",
      "marital           41108 non-null object\n",
      "education         39457 non-null object\n",
      "default           32591 non-null object\n",
      "housing           40198 non-null object\n",
      "loan              40198 non-null object\n",
      "contact           41188 non-null object\n",
      "month             41188 non-null object\n",
      "day_of_week       41188 non-null object\n",
      "duration          41188 non-null int64\n",
      "campaign          41188 non-null int64\n",
      "pdays             41188 non-null int64\n",
      "previous          41188 non-null int64\n",
      "poutcome          5625 non-null object\n",
      "emp.var.rate      41188 non-null float64\n",
      "cons.price.idx    41188 non-null float64\n",
      "cons.conf.idx     41188 non-null float64\n",
      "euribor3m         41188 non-null float64\n",
      "nr.employed       41188 non-null float64\n",
      "y                 41188 non-null object\n",
      "dtypes: float64(5), int64(5), object(11)\n",
      "memory usage: 6.6+ MB\n"
     ]
    }
   ],
   "source": [
    "bank_full.info()"
   ]
  },
  {
   "cell_type": "code",
   "execution_count": 4,
   "metadata": {},
   "outputs": [
    {
     "data": {
      "text/html": [
       "<div>\n",
       "<style scoped>\n",
       "    .dataframe tbody tr th:only-of-type {\n",
       "        vertical-align: middle;\n",
       "    }\n",
       "\n",
       "    .dataframe tbody tr th {\n",
       "        vertical-align: top;\n",
       "    }\n",
       "\n",
       "    .dataframe thead th {\n",
       "        text-align: right;\n",
       "    }\n",
       "</style>\n",
       "<table border=\"1\" class=\"dataframe\">\n",
       "  <thead>\n",
       "    <tr style=\"text-align: right;\">\n",
       "      <th></th>\n",
       "      <th>age</th>\n",
       "      <th>duration</th>\n",
       "      <th>campaign</th>\n",
       "      <th>pdays</th>\n",
       "      <th>previous</th>\n",
       "      <th>emp.var.rate</th>\n",
       "      <th>cons.price.idx</th>\n",
       "      <th>cons.conf.idx</th>\n",
       "      <th>euribor3m</th>\n",
       "      <th>nr.employed</th>\n",
       "    </tr>\n",
       "  </thead>\n",
       "  <tbody>\n",
       "    <tr>\n",
       "      <td>count</td>\n",
       "      <td>41188.00000</td>\n",
       "      <td>41188.000000</td>\n",
       "      <td>41188.000000</td>\n",
       "      <td>41188.000000</td>\n",
       "      <td>41188.000000</td>\n",
       "      <td>41188.000000</td>\n",
       "      <td>41188.000000</td>\n",
       "      <td>41188.000000</td>\n",
       "      <td>41188.000000</td>\n",
       "      <td>41188.000000</td>\n",
       "    </tr>\n",
       "    <tr>\n",
       "      <td>mean</td>\n",
       "      <td>40.02406</td>\n",
       "      <td>258.285010</td>\n",
       "      <td>2.567593</td>\n",
       "      <td>962.475454</td>\n",
       "      <td>0.172963</td>\n",
       "      <td>0.081886</td>\n",
       "      <td>93.575664</td>\n",
       "      <td>-40.502600</td>\n",
       "      <td>3.621291</td>\n",
       "      <td>5167.035911</td>\n",
       "    </tr>\n",
       "    <tr>\n",
       "      <td>std</td>\n",
       "      <td>10.42125</td>\n",
       "      <td>259.279249</td>\n",
       "      <td>2.770014</td>\n",
       "      <td>186.910907</td>\n",
       "      <td>0.494901</td>\n",
       "      <td>1.570960</td>\n",
       "      <td>0.578840</td>\n",
       "      <td>4.628198</td>\n",
       "      <td>1.734447</td>\n",
       "      <td>72.251528</td>\n",
       "    </tr>\n",
       "    <tr>\n",
       "      <td>min</td>\n",
       "      <td>17.00000</td>\n",
       "      <td>0.000000</td>\n",
       "      <td>1.000000</td>\n",
       "      <td>0.000000</td>\n",
       "      <td>0.000000</td>\n",
       "      <td>-3.400000</td>\n",
       "      <td>92.201000</td>\n",
       "      <td>-50.800000</td>\n",
       "      <td>0.634000</td>\n",
       "      <td>4963.600000</td>\n",
       "    </tr>\n",
       "    <tr>\n",
       "      <td>25%</td>\n",
       "      <td>32.00000</td>\n",
       "      <td>102.000000</td>\n",
       "      <td>1.000000</td>\n",
       "      <td>999.000000</td>\n",
       "      <td>0.000000</td>\n",
       "      <td>-1.800000</td>\n",
       "      <td>93.075000</td>\n",
       "      <td>-42.700000</td>\n",
       "      <td>1.344000</td>\n",
       "      <td>5099.100000</td>\n",
       "    </tr>\n",
       "    <tr>\n",
       "      <td>50%</td>\n",
       "      <td>38.00000</td>\n",
       "      <td>180.000000</td>\n",
       "      <td>2.000000</td>\n",
       "      <td>999.000000</td>\n",
       "      <td>0.000000</td>\n",
       "      <td>1.100000</td>\n",
       "      <td>93.749000</td>\n",
       "      <td>-41.800000</td>\n",
       "      <td>4.857000</td>\n",
       "      <td>5191.000000</td>\n",
       "    </tr>\n",
       "    <tr>\n",
       "      <td>75%</td>\n",
       "      <td>47.00000</td>\n",
       "      <td>319.000000</td>\n",
       "      <td>3.000000</td>\n",
       "      <td>999.000000</td>\n",
       "      <td>0.000000</td>\n",
       "      <td>1.400000</td>\n",
       "      <td>93.994000</td>\n",
       "      <td>-36.400000</td>\n",
       "      <td>4.961000</td>\n",
       "      <td>5228.100000</td>\n",
       "    </tr>\n",
       "    <tr>\n",
       "      <td>max</td>\n",
       "      <td>98.00000</td>\n",
       "      <td>4918.000000</td>\n",
       "      <td>56.000000</td>\n",
       "      <td>999.000000</td>\n",
       "      <td>7.000000</td>\n",
       "      <td>1.400000</td>\n",
       "      <td>94.767000</td>\n",
       "      <td>-26.900000</td>\n",
       "      <td>5.045000</td>\n",
       "      <td>5228.100000</td>\n",
       "    </tr>\n",
       "  </tbody>\n",
       "</table>\n",
       "</div>"
      ],
      "text/plain": [
       "               age      duration      campaign         pdays      previous  \\\n",
       "count  41188.00000  41188.000000  41188.000000  41188.000000  41188.000000   \n",
       "mean      40.02406    258.285010      2.567593    962.475454      0.172963   \n",
       "std       10.42125    259.279249      2.770014    186.910907      0.494901   \n",
       "min       17.00000      0.000000      1.000000      0.000000      0.000000   \n",
       "25%       32.00000    102.000000      1.000000    999.000000      0.000000   \n",
       "50%       38.00000    180.000000      2.000000    999.000000      0.000000   \n",
       "75%       47.00000    319.000000      3.000000    999.000000      0.000000   \n",
       "max       98.00000   4918.000000     56.000000    999.000000      7.000000   \n",
       "\n",
       "       emp.var.rate  cons.price.idx  cons.conf.idx     euribor3m   nr.employed  \n",
       "count  41188.000000    41188.000000   41188.000000  41188.000000  41188.000000  \n",
       "mean       0.081886       93.575664     -40.502600      3.621291   5167.035911  \n",
       "std        1.570960        0.578840       4.628198      1.734447     72.251528  \n",
       "min       -3.400000       92.201000     -50.800000      0.634000   4963.600000  \n",
       "25%       -1.800000       93.075000     -42.700000      1.344000   5099.100000  \n",
       "50%        1.100000       93.749000     -41.800000      4.857000   5191.000000  \n",
       "75%        1.400000       93.994000     -36.400000      4.961000   5228.100000  \n",
       "max        1.400000       94.767000     -26.900000      5.045000   5228.100000  "
      ]
     },
     "execution_count": 4,
     "metadata": {},
     "output_type": "execute_result"
    }
   ],
   "source": [
    "bank_full.describe()"
   ]
  },
  {
   "cell_type": "markdown",
   "metadata": {},
   "source": [
    "From the bank_full info, we can see that the dataset has 41,188 row, and 21 columns. Column job, marital, eductaion, default, housing, loan, and poutcome have missing values. "
   ]
  },
  {
   "cell_type": "code",
   "execution_count": 5,
   "metadata": {},
   "outputs": [
    {
     "name": "stdout",
     "output_type": "stream",
     "text": [
      "Index(['age', 'job', 'marital', 'education', 'default', 'housing', 'loan',\n",
      "       'contact', 'month', 'day_of_week', 'duration', 'campaign', 'pdays',\n",
      "       'previous', 'poutcome', 'emp.var.rate', 'cons.price.idx',\n",
      "       'cons.conf.idx', 'euribor3m', 'nr.employed', 'y'],\n",
      "      dtype='object')\n"
     ]
    }
   ],
   "source": [
    "#Identify numeric and categorical variables \n",
    "total_columns = bank_full.columns\n",
    "print (total_columns)"
   ]
  },
  {
   "cell_type": "code",
   "execution_count": 6,
   "metadata": {},
   "outputs": [
    {
     "name": "stdout",
     "output_type": "stream",
     "text": [
      "['age', 'duration', 'campaign', 'pdays', 'previous', 'emp.var.rate', 'cons.price.idx', 'cons.conf.idx', 'euribor3m', 'nr.employed']\n"
     ]
    }
   ],
   "source": [
    "num_columns = list(bank_full._get_numeric_data().columns)\n",
    "print (num_columns)"
   ]
  },
  {
   "cell_type": "code",
   "execution_count": 7,
   "metadata": {},
   "outputs": [
    {
     "name": "stdout",
     "output_type": "stream",
     "text": [
      "['default', 'housing', 'poutcome', 'job', 'loan', 'month', 'marital', 'contact', 'education', 'day_of_week']\n",
      "<class 'list'>\n"
     ]
    }
   ],
   "source": [
    "cat_columns = list(set(total_columns) - set(num_columns))\n",
    "cat_columns.remove('y')\n",
    "print (cat_columns)\n",
    "print (type(cat_columns))"
   ]
  },
  {
   "cell_type": "markdown",
   "metadata": {},
   "source": [
    "## Missing Values Imputation"
   ]
  },
  {
   "cell_type": "code",
   "execution_count": 8,
   "metadata": {},
   "outputs": [
    {
     "data": {
      "text/plain": [
       "poutcome          86.343110\n",
       "default           20.872584\n",
       "education          4.202680\n",
       "housing            2.403613\n",
       "loan               2.403613\n",
       "job                0.801204\n",
       "marital            0.194231\n",
       "y                  0.000000\n",
       "day_of_week        0.000000\n",
       "contact            0.000000\n",
       "month              0.000000\n",
       "duration           0.000000\n",
       "nr.employed        0.000000\n",
       "campaign           0.000000\n",
       "pdays              0.000000\n",
       "previous           0.000000\n",
       "emp.var.rate       0.000000\n",
       "cons.price.idx     0.000000\n",
       "cons.conf.idx      0.000000\n",
       "euribor3m          0.000000\n",
       "age                0.000000\n",
       "dtype: float64"
      ]
     },
     "execution_count": 8,
     "metadata": {},
     "output_type": "execute_result"
    }
   ],
   "source": [
    "#Find missing value percentage for each column\n",
    "bank_full.isnull().mean().sort_values(ascending=False)*100"
   ]
  },
  {
   "cell_type": "code",
   "execution_count": 9,
   "metadata": {},
   "outputs": [
    {
     "data": {
      "text/plain": [
       "0       0.036418\n",
       "1       0.063125\n",
       "2       0.148101\n",
       "3       1.065844\n",
       "4       0.286491\n",
       "5       0.111683\n",
       "6       1.000291\n",
       "7       0.145673\n",
       "8       0.043702\n",
       "9       0.155385\n",
       "10      0.126250\n",
       "11      0.067981\n",
       "12      0.140818\n",
       "13      0.087404\n",
       "14      0.048558\n",
       "15      0.058269\n",
       "16      0.026707\n",
       "17      0.019423\n",
       "18      0.016995\n",
       "19      0.007284\n",
       "20      0.002428\n",
       "21      0.004856\n",
       "22      0.007284\n",
       "25      0.002428\n",
       "26      0.002428\n",
       "27      0.002428\n",
       "999    96.321744\n",
       "Name: pdays, dtype: float64"
      ]
     },
     "execution_count": 9,
     "metadata": {},
     "output_type": "execute_result"
    }
   ],
   "source": [
    "#Find value counts in percentage for pdays column\n",
    "(bank_full.pdays.value_counts()/bank_full.pdays.count()).sort_index()*100"
   ]
  },
  {
   "cell_type": "markdown",
   "metadata": {},
   "source": [
    "By calculating the percentage of missing values for each column, we can see that 86% of the values in 'poutcoume' (previous outcome) column are missing values.And for pday column, the value of 999 takes up 96% of the rows. We know that 999 means client was not previously contacted. That makes sense because the previous outcome is missing when there is no previous contact. "
   ]
  },
  {
   "cell_type": "code",
   "execution_count": 10,
   "metadata": {},
   "outputs": [
    {
     "data": {
      "text/html": [
       "<div>\n",
       "<style scoped>\n",
       "    .dataframe tbody tr th:only-of-type {\n",
       "        vertical-align: middle;\n",
       "    }\n",
       "\n",
       "    .dataframe tbody tr th {\n",
       "        vertical-align: top;\n",
       "    }\n",
       "\n",
       "    .dataframe thead th {\n",
       "        text-align: right;\n",
       "    }\n",
       "</style>\n",
       "<table border=\"1\" class=\"dataframe\">\n",
       "  <thead>\n",
       "    <tr style=\"text-align: right;\">\n",
       "      <th></th>\n",
       "      <th>age</th>\n",
       "      <th>job</th>\n",
       "      <th>marital</th>\n",
       "      <th>education</th>\n",
       "      <th>default</th>\n",
       "      <th>housing</th>\n",
       "      <th>loan</th>\n",
       "      <th>contact</th>\n",
       "      <th>month</th>\n",
       "      <th>day_of_week</th>\n",
       "      <th>...</th>\n",
       "      <th>campaign</th>\n",
       "      <th>previous</th>\n",
       "      <th>poutcome</th>\n",
       "      <th>emp.var.rate</th>\n",
       "      <th>cons.price.idx</th>\n",
       "      <th>cons.conf.idx</th>\n",
       "      <th>euribor3m</th>\n",
       "      <th>nr.employed</th>\n",
       "      <th>y</th>\n",
       "      <th>pdays_cat</th>\n",
       "    </tr>\n",
       "  </thead>\n",
       "  <tbody>\n",
       "    <tr>\n",
       "      <td>0</td>\n",
       "      <td>56</td>\n",
       "      <td>housemaid</td>\n",
       "      <td>married</td>\n",
       "      <td>basic.4y</td>\n",
       "      <td>no</td>\n",
       "      <td>no</td>\n",
       "      <td>no</td>\n",
       "      <td>telephone</td>\n",
       "      <td>may</td>\n",
       "      <td>mon</td>\n",
       "      <td>...</td>\n",
       "      <td>1</td>\n",
       "      <td>0</td>\n",
       "      <td>NaN</td>\n",
       "      <td>1.1</td>\n",
       "      <td>93.994</td>\n",
       "      <td>-36.4</td>\n",
       "      <td>4.857</td>\n",
       "      <td>5191.0</td>\n",
       "      <td>no</td>\n",
       "      <td>no contact before</td>\n",
       "    </tr>\n",
       "    <tr>\n",
       "      <td>1</td>\n",
       "      <td>57</td>\n",
       "      <td>services</td>\n",
       "      <td>married</td>\n",
       "      <td>high.school</td>\n",
       "      <td>NaN</td>\n",
       "      <td>no</td>\n",
       "      <td>no</td>\n",
       "      <td>telephone</td>\n",
       "      <td>may</td>\n",
       "      <td>mon</td>\n",
       "      <td>...</td>\n",
       "      <td>1</td>\n",
       "      <td>0</td>\n",
       "      <td>NaN</td>\n",
       "      <td>1.1</td>\n",
       "      <td>93.994</td>\n",
       "      <td>-36.4</td>\n",
       "      <td>4.857</td>\n",
       "      <td>5191.0</td>\n",
       "      <td>no</td>\n",
       "      <td>no contact before</td>\n",
       "    </tr>\n",
       "    <tr>\n",
       "      <td>2</td>\n",
       "      <td>37</td>\n",
       "      <td>services</td>\n",
       "      <td>married</td>\n",
       "      <td>high.school</td>\n",
       "      <td>no</td>\n",
       "      <td>yes</td>\n",
       "      <td>no</td>\n",
       "      <td>telephone</td>\n",
       "      <td>may</td>\n",
       "      <td>mon</td>\n",
       "      <td>...</td>\n",
       "      <td>1</td>\n",
       "      <td>0</td>\n",
       "      <td>NaN</td>\n",
       "      <td>1.1</td>\n",
       "      <td>93.994</td>\n",
       "      <td>-36.4</td>\n",
       "      <td>4.857</td>\n",
       "      <td>5191.0</td>\n",
       "      <td>no</td>\n",
       "      <td>no contact before</td>\n",
       "    </tr>\n",
       "    <tr>\n",
       "      <td>3</td>\n",
       "      <td>40</td>\n",
       "      <td>admin.</td>\n",
       "      <td>married</td>\n",
       "      <td>basic.6y</td>\n",
       "      <td>no</td>\n",
       "      <td>no</td>\n",
       "      <td>no</td>\n",
       "      <td>telephone</td>\n",
       "      <td>may</td>\n",
       "      <td>mon</td>\n",
       "      <td>...</td>\n",
       "      <td>1</td>\n",
       "      <td>0</td>\n",
       "      <td>NaN</td>\n",
       "      <td>1.1</td>\n",
       "      <td>93.994</td>\n",
       "      <td>-36.4</td>\n",
       "      <td>4.857</td>\n",
       "      <td>5191.0</td>\n",
       "      <td>no</td>\n",
       "      <td>no contact before</td>\n",
       "    </tr>\n",
       "    <tr>\n",
       "      <td>4</td>\n",
       "      <td>56</td>\n",
       "      <td>services</td>\n",
       "      <td>married</td>\n",
       "      <td>high.school</td>\n",
       "      <td>no</td>\n",
       "      <td>no</td>\n",
       "      <td>yes</td>\n",
       "      <td>telephone</td>\n",
       "      <td>may</td>\n",
       "      <td>mon</td>\n",
       "      <td>...</td>\n",
       "      <td>1</td>\n",
       "      <td>0</td>\n",
       "      <td>NaN</td>\n",
       "      <td>1.1</td>\n",
       "      <td>93.994</td>\n",
       "      <td>-36.4</td>\n",
       "      <td>4.857</td>\n",
       "      <td>5191.0</td>\n",
       "      <td>no</td>\n",
       "      <td>no contact before</td>\n",
       "    </tr>\n",
       "  </tbody>\n",
       "</table>\n",
       "<p>5 rows × 21 columns</p>\n",
       "</div>"
      ],
      "text/plain": [
       "   age        job  marital    education default housing loan    contact month  \\\n",
       "0   56  housemaid  married     basic.4y      no      no   no  telephone   may   \n",
       "1   57   services  married  high.school     NaN      no   no  telephone   may   \n",
       "2   37   services  married  high.school      no     yes   no  telephone   may   \n",
       "3   40     admin.  married     basic.6y      no      no   no  telephone   may   \n",
       "4   56   services  married  high.school      no      no  yes  telephone   may   \n",
       "\n",
       "  day_of_week  ...  campaign  previous  poutcome emp.var.rate  cons.price.idx  \\\n",
       "0         mon  ...         1         0       NaN          1.1          93.994   \n",
       "1         mon  ...         1         0       NaN          1.1          93.994   \n",
       "2         mon  ...         1         0       NaN          1.1          93.994   \n",
       "3         mon  ...         1         0       NaN          1.1          93.994   \n",
       "4         mon  ...         1         0       NaN          1.1          93.994   \n",
       "\n",
       "   cons.conf.idx  euribor3m  nr.employed   y          pdays_cat  \n",
       "0          -36.4      4.857       5191.0  no  no contact before  \n",
       "1          -36.4      4.857       5191.0  no  no contact before  \n",
       "2          -36.4      4.857       5191.0  no  no contact before  \n",
       "3          -36.4      4.857       5191.0  no  no contact before  \n",
       "4          -36.4      4.857       5191.0  no  no contact before  \n",
       "\n",
       "[5 rows x 21 columns]"
      ]
     },
     "execution_count": 10,
     "metadata": {},
     "output_type": "execute_result"
    }
   ],
   "source": [
    "bank_full['pdays_cat']=0\n",
    "bank_full.loc[bank_full['pdays'] <= 5,'pdays_cat'] = '<= 5 days'\n",
    "bank_full.loc[(bank_full['pdays'] > 5) & (bank_full['pdays']<= 10),'pdays_cat'] = '5-10 days'\n",
    "bank_full.loc[(bank_full['pdays'] > 10) & (bank_full['pdays']< 999),'pdays_cat'] = '>10 days'\n",
    "bank_full.loc [bank_full['pdays'] == 999, 'pdays_cat']= 'no contact before'\n",
    "bank_full['pdays_cat'].unique()\n",
    "bank_full = bank_full.drop('pdays', axis = 1)\n",
    "bank_full.head()"
   ]
  },
  {
   "cell_type": "code",
   "execution_count": 11,
   "metadata": {},
   "outputs": [
    {
     "name": "stdout",
     "output_type": "stream",
     "text": [
      "Categorical: ['default', 'housing', 'poutcome', 'job', 'loan', 'month', 'marital', 'contact', 'education', 'day_of_week', 'pdays_cat'] \n",
      " Numerical: ['age', 'duration', 'campaign', 'previous', 'emp.var.rate', 'cons.price.idx', 'cons.conf.idx', 'euribor3m', 'nr.employed']\n"
     ]
    }
   ],
   "source": [
    "cat_columns.append('pdays_cat')\n",
    "num_columns.remove('pdays')\n",
    "print ('Categorical:', cat_columns, '\\n', 'Numerical:', num_columns)"
   ]
  },
  {
   "cell_type": "markdown",
   "metadata": {},
   "source": [
    "To deal with 'pdays' column, a new column 'pday_cat'is created with categorical values based on the condition of 'pdays' column. The coresponding pdays_cat value is assigned as '<= 5 days', '5-10 days', '>10 days' and 'no contact before' if 'pdays' is 999. The origianl 'pdays' column is dropped."
   ]
  },
  {
   "cell_type": "code",
   "execution_count": 12,
   "metadata": {},
   "outputs": [],
   "source": [
    "imputer = CategoricalImputer()\n",
    "bank_full[cat_columns] = imputer.fit_transform(bank_full[cat_columns].values)"
   ]
  },
  {
   "cell_type": "code",
   "execution_count": 13,
   "metadata": {},
   "outputs": [
    {
     "name": "stdout",
     "output_type": "stream",
     "text": [
      "['default_no' 'default_yes' 'housing_no' 'housing_yes' 'poutcome_failure'\n",
      " 'poutcome_no' 'poutcome_success' 'job_admin.' 'job_blue-collar'\n",
      " 'job_entrepreneur' 'job_housemaid' 'job_management' 'job_no'\n",
      " 'job_retired' 'job_self-employed' 'job_services' 'job_student'\n",
      " 'job_technician' 'job_unemployed' 'loan_no' 'loan_yes' 'month_apr'\n",
      " 'month_aug' 'month_dec' 'month_jul' 'month_jun' 'month_mar' 'month_may'\n",
      " 'month_nov' 'month_oct' 'month_sep' 'marital_divorced' 'marital_married'\n",
      " 'marital_no' 'marital_single' 'contact_cellular' 'contact_telephone'\n",
      " 'education_basic.4y' 'education_basic.6y' 'education_basic.9y'\n",
      " 'education_high.school' 'education_illiterate' 'education_no'\n",
      " 'education_professional.course' 'education_university.degree'\n",
      " 'day_of_week_fri' 'day_of_week_mon' 'day_of_week_thu' 'day_of_week_tue'\n",
      " 'day_of_week_wed' 'pdays_cat_5-10 days' 'pdays_cat_<= 5 days'\n",
      " 'pdays_cat_>10 days' 'pdays_cat_no contact before']\n"
     ]
    },
    {
     "data": {
      "text/html": [
       "<div>\n",
       "<style scoped>\n",
       "    .dataframe tbody tr th:only-of-type {\n",
       "        vertical-align: middle;\n",
       "    }\n",
       "\n",
       "    .dataframe tbody tr th {\n",
       "        vertical-align: top;\n",
       "    }\n",
       "\n",
       "    .dataframe thead th {\n",
       "        text-align: right;\n",
       "    }\n",
       "</style>\n",
       "<table border=\"1\" class=\"dataframe\">\n",
       "  <thead>\n",
       "    <tr style=\"text-align: right;\">\n",
       "      <th></th>\n",
       "      <th>default_no</th>\n",
       "      <th>default_yes</th>\n",
       "      <th>housing_no</th>\n",
       "      <th>housing_yes</th>\n",
       "      <th>poutcome_failure</th>\n",
       "      <th>poutcome_no</th>\n",
       "      <th>poutcome_success</th>\n",
       "      <th>job_admin.</th>\n",
       "      <th>job_blue-collar</th>\n",
       "      <th>job_entrepreneur</th>\n",
       "      <th>...</th>\n",
       "      <th>education_university.degree</th>\n",
       "      <th>day_of_week_fri</th>\n",
       "      <th>day_of_week_mon</th>\n",
       "      <th>day_of_week_thu</th>\n",
       "      <th>day_of_week_tue</th>\n",
       "      <th>day_of_week_wed</th>\n",
       "      <th>pdays_cat_5-10 days</th>\n",
       "      <th>pdays_cat_&lt;= 5 days</th>\n",
       "      <th>pdays_cat_&gt;10 days</th>\n",
       "      <th>pdays_cat_no contact before</th>\n",
       "    </tr>\n",
       "  </thead>\n",
       "  <tbody>\n",
       "    <tr>\n",
       "      <td>0</td>\n",
       "      <td>1.0</td>\n",
       "      <td>0.0</td>\n",
       "      <td>1.0</td>\n",
       "      <td>0.0</td>\n",
       "      <td>0.0</td>\n",
       "      <td>1.0</td>\n",
       "      <td>0.0</td>\n",
       "      <td>0.0</td>\n",
       "      <td>0.0</td>\n",
       "      <td>0.0</td>\n",
       "      <td>...</td>\n",
       "      <td>0.0</td>\n",
       "      <td>0.0</td>\n",
       "      <td>1.0</td>\n",
       "      <td>0.0</td>\n",
       "      <td>0.0</td>\n",
       "      <td>0.0</td>\n",
       "      <td>0.0</td>\n",
       "      <td>0.0</td>\n",
       "      <td>0.0</td>\n",
       "      <td>1.0</td>\n",
       "    </tr>\n",
       "    <tr>\n",
       "      <td>1</td>\n",
       "      <td>1.0</td>\n",
       "      <td>0.0</td>\n",
       "      <td>1.0</td>\n",
       "      <td>0.0</td>\n",
       "      <td>0.0</td>\n",
       "      <td>1.0</td>\n",
       "      <td>0.0</td>\n",
       "      <td>0.0</td>\n",
       "      <td>0.0</td>\n",
       "      <td>0.0</td>\n",
       "      <td>...</td>\n",
       "      <td>0.0</td>\n",
       "      <td>0.0</td>\n",
       "      <td>1.0</td>\n",
       "      <td>0.0</td>\n",
       "      <td>0.0</td>\n",
       "      <td>0.0</td>\n",
       "      <td>0.0</td>\n",
       "      <td>0.0</td>\n",
       "      <td>0.0</td>\n",
       "      <td>1.0</td>\n",
       "    </tr>\n",
       "    <tr>\n",
       "      <td>2</td>\n",
       "      <td>1.0</td>\n",
       "      <td>0.0</td>\n",
       "      <td>0.0</td>\n",
       "      <td>1.0</td>\n",
       "      <td>0.0</td>\n",
       "      <td>1.0</td>\n",
       "      <td>0.0</td>\n",
       "      <td>0.0</td>\n",
       "      <td>0.0</td>\n",
       "      <td>0.0</td>\n",
       "      <td>...</td>\n",
       "      <td>0.0</td>\n",
       "      <td>0.0</td>\n",
       "      <td>1.0</td>\n",
       "      <td>0.0</td>\n",
       "      <td>0.0</td>\n",
       "      <td>0.0</td>\n",
       "      <td>0.0</td>\n",
       "      <td>0.0</td>\n",
       "      <td>0.0</td>\n",
       "      <td>1.0</td>\n",
       "    </tr>\n",
       "    <tr>\n",
       "      <td>3</td>\n",
       "      <td>1.0</td>\n",
       "      <td>0.0</td>\n",
       "      <td>1.0</td>\n",
       "      <td>0.0</td>\n",
       "      <td>0.0</td>\n",
       "      <td>1.0</td>\n",
       "      <td>0.0</td>\n",
       "      <td>1.0</td>\n",
       "      <td>0.0</td>\n",
       "      <td>0.0</td>\n",
       "      <td>...</td>\n",
       "      <td>0.0</td>\n",
       "      <td>0.0</td>\n",
       "      <td>1.0</td>\n",
       "      <td>0.0</td>\n",
       "      <td>0.0</td>\n",
       "      <td>0.0</td>\n",
       "      <td>0.0</td>\n",
       "      <td>0.0</td>\n",
       "      <td>0.0</td>\n",
       "      <td>1.0</td>\n",
       "    </tr>\n",
       "    <tr>\n",
       "      <td>4</td>\n",
       "      <td>1.0</td>\n",
       "      <td>0.0</td>\n",
       "      <td>1.0</td>\n",
       "      <td>0.0</td>\n",
       "      <td>0.0</td>\n",
       "      <td>1.0</td>\n",
       "      <td>0.0</td>\n",
       "      <td>0.0</td>\n",
       "      <td>0.0</td>\n",
       "      <td>0.0</td>\n",
       "      <td>...</td>\n",
       "      <td>0.0</td>\n",
       "      <td>0.0</td>\n",
       "      <td>1.0</td>\n",
       "      <td>0.0</td>\n",
       "      <td>0.0</td>\n",
       "      <td>0.0</td>\n",
       "      <td>0.0</td>\n",
       "      <td>0.0</td>\n",
       "      <td>0.0</td>\n",
       "      <td>1.0</td>\n",
       "    </tr>\n",
       "  </tbody>\n",
       "</table>\n",
       "<p>5 rows × 54 columns</p>\n",
       "</div>"
      ],
      "text/plain": [
       "   default_no  default_yes  housing_no  housing_yes  poutcome_failure  \\\n",
       "0         1.0          0.0         1.0          0.0               0.0   \n",
       "1         1.0          0.0         1.0          0.0               0.0   \n",
       "2         1.0          0.0         0.0          1.0               0.0   \n",
       "3         1.0          0.0         1.0          0.0               0.0   \n",
       "4         1.0          0.0         1.0          0.0               0.0   \n",
       "\n",
       "   poutcome_no  poutcome_success  job_admin.  job_blue-collar  \\\n",
       "0          1.0               0.0         0.0              0.0   \n",
       "1          1.0               0.0         0.0              0.0   \n",
       "2          1.0               0.0         0.0              0.0   \n",
       "3          1.0               0.0         1.0              0.0   \n",
       "4          1.0               0.0         0.0              0.0   \n",
       "\n",
       "   job_entrepreneur  ...  education_university.degree  day_of_week_fri  \\\n",
       "0               0.0  ...                          0.0              0.0   \n",
       "1               0.0  ...                          0.0              0.0   \n",
       "2               0.0  ...                          0.0              0.0   \n",
       "3               0.0  ...                          0.0              0.0   \n",
       "4               0.0  ...                          0.0              0.0   \n",
       "\n",
       "   day_of_week_mon  day_of_week_thu  day_of_week_tue  day_of_week_wed  \\\n",
       "0              1.0              0.0              0.0              0.0   \n",
       "1              1.0              0.0              0.0              0.0   \n",
       "2              1.0              0.0              0.0              0.0   \n",
       "3              1.0              0.0              0.0              0.0   \n",
       "4              1.0              0.0              0.0              0.0   \n",
       "\n",
       "   pdays_cat_5-10 days  pdays_cat_<= 5 days  pdays_cat_>10 days  \\\n",
       "0                  0.0                  0.0                 0.0   \n",
       "1                  0.0                  0.0                 0.0   \n",
       "2                  0.0                  0.0                 0.0   \n",
       "3                  0.0                  0.0                 0.0   \n",
       "4                  0.0                  0.0                 0.0   \n",
       "\n",
       "   pdays_cat_no contact before  \n",
       "0                          1.0  \n",
       "1                          1.0  \n",
       "2                          1.0  \n",
       "3                          1.0  \n",
       "4                          1.0  \n",
       "\n",
       "[5 rows x 54 columns]"
      ]
     },
     "execution_count": 13,
     "metadata": {},
     "output_type": "execute_result"
    }
   ],
   "source": [
    "bankcat = bank_full[cat_columns]\n",
    "enc = preprocessing.OneHotEncoder(handle_unknown ='ignore')\n",
    "enc.fit(bankcat)\n",
    "ohe=enc.transform(bankcat).toarray()\n",
    "ohe_columns = enc.get_feature_names(cat_columns)\n",
    "print (ohe_columns)\n",
    "ohdf = pd.DataFrame(ohe, columns=ohe_columns)\n",
    "ohdf.head()"
   ]
  },
  {
   "cell_type": "code",
   "execution_count": 14,
   "metadata": {},
   "outputs": [
    {
     "data": {
      "text/html": [
       "<div>\n",
       "<style scoped>\n",
       "    .dataframe tbody tr th:only-of-type {\n",
       "        vertical-align: middle;\n",
       "    }\n",
       "\n",
       "    .dataframe tbody tr th {\n",
       "        vertical-align: top;\n",
       "    }\n",
       "\n",
       "    .dataframe thead th {\n",
       "        text-align: right;\n",
       "    }\n",
       "</style>\n",
       "<table border=\"1\" class=\"dataframe\">\n",
       "  <thead>\n",
       "    <tr style=\"text-align: right;\">\n",
       "      <th></th>\n",
       "      <th>age</th>\n",
       "      <th>duration</th>\n",
       "      <th>campaign</th>\n",
       "      <th>previous</th>\n",
       "      <th>emp.var.rate</th>\n",
       "      <th>cons.price.idx</th>\n",
       "      <th>cons.conf.idx</th>\n",
       "      <th>euribor3m</th>\n",
       "      <th>nr.employed</th>\n",
       "      <th>default_no</th>\n",
       "      <th>...</th>\n",
       "      <th>day_of_week_fri</th>\n",
       "      <th>day_of_week_mon</th>\n",
       "      <th>day_of_week_thu</th>\n",
       "      <th>day_of_week_tue</th>\n",
       "      <th>day_of_week_wed</th>\n",
       "      <th>pdays_cat_5-10 days</th>\n",
       "      <th>pdays_cat_&lt;= 5 days</th>\n",
       "      <th>pdays_cat_&gt;10 days</th>\n",
       "      <th>pdays_cat_no contact before</th>\n",
       "      <th>y</th>\n",
       "    </tr>\n",
       "  </thead>\n",
       "  <tbody>\n",
       "    <tr>\n",
       "      <td>0</td>\n",
       "      <td>56</td>\n",
       "      <td>261</td>\n",
       "      <td>1</td>\n",
       "      <td>0</td>\n",
       "      <td>1.1</td>\n",
       "      <td>93.994</td>\n",
       "      <td>-36.4</td>\n",
       "      <td>4.857</td>\n",
       "      <td>5191.0</td>\n",
       "      <td>1.0</td>\n",
       "      <td>...</td>\n",
       "      <td>0.0</td>\n",
       "      <td>1.0</td>\n",
       "      <td>0.0</td>\n",
       "      <td>0.0</td>\n",
       "      <td>0.0</td>\n",
       "      <td>0.0</td>\n",
       "      <td>0.0</td>\n",
       "      <td>0.0</td>\n",
       "      <td>1.0</td>\n",
       "      <td>1</td>\n",
       "    </tr>\n",
       "    <tr>\n",
       "      <td>1</td>\n",
       "      <td>57</td>\n",
       "      <td>149</td>\n",
       "      <td>1</td>\n",
       "      <td>0</td>\n",
       "      <td>1.1</td>\n",
       "      <td>93.994</td>\n",
       "      <td>-36.4</td>\n",
       "      <td>4.857</td>\n",
       "      <td>5191.0</td>\n",
       "      <td>1.0</td>\n",
       "      <td>...</td>\n",
       "      <td>0.0</td>\n",
       "      <td>1.0</td>\n",
       "      <td>0.0</td>\n",
       "      <td>0.0</td>\n",
       "      <td>0.0</td>\n",
       "      <td>0.0</td>\n",
       "      <td>0.0</td>\n",
       "      <td>0.0</td>\n",
       "      <td>1.0</td>\n",
       "      <td>1</td>\n",
       "    </tr>\n",
       "    <tr>\n",
       "      <td>2</td>\n",
       "      <td>37</td>\n",
       "      <td>226</td>\n",
       "      <td>1</td>\n",
       "      <td>0</td>\n",
       "      <td>1.1</td>\n",
       "      <td>93.994</td>\n",
       "      <td>-36.4</td>\n",
       "      <td>4.857</td>\n",
       "      <td>5191.0</td>\n",
       "      <td>1.0</td>\n",
       "      <td>...</td>\n",
       "      <td>0.0</td>\n",
       "      <td>1.0</td>\n",
       "      <td>0.0</td>\n",
       "      <td>0.0</td>\n",
       "      <td>0.0</td>\n",
       "      <td>0.0</td>\n",
       "      <td>0.0</td>\n",
       "      <td>0.0</td>\n",
       "      <td>1.0</td>\n",
       "      <td>1</td>\n",
       "    </tr>\n",
       "    <tr>\n",
       "      <td>3</td>\n",
       "      <td>40</td>\n",
       "      <td>151</td>\n",
       "      <td>1</td>\n",
       "      <td>0</td>\n",
       "      <td>1.1</td>\n",
       "      <td>93.994</td>\n",
       "      <td>-36.4</td>\n",
       "      <td>4.857</td>\n",
       "      <td>5191.0</td>\n",
       "      <td>1.0</td>\n",
       "      <td>...</td>\n",
       "      <td>0.0</td>\n",
       "      <td>1.0</td>\n",
       "      <td>0.0</td>\n",
       "      <td>0.0</td>\n",
       "      <td>0.0</td>\n",
       "      <td>0.0</td>\n",
       "      <td>0.0</td>\n",
       "      <td>0.0</td>\n",
       "      <td>1.0</td>\n",
       "      <td>1</td>\n",
       "    </tr>\n",
       "    <tr>\n",
       "      <td>4</td>\n",
       "      <td>56</td>\n",
       "      <td>307</td>\n",
       "      <td>1</td>\n",
       "      <td>0</td>\n",
       "      <td>1.1</td>\n",
       "      <td>93.994</td>\n",
       "      <td>-36.4</td>\n",
       "      <td>4.857</td>\n",
       "      <td>5191.0</td>\n",
       "      <td>1.0</td>\n",
       "      <td>...</td>\n",
       "      <td>0.0</td>\n",
       "      <td>1.0</td>\n",
       "      <td>0.0</td>\n",
       "      <td>0.0</td>\n",
       "      <td>0.0</td>\n",
       "      <td>0.0</td>\n",
       "      <td>0.0</td>\n",
       "      <td>0.0</td>\n",
       "      <td>1.0</td>\n",
       "      <td>1</td>\n",
       "    </tr>\n",
       "  </tbody>\n",
       "</table>\n",
       "<p>5 rows × 64 columns</p>\n",
       "</div>"
      ],
      "text/plain": [
       "   age  duration  campaign  previous  emp.var.rate  cons.price.idx  \\\n",
       "0   56       261         1         0           1.1          93.994   \n",
       "1   57       149         1         0           1.1          93.994   \n",
       "2   37       226         1         0           1.1          93.994   \n",
       "3   40       151         1         0           1.1          93.994   \n",
       "4   56       307         1         0           1.1          93.994   \n",
       "\n",
       "   cons.conf.idx  euribor3m  nr.employed  default_no  ...  day_of_week_fri  \\\n",
       "0          -36.4      4.857       5191.0         1.0  ...              0.0   \n",
       "1          -36.4      4.857       5191.0         1.0  ...              0.0   \n",
       "2          -36.4      4.857       5191.0         1.0  ...              0.0   \n",
       "3          -36.4      4.857       5191.0         1.0  ...              0.0   \n",
       "4          -36.4      4.857       5191.0         1.0  ...              0.0   \n",
       "\n",
       "   day_of_week_mon  day_of_week_thu  day_of_week_tue  day_of_week_wed  \\\n",
       "0              1.0              0.0              0.0              0.0   \n",
       "1              1.0              0.0              0.0              0.0   \n",
       "2              1.0              0.0              0.0              0.0   \n",
       "3              1.0              0.0              0.0              0.0   \n",
       "4              1.0              0.0              0.0              0.0   \n",
       "\n",
       "   pdays_cat_5-10 days  pdays_cat_<= 5 days  pdays_cat_>10 days  \\\n",
       "0                  0.0                  0.0                 0.0   \n",
       "1                  0.0                  0.0                 0.0   \n",
       "2                  0.0                  0.0                 0.0   \n",
       "3                  0.0                  0.0                 0.0   \n",
       "4                  0.0                  0.0                 0.0   \n",
       "\n",
       "   pdays_cat_no contact before  y  \n",
       "0                          1.0  1  \n",
       "1                          1.0  1  \n",
       "2                          1.0  1  \n",
       "3                          1.0  1  \n",
       "4                          1.0  1  \n",
       "\n",
       "[5 rows x 64 columns]"
      ]
     },
     "execution_count": 14,
     "metadata": {},
     "output_type": "execute_result"
    }
   ],
   "source": [
    "bank_full['y']=pd.get_dummies(bank_full['y'])\n",
    "imputed_bank_full=pd.concat([bank_full[num_columns], ohdf, bank_full['y']], axis=1)\n",
    "imputed_bank_full.head()"
   ]
  },
  {
   "cell_type": "code",
   "execution_count": 15,
   "metadata": {},
   "outputs": [
    {
     "data": {
      "text/plain": [
       "\"\\n#Apply one-hot encoding/dummy coding\\nbankcat = bank_full[cat_columns]\\nbankcat_not_null = bankcat[bankcat.notnull().all(1)]\\nenc = preprocessing.OneHotEncoder(handle_unknown='ignore')\\nenc.fit(bankcat_not_null)\\nohe = enc.transform(bankcat_not_null).toarray()\\nprint (ohe)\\nohe_columns = enc.get_feature_names(cat_columns)\\nprint (ohe_columns)\\n\""
      ]
     },
     "execution_count": 15,
     "metadata": {},
     "output_type": "execute_result"
    }
   ],
   "source": [
    "'''\n",
    "#Apply one-hot encoding/dummy coding\n",
    "bankcat = bank_full[cat_columns]\n",
    "bankcat_not_null = bankcat[bankcat.notnull().all(1)]\n",
    "enc = preprocessing.OneHotEncoder(handle_unknown='ignore')\n",
    "enc.fit(bankcat_not_null)\n",
    "ohe = enc.transform(bankcat_not_null).toarray()\n",
    "print (ohe)\n",
    "ohe_columns = enc.get_feature_names(cat_columns)\n",
    "print (ohe_columns)\n",
    "'''"
   ]
  },
  {
   "cell_type": "code",
   "execution_count": 16,
   "metadata": {
    "scrolled": true
   },
   "outputs": [],
   "source": [
    "#ohdf = pd.DataFrame(ohe, columns=ohe_columns)"
   ]
  },
  {
   "cell_type": "code",
   "execution_count": 17,
   "metadata": {},
   "outputs": [
    {
     "data": {
      "text/plain": [
       "'\\n#Apply missing value imputation techniques to estimate a guess for the missing entries by using k-nn impute\\nimputer = KNNImputer(n_neighbors=5)\\nimputer.fit_transform(bank_full[cat_columns])\\n'"
      ]
     },
     "execution_count": 17,
     "metadata": {},
     "output_type": "execute_result"
    }
   ],
   "source": [
    "'''\n",
    "#Apply missing value imputation techniques to estimate a guess for the missing entries by using k-nn impute\n",
    "imputer = KNNImputer(n_neighbors=5)\n",
    "imputer.fit_transform(bank_full[cat_columns])\n",
    "'''"
   ]
  },
  {
   "cell_type": "markdown",
   "metadata": {},
   "source": [
    "# Exploratory Data Analysis"
   ]
  },
  {
   "cell_type": "code",
   "execution_count": 18,
   "metadata": {
    "scrolled": true
   },
   "outputs": [
    {
     "data": {
      "image/png": "[encoded data removed]",
      "text/plain": [
       "<Figure size 900x900 with 30 Axes>"
      ]
     },
     "metadata": {
      "needs_background": "light"
     },
     "output_type": "display_data"
    }
   ],
   "source": [
    "#Plot numerical variables in pairs\n",
    "in_var = ['emp.var.rate', 'cons.price.idx', 'cons.conf.idx', 'euribor3m', 'nr.employed']\n",
    "sns.pairplot(bank_full[in_var],kind='reg')\n",
    "plt.show()"
   ]
  },
  {
   "cell_type": "code",
   "execution_count": 65,
   "metadata": {
    "scrolled": false
   },
   "outputs": [
    {
     "data": {
      "image/png": "[encoded data removed]",
      "text/plain": [
       "<Figure size 432x288 with 1 Axes>"
      ]
     },
     "metadata": {
      "needs_background": "light"
     },
     "output_type": "display_data"
    },
    {
     "data": {
      "image/png": "[encoded data removed]",
      "text/plain": [
       "<Figure size 432x288 with 1 Axes>"
      ]
     },
     "metadata": {
      "needs_background": "light"
     },
     "output_type": "display_data"
    },
    {
     "data": {
      "image/png": "[encoded data removed]",
      "text/plain": [
       "<Figure size 432x288 with 1 Axes>"
      ]
     },
     "metadata": {
      "needs_background": "light"
     },
     "output_type": "display_data"
    },
    {
     "data": {
      "image/png": "[encoded data removed]",
      "text/plain": [
       "<Figure size 432x288 with 1 Axes>"
      ]
     },
     "metadata": {
      "needs_background": "light"
     },
     "output_type": "display_data"
    },
    {
     "data": {
      "image/png": "[encoded data removed]",
      "text/plain": [
       "<Figure size 432x288 with 1 Axes>"
      ]
     },
     "metadata": {
      "needs_background": "light"
     },
     "output_type": "display_data"
    },
    {
     "data": {
      "image/png": "[encoded data removed]",
      "text/plain": [
       "<Figure size 432x288 with 1 Axes>"
      ]
     },
     "metadata": {
      "needs_background": "light"
     },
     "output_type": "display_data"
    },
    {
     "data": {
      "image/png": "[encoded data removed]",
      "text/plain": [
       "<Figure size 432x288 with 1 Axes>"
      ]
     },
     "metadata": {
      "needs_background": "light"
     },
     "output_type": "display_data"
    },
    {
     "data": {
      "image/png": "[encoded data removed]",
      "text/plain": [
       "<Figure size 432x288 with 1 Axes>"
      ]
     },
     "metadata": {
      "needs_background": "light"
     },
     "output_type": "display_data"
    },
    {
     "data": {
      "image/png": "[encoded data removed]",
      "text/plain": [
       "<Figure size 432x288 with 1 Axes>"
      ]
     },
     "metadata": {
      "needs_background": "light"
     },
     "output_type": "display_data"
    }
   ],
   "source": [
    "#Plot a box plot of numeric variable within subset of rows where label variable y ‘has the client subscribed a term deposit’ = ‘yes’ vs ‘no’\n",
    "for var in num_columns:\n",
    "    sns.violinplot( x=var, y=['']*len(bank_full), data = bank_full, hue ='y')\n",
    "    plt.show()"
   ]
  },
  {
   "cell_type": "markdown",
   "metadata": {},
   "source": [
    "Most people are around 30 years old.\n",
    "People who subscribed the term had longer duration over phone.\n",
    "Most people have been contacted less than 9 times during this campaign .\n",
    "Most people haven’t been contacted before.\n",
    "When emp.var.rate is around 1.5, more people will not subscribe.\n",
    "When cons.price.idx is around 94, more people will not subscribe.\n",
    "More people subscribe when eurbor3m is below 2, while more people don’t subscribe when euribor3m is above 4.\n",
    "When nr.employed is below 5050, more people subscribe.\n",
    "\n",
    "\n",
    "\n"
   ]
  },
  {
   "cell_type": "code",
   "execution_count": 66,
   "metadata": {},
   "outputs": [
    {
     "data": {
      "image/png": "[encoded data removed]",
      "text/plain": [
       "<Figure size 432x288 with 1 Axes>"
      ]
     },
     "metadata": {
      "needs_background": "light"
     },
     "output_type": "display_data"
    },
    {
     "data": {
      "image/png": "[encoded data removed]",
      "text/plain": [
       "<Figure size 432x288 with 1 Axes>"
      ]
     },
     "metadata": {
      "needs_background": "light"
     },
     "output_type": "display_data"
    },
    {
     "data": {
      "image/png": "[encoded data removed]",
      "text/plain": [
       "<Figure size 432x288 with 1 Axes>"
      ]
     },
     "metadata": {
      "needs_background": "light"
     },
     "output_type": "display_data"
    },
    {
     "data": {
      "image/png": "[encoded data removed]",
      "text/plain": [
       "<Figure size 432x288 with 1 Axes>"
      ]
     },
     "metadata": {
      "needs_background": "light"
     },
     "output_type": "display_data"
    },
    {
     "data": {
      "image/png": "[encoded data removed]",
      "text/plain": [
       "<Figure size 432x288 with 1 Axes>"
      ]
     },
     "metadata": {
      "needs_background": "light"
     },
     "output_type": "display_data"
    },
    {
     "data": {
      "image/png": "[encoded data removed]",
      "text/plain": [
       "<Figure size 432x288 with 1 Axes>"
      ]
     },
     "metadata": {
      "needs_background": "light"
     },
     "output_type": "display_data"
    },
    {
     "data": {
      "image/png": "[encoded data removed]",
      "text/plain": [
       "<Figure size 432x288 with 1 Axes>"
      ]
     },
     "metadata": {
      "needs_background": "light"
     },
     "output_type": "display_data"
    },
    {
     "data": {
      "image/png": "[encoded data removed]",
      "text/plain": [
       "<Figure size 432x288 with 1 Axes>"
      ]
     },
     "metadata": {
      "needs_background": "light"
     },
     "output_type": "display_data"
    },
    {
     "data": {
      "image/png": "[encoded data removed]",
      "text/plain": [
       "<Figure size 432x288 with 1 Axes>"
      ]
     },
     "metadata": {
      "needs_background": "light"
     },
     "output_type": "display_data"
    },
    {
     "data": {
      "image/png": "[encoded data removed]",
      "text/plain": [
       "<Figure size 432x288 with 1 Axes>"
      ]
     },
     "metadata": {
      "needs_background": "light"
     },
     "output_type": "display_data"
    },
    {
     "data": {
      "image/png": "[encoded data removed]",
      "text/plain": [
       "<Figure size 432x288 with 1 Axes>"
      ]
     },
     "metadata": {
      "needs_background": "light"
     },
     "output_type": "display_data"
    }
   ],
   "source": [
    "#Countplot for categorial variables\n",
    "for var in cat_columns:\n",
    "    sns.countplot(y=var,data = bank_full, hue ='y')\n",
    "    plt.title(var)\n",
    "    plt.show()"
   ]
  },
  {
   "cell_type": "markdown",
   "metadata": {},
   "source": [
    "Observation 1\n",
    "Among people who subscribed the term, the largest number is from administrative job. The least number is from entrepreneur and housemaid. Students are more likely to subscribe than other occupations. \n",
    "\n",
    "Observation 2.\n",
    "People are more likely to subscribe again if they did previously.\n"
   ]
  },
  {
   "cell_type": "code",
   "execution_count": 18,
   "metadata": {},
   "outputs": [
    {
     "data": {
      "text/html": [
       "<div>\n",
       "<style scoped>\n",
       "    .dataframe tbody tr th:only-of-type {\n",
       "        vertical-align: middle;\n",
       "    }\n",
       "\n",
       "    .dataframe tbody tr th {\n",
       "        vertical-align: top;\n",
       "    }\n",
       "\n",
       "    .dataframe thead th {\n",
       "        text-align: right;\n",
       "    }\n",
       "</style>\n",
       "<table border=\"1\" class=\"dataframe\">\n",
       "  <thead>\n",
       "    <tr style=\"text-align: right;\">\n",
       "      <th>education</th>\n",
       "      <th>basic.4y</th>\n",
       "      <th>basic.6y</th>\n",
       "      <th>basic.9y</th>\n",
       "      <th>high.school</th>\n",
       "      <th>illiterate</th>\n",
       "      <th>no</th>\n",
       "      <th>professional.course</th>\n",
       "      <th>university.degree</th>\n",
       "    </tr>\n",
       "    <tr>\n",
       "      <th>job</th>\n",
       "      <th></th>\n",
       "      <th></th>\n",
       "      <th></th>\n",
       "      <th></th>\n",
       "      <th></th>\n",
       "      <th></th>\n",
       "      <th></th>\n",
       "      <th></th>\n",
       "    </tr>\n",
       "  </thead>\n",
       "  <tbody>\n",
       "    <tr>\n",
       "      <td>admin.</td>\n",
       "      <td>0.007388</td>\n",
       "      <td>0.014489</td>\n",
       "      <td>0.047879</td>\n",
       "      <td>0.319420</td>\n",
       "      <td>0.000096</td>\n",
       "      <td>0.023892</td>\n",
       "      <td>0.034830</td>\n",
       "      <td>0.552005</td>\n",
       "    </tr>\n",
       "    <tr>\n",
       "      <td>blue-collar</td>\n",
       "      <td>0.250486</td>\n",
       "      <td>0.154096</td>\n",
       "      <td>0.391506</td>\n",
       "      <td>0.094878</td>\n",
       "      <td>0.000864</td>\n",
       "      <td>0.049060</td>\n",
       "      <td>0.048952</td>\n",
       "      <td>0.010158</td>\n",
       "    </tr>\n",
       "    <tr>\n",
       "      <td>entrepreneur</td>\n",
       "      <td>0.094093</td>\n",
       "      <td>0.048764</td>\n",
       "      <td>0.144231</td>\n",
       "      <td>0.160714</td>\n",
       "      <td>0.001374</td>\n",
       "      <td>0.039148</td>\n",
       "      <td>0.092720</td>\n",
       "      <td>0.418956</td>\n",
       "    </tr>\n",
       "    <tr>\n",
       "      <td>housemaid</td>\n",
       "      <td>0.447170</td>\n",
       "      <td>0.072642</td>\n",
       "      <td>0.088679</td>\n",
       "      <td>0.164151</td>\n",
       "      <td>0.000943</td>\n",
       "      <td>0.039623</td>\n",
       "      <td>0.055660</td>\n",
       "      <td>0.131132</td>\n",
       "    </tr>\n",
       "    <tr>\n",
       "      <td>management</td>\n",
       "      <td>0.034200</td>\n",
       "      <td>0.029070</td>\n",
       "      <td>0.056772</td>\n",
       "      <td>0.101915</td>\n",
       "      <td>0.000000</td>\n",
       "      <td>0.042066</td>\n",
       "      <td>0.030438</td>\n",
       "      <td>0.705540</td>\n",
       "    </tr>\n",
       "    <tr>\n",
       "      <td>no</td>\n",
       "      <td>0.157576</td>\n",
       "      <td>0.066667</td>\n",
       "      <td>0.093939</td>\n",
       "      <td>0.112121</td>\n",
       "      <td>0.000000</td>\n",
       "      <td>0.396970</td>\n",
       "      <td>0.036364</td>\n",
       "      <td>0.136364</td>\n",
       "    </tr>\n",
       "    <tr>\n",
       "      <td>retired</td>\n",
       "      <td>0.347093</td>\n",
       "      <td>0.043605</td>\n",
       "      <td>0.084302</td>\n",
       "      <td>0.160465</td>\n",
       "      <td>0.001744</td>\n",
       "      <td>0.056977</td>\n",
       "      <td>0.140116</td>\n",
       "      <td>0.165698</td>\n",
       "    </tr>\n",
       "    <tr>\n",
       "      <td>self-employed</td>\n",
       "      <td>0.065447</td>\n",
       "      <td>0.017593</td>\n",
       "      <td>0.154821</td>\n",
       "      <td>0.083040</td>\n",
       "      <td>0.002111</td>\n",
       "      <td>0.020408</td>\n",
       "      <td>0.118227</td>\n",
       "      <td>0.538353</td>\n",
       "    </tr>\n",
       "    <tr>\n",
       "      <td>services</td>\n",
       "      <td>0.033258</td>\n",
       "      <td>0.056941</td>\n",
       "      <td>0.097758</td>\n",
       "      <td>0.675737</td>\n",
       "      <td>0.000000</td>\n",
       "      <td>0.037793</td>\n",
       "      <td>0.054926</td>\n",
       "      <td>0.043588</td>\n",
       "    </tr>\n",
       "    <tr>\n",
       "      <td>student</td>\n",
       "      <td>0.029714</td>\n",
       "      <td>0.014857</td>\n",
       "      <td>0.113143</td>\n",
       "      <td>0.408000</td>\n",
       "      <td>0.000000</td>\n",
       "      <td>0.190857</td>\n",
       "      <td>0.049143</td>\n",
       "      <td>0.194286</td>\n",
       "    </tr>\n",
       "    <tr>\n",
       "      <td>technician</td>\n",
       "      <td>0.008602</td>\n",
       "      <td>0.012902</td>\n",
       "      <td>0.056948</td>\n",
       "      <td>0.129468</td>\n",
       "      <td>0.000000</td>\n",
       "      <td>0.031440</td>\n",
       "      <td>0.492362</td>\n",
       "      <td>0.268278</td>\n",
       "    </tr>\n",
       "    <tr>\n",
       "      <td>unemployed</td>\n",
       "      <td>0.110454</td>\n",
       "      <td>0.033531</td>\n",
       "      <td>0.183432</td>\n",
       "      <td>0.255424</td>\n",
       "      <td>0.000000</td>\n",
       "      <td>0.018738</td>\n",
       "      <td>0.140039</td>\n",
       "      <td>0.258383</td>\n",
       "    </tr>\n",
       "  </tbody>\n",
       "</table>\n",
       "</div>"
      ],
      "text/plain": [
       "education      basic.4y  basic.6y  basic.9y  high.school  illiterate  \\\n",
       "job                                                                    \n",
       "admin.         0.007388  0.014489  0.047879     0.319420    0.000096   \n",
       "blue-collar    0.250486  0.154096  0.391506     0.094878    0.000864   \n",
       "entrepreneur   0.094093  0.048764  0.144231     0.160714    0.001374   \n",
       "housemaid      0.447170  0.072642  0.088679     0.164151    0.000943   \n",
       "management     0.034200  0.029070  0.056772     0.101915    0.000000   \n",
       "no             0.157576  0.066667  0.093939     0.112121    0.000000   \n",
       "retired        0.347093  0.043605  0.084302     0.160465    0.001744   \n",
       "self-employed  0.065447  0.017593  0.154821     0.083040    0.002111   \n",
       "services       0.033258  0.056941  0.097758     0.675737    0.000000   \n",
       "student        0.029714  0.014857  0.113143     0.408000    0.000000   \n",
       "technician     0.008602  0.012902  0.056948     0.129468    0.000000   \n",
       "unemployed     0.110454  0.033531  0.183432     0.255424    0.000000   \n",
       "\n",
       "education            no  professional.course  university.degree  \n",
       "job                                                              \n",
       "admin.         0.023892             0.034830           0.552005  \n",
       "blue-collar    0.049060             0.048952           0.010158  \n",
       "entrepreneur   0.039148             0.092720           0.418956  \n",
       "housemaid      0.039623             0.055660           0.131132  \n",
       "management     0.042066             0.030438           0.705540  \n",
       "no             0.396970             0.036364           0.136364  \n",
       "retired        0.056977             0.140116           0.165698  \n",
       "self-employed  0.020408             0.118227           0.538353  \n",
       "services       0.037793             0.054926           0.043588  \n",
       "student        0.190857             0.049143           0.194286  \n",
       "technician     0.031440             0.492362           0.268278  \n",
       "unemployed     0.018738             0.140039           0.258383  "
      ]
     },
     "execution_count": 18,
     "metadata": {},
     "output_type": "execute_result"
    }
   ],
   "source": [
    "job_education = pd.crosstab(bank_full['job'], bank_full['education']).apply(lambda r: r/r.sum(), axis = 1)\n",
    "job_education"
   ]
  },
  {
   "cell_type": "code",
   "execution_count": 19,
   "metadata": {},
   "outputs": [
    {
     "name": "stdout",
     "output_type": "stream",
     "text": [
      "y           0      1\n",
      "default             \n",
      "no       4640  36545\n",
      "yes         0      3 \n",
      "\n",
      " y           0      1\n",
      "housing             \n",
      "no       2133  17479\n",
      "yes      2507  19069 \n",
      "\n",
      " y        0      1\n",
      "loan             \n",
      "no    3957  30983\n",
      "yes    683   5565\n"
     ]
    }
   ],
   "source": [
    "#Drop unknown values and make contigency tables for default vs outcome y, housing vs outcome y, and loan vs outcome y\n",
    "bank_full = bank_full[~bank_full['default'].str.contains(\"unknown\")]\n",
    "bank_full = bank_full[~bank_full['housing'].str.contains(\"unknown\")]\n",
    "bank_full = bank_full[~bank_full['loan'].str.contains(\"unknown\")]\n",
    "dflt_y = pd.crosstab(bank_full['default'], bank_full['y'],  dropna = True)\n",
    "house_y = pd.crosstab(bank_full['housing'], bank_full['y'])\n",
    "loan_y = pd.crosstab(bank_full['loan'], bank_full['y'])\n",
    "print (dflt_y, '\\n\\n', house_y, '\\n\\n', loan_y)"
   ]
  },
  {
   "cell_type": "code",
   "execution_count": 20,
   "metadata": {},
   "outputs": [
    {
     "name": "stdout",
     "output_type": "stream",
     "text": [
      "dflt_oddsratio : inf dflt_pvalue : 1.0\n",
      "house_oddsratio : 0.9282134515604149 house_pvalue : 0.017706797460646316\n",
      "loan_oddsratio : 1.040607731373399 loan_pvalue : 0.3731669615484633\n"
     ]
    }
   ],
   "source": [
    "# Run fisher’s exact test between default vs outcome y,  housing vs outcome y, and loan vs outcome y\n",
    "con_tables = [dflt_y,house_y,loan_y]\n",
    "names= [('dflt_oddsratio', 'dflt_pvalue'), ('house_oddsratio','house_pvalue'), ('loan_oddsratio', 'loan_pvalue')]\n",
    "i=0\n",
    "for t in con_tables:\n",
    "    oddsratio, pvalue = stats.fisher_exact(t)\n",
    "    print (names[i][0],':', oddsratio, names[i][1],':', pvalue)\n",
    "    i+=1"
   ]
  },
  {
   "cell_type": "code",
   "execution_count": 21,
   "metadata": {},
   "outputs": [
    {
     "name": "stdout",
     "output_type": "stream",
     "text": [
      "[0.92626125 0.07183167]\n",
      "[52624.08039516 14654.66025625]\n"
     ]
    }
   ],
   "source": [
    "#Apply principal components analysis to numerical variables\n",
    "pca = PCA(n_components = 2)\n",
    "pca.fit(bank_full[num_columns])\n",
    "print(pca.explained_variance_ratio_)\n",
    "print(pca.singular_values_)"
   ]
  },
  {
   "cell_type": "code",
   "execution_count": 22,
   "metadata": {},
   "outputs": [
    {
     "name": "stdout",
     "output_type": "stream",
     "text": [
      "(41188, 9) (41188, 1)\n"
     ]
    }
   ],
   "source": [
    "pca = PCA(n_components=0.8)\n",
    "n_pca = pca.fit_transform(bank_full[num_columns])\n",
    "print (bank_full[num_columns].shape, n_pca.shape)"
   ]
  },
  {
   "cell_type": "code",
   "execution_count": 23,
   "metadata": {},
   "outputs": [
    {
     "name": "stdout",
     "output_type": "stream",
     "text": [
      "[0.11526411 0.09095435]\n",
      "[159.00425032 141.24510672]\n"
     ]
    }
   ],
   "source": [
    "#Apply principal components analysis to one hot encoded data \n",
    "pca = PCA(n_components = 2)\n",
    "pca.fit(ohe)\n",
    "print(pca.explained_variance_ratio_)\n",
    "print(pca.singular_values_)"
   ]
  },
  {
   "cell_type": "code",
   "execution_count": 24,
   "metadata": {},
   "outputs": [
    {
     "name": "stdout",
     "output_type": "stream",
     "text": [
      "(41188, 54) (41188, 16)\n"
     ]
    }
   ],
   "source": [
    "pca = PCA(n_components=0.8)\n",
    "c_pca = pca.fit_transform(ohe)\n",
    "print (ohe.shape, c_pca.shape)"
   ]
  },
  {
   "cell_type": "markdown",
   "metadata": {},
   "source": [
    "## Train/Test Split"
   ]
  },
  {
   "cell_type": "code",
   "execution_count": 15,
   "metadata": {},
   "outputs": [
    {
     "name": "stdout",
     "output_type": "stream",
     "text": [
      "(32950, 63)\n",
      "(8238, 63)\n"
     ]
    }
   ],
   "source": [
    "#Divide dataset into trainX, trainY, testX, testY \n",
    "X = imputed_bank_full.drop(['y'], axis = 1).values\n",
    "y = imputed_bank_full['y'].values\n",
    "X_train, X_test, y_train, y_test = train_test_split(X, y, test_size=0.2, random_state=42)\n",
    "print (X_train.shape)\n",
    "print (X_test.shape)"
   ]
  },
  {
   "cell_type": "code",
   "execution_count": 16,
   "metadata": {},
   "outputs": [
    {
     "name": "stdout",
     "output_type": "stream",
     "text": [
      "[[-1.66930454e-03 -6.31114175e-01 -2.06241614e-01 ... -4.72768672e-01\n",
      "   7.71353578e-01  8.43164863e-01]\n",
      " [-8.64094846e-01 -5.46321353e-01  5.13675879e-01 ... -1.22991627e+00\n",
      "  -1.37202838e+00 -9.39747538e-01]\n",
      " [ 1.81900684e+00 -9.43305926e-01  1.23359337e+00 ... -1.22991627e+00\n",
      "  -1.30858058e+00 -9.39747538e-01]\n",
      " ...\n",
      " [-4.80794606e-01 -2.45692259e-01 -5.66200360e-01 ...  2.94521191e+00\n",
      "  -1.65465948e+00 -2.06754329e+00]\n",
      " [-1.66930454e-03  1.43583876e-01 -2.06241614e-01 ...  8.90097004e-01\n",
      "   7.11366570e-01  3.30404785e-01]\n",
      " [-1.05574497e+00  2.90044203e-01 -2.06241614e-01 ... -4.72768672e-01\n",
      "   7.71353578e-01  8.43164863e-01]]\n"
     ]
    }
   ],
   "source": [
    "#Standardization,mean removal and variance scaling on the train set\n",
    "X_train_df = pd.DataFrame(data = X_train, columns = imputed_bank_full.drop(['y'], axis = 1).columns)\n",
    "X_train_df_num = X_train_df[num_columns]\n",
    "X_train_scaled = preprocessing.scale(X_train_df_num)\n",
    "print (X_train_scaled)"
   ]
  },
  {
   "cell_type": "code",
   "execution_count": 17,
   "metadata": {},
   "outputs": [
    {
     "name": "stdout",
     "output_type": "stream",
     "text": [
      "[[ 1.62735672  0.43650453 -0.56620036 ... -1.22991627 -1.34030448\n",
      "  -0.93974754]\n",
      " [ 1.4357066   0.10504168 -0.20624161 ...  0.890097    0.71367376\n",
      "   0.33040479]\n",
      " [-0.67244473 -0.79299138 -0.56620036 ... -1.22991627 -1.33222931\n",
      "  -0.93974754]\n",
      " ...\n",
      " [ 0.57328106 -0.44611166  3.39334585 ... -1.42461137 -1.27916388\n",
      "  -0.93974754]\n",
      " [-0.86409485  4.12113804 -0.20624161 ... -0.47276867  0.77308397\n",
      "   0.84316486]\n",
      " [ 1.81900684 -0.25725492 -0.20624161 ...  0.890097    0.71078977\n",
      "   0.33040479]]\n"
     ]
    }
   ],
   "source": [
    "# Compute the mean and standard deviation on the testing set\n",
    "scaler = preprocessing.StandardScaler().fit(X_train_df_num)\n",
    "X_test_df = pd.DataFrame(data = X_test, columns = imputed_bank_full.drop(['y'], axis = 1).columns)\n",
    "X_test_df_num = X_test_df[num_columns]\n",
    "X_test_scaled = scaler.transform(X_test_df_num)\n",
    "print (X_test_scaled)"
   ]
  },
  {
   "cell_type": "code",
   "execution_count": 18,
   "metadata": {},
   "outputs": [
    {
     "name": "stdout",
     "output_type": "stream",
     "text": [
      "(32950,)\n"
     ]
    }
   ],
   "source": [
    "print (y_train.shape)"
   ]
  },
  {
   "cell_type": "code",
   "execution_count": 21,
   "metadata": {},
   "outputs": [
    {
     "name": "stdout",
     "output_type": "stream",
     "text": [
      "[8.15509377e-02 2.76401194e-01 4.09972824e-02 1.07693496e-02\n",
      " 2.24329826e-02 2.34254232e-02 2.85886304e-02 9.10031086e-02\n",
      " 5.54233272e-02 5.49004835e-09 4.32873838e-08 1.38728685e-02\n",
      " 1.39483640e-02 8.27109011e-03 8.08495333e-03 1.45959233e-02\n",
      " 1.24206380e-02 8.18963538e-03 3.76719571e-03 3.25822786e-03\n",
      " 6.30827693e-03 1.56098965e-03 5.28432149e-03 4.25774682e-03\n",
      " 6.30801301e-03 4.42608951e-03 9.79185312e-03 3.78447455e-03\n",
      " 9.10103870e-03 8.92431109e-03 2.97469579e-03 2.74203132e-03\n",
      " 7.16279466e-04 2.79738962e-03 3.07876842e-03 4.85318245e-03\n",
      " 4.15166807e-03 2.54830240e-03 5.98083095e-03 2.08602396e-03\n",
      " 7.38055722e-03 1.18097107e-02 3.92560927e-04 1.06506134e-02\n",
      " 6.92783412e-03 6.76046231e-03 6.37966894e-03 4.43972019e-03\n",
      " 7.96855555e-03 1.09871159e-02 1.95826303e-04 4.85615075e-03\n",
      " 8.51163754e-03 1.25188677e-02 1.01505725e-02 1.12153685e-02\n",
      " 1.12297213e-02 1.08361356e-02 1.07798061e-02 8.34163981e-03\n",
      " 9.88297377e-03 1.28235831e-03 1.78246747e-02]\n"
     ]
    }
   ],
   "source": [
    "clf = RandomForestClassifier(max_depth=None, random_state=42, n_estimators =125, max_features= 'sqrt') \n",
    "clf.fit(X_train, y_train)\n",
    "print(clf.feature_importances_)"
   ]
  },
  {
   "cell_type": "code",
   "execution_count": 22,
   "metadata": {},
   "outputs": [
    {
     "name": "stdout",
     "output_type": "stream",
     "text": [
      "[1 1 1 ... 1 0 1]\n"
     ]
    }
   ],
   "source": [
    "y_predict = clf.predict(X_test)\n",
    "print(y_predict)"
   ]
  },
  {
   "cell_type": "code",
   "execution_count": 23,
   "metadata": {},
   "outputs": [
    {
     "name": "stdout",
     "output_type": "stream",
     "text": [
      "rf_probs:  [0.88  1.    1.    ... 0.952 0.44  0.992]\n",
      "roc_value:  0.9389947432049388\n",
      "Score:  0.9109007040543822\n"
     ]
    }
   ],
   "source": [
    "#Predict class probabilities for X_test\n",
    "rf_probs = clf.predict_proba(X_test)[:,1]\n",
    "print ('rf_probs: ', rf_probs)\n",
    "#Compute Area Under the Receiver Operating Characteristic Curve (ROC AUC) from prediction scores.\n",
    "roc_value = metrics.roc_auc_score(y_test, rf_probs)\n",
    "print ('roc_value: ', roc_value)\n",
    "# Model Accuracy, how often is the classifier correct?\n",
    "print ('Score: ', clf.score(X_test, y_test))"
   ]
  },
  {
   "cell_type": "code",
   "execution_count": 29,
   "metadata": {},
   "outputs": [
    {
     "name": "stdout",
     "output_type": "stream",
     "text": [
      "Parameters currently in use:\n",
      "\n",
      "{'bootstrap': True,\n",
      " 'ccp_alpha': 0.0,\n",
      " 'class_weight': None,\n",
      " 'criterion': 'gini',\n",
      " 'max_depth': None,\n",
      " 'max_features': 'auto',\n",
      " 'max_leaf_nodes': None,\n",
      " 'max_samples': None,\n",
      " 'min_impurity_decrease': 0.0,\n",
      " 'min_impurity_split': None,\n",
      " 'min_samples_leaf': 1,\n",
      " 'min_samples_split': 2,\n",
      " 'min_weight_fraction_leaf': 0.0,\n",
      " 'n_estimators': 100,\n",
      " 'n_jobs': None,\n",
      " 'oob_score': False,\n",
      " 'random_state': 42,\n",
      " 'verbose': 0,\n",
      " 'warm_start': False}\n"
     ]
    }
   ],
   "source": [
    "#Create a random forest and examine the default values\n",
    "# Get default hyperparameters\n",
    "rf = RandomForestClassifier(random_state = 42)\n",
    "print('Parameters currently in use:\\n')\n",
    "pprint(rf.get_params())"
   ]
  },
  {
   "cell_type": "code",
   "execution_count": 30,
   "metadata": {},
   "outputs": [
    {
     "name": "stdout",
     "output_type": "stream",
     "text": [
      "{'bootstrap': [True, False],\n",
      " 'max_depth': [10, 21, 32, 43, 54, 65, 76, 87, 98, 110, None],\n",
      " 'max_features': ['auto', 'sqrt'],\n",
      " 'min_samples_leaf': [1, 2, 4],\n",
      " 'min_samples_split': [2, 5, 10],\n",
      " 'n_estimators': [50, 77, 105, 133, 161, 188, 216, 244, 272, 300]}\n"
     ]
    }
   ],
   "source": [
    "# Method of selecting samples for training each tree\n",
    "bootstrap = [True, False]\n",
    "\n",
    "# Maximum number of levels in tree\n",
    "max_depth = [int(x) for x in np.linspace(10, 110, num = 10)]\n",
    "max_depth.append(None)\n",
    "\n",
    "# Number of features to consider at every split\n",
    "max_features = ['auto', 'sqrt']\n",
    "\n",
    "\n",
    "# Minimum number of samples required at each leaf node\n",
    "min_samples_leaf = [1, 2, 4]\n",
    "\n",
    "# Minimum number of samples required to split a node\n",
    "min_samples_split = [2, 5, 10]\n",
    "\n",
    "# Number of trees in random forest\n",
    "n_estimators = [int(x) for x in np.linspace(start = 50, stop = 300, num = 10)]\n",
    "\n",
    "# Create the random grid\n",
    "random_grid = {'n_estimators': n_estimators,\n",
    "               'max_features': max_features,\n",
    "               'max_depth': max_depth,\n",
    "               'min_samples_split': min_samples_split,\n",
    "               'min_samples_leaf': min_samples_leaf,\n",
    "               'bootstrap': bootstrap}\n",
    "pprint(random_grid)"
   ]
  },
  {
   "cell_type": "code",
   "execution_count": 41,
   "metadata": {},
   "outputs": [
    {
     "name": "stdout",
     "output_type": "stream",
     "text": [
      "Fitting 3 folds for each of 50 candidates, totalling 150 fits\n"
     ]
    },
    {
     "name": "stderr",
     "output_type": "stream",
     "text": [
      "[Parallel(n_jobs=-1)]: Using backend LokyBackend with 4 concurrent workers.\n",
      "[Parallel(n_jobs=-1)]: Done  33 tasks      | elapsed:  1.9min\n",
      "[Parallel(n_jobs=-1)]: Done 150 out of 150 | elapsed:  7.3min finished\n"
     ]
    },
    {
     "data": {
      "text/plain": [
       "RandomizedSearchCV(cv=3, error_score=nan,\n",
       "                   estimator=RandomForestClassifier(bootstrap=True,\n",
       "                                                    ccp_alpha=0.0,\n",
       "                                                    class_weight=None,\n",
       "                                                    criterion='gini',\n",
       "                                                    max_depth=None,\n",
       "                                                    max_features='auto',\n",
       "                                                    max_leaf_nodes=None,\n",
       "                                                    max_samples=None,\n",
       "                                                    min_impurity_decrease=0.0,\n",
       "                                                    min_impurity_split=None,\n",
       "                                                    min_samples_leaf=1,\n",
       "                                                    min_samples_split=2,\n",
       "                                                    min_weight_fraction_leaf=0.0,\n",
       "                                                    n_estimators=100,\n",
       "                                                    n_jobs...\n",
       "                   iid='deprecated', n_iter=50, n_jobs=-1,\n",
       "                   param_distributions={'bootstrap': [True, False],\n",
       "                                        'max_depth': [10, 21, 32, 43, 54, 65,\n",
       "                                                      76, 87, 98, 110, None],\n",
       "                                        'max_features': ['auto', 'sqrt'],\n",
       "                                        'min_samples_leaf': [1, 2, 4],\n",
       "                                        'min_samples_split': [2, 5, 10],\n",
       "                                        'n_estimators': [50, 77, 105, 133, 161,\n",
       "                                                         188, 216, 244, 272,\n",
       "                                                         300]},\n",
       "                   pre_dispatch='2*n_jobs', random_state=42, refit=True,\n",
       "                   return_train_score=False, scoring=None, verbose=2)"
      ]
     },
     "execution_count": 41,
     "metadata": {},
     "output_type": "execute_result"
    }
   ],
   "source": [
    "# Use the random grid to search for best hyperparameters\n",
    "# First create the base model to tune\n",
    "rf = RandomForestClassifier()\n",
    "# Random search of parameters, using 3 fold cross validation, \n",
    "# search across different combinations, and use all available cores\n",
    "rf_random = RandomizedSearchCV(estimator = rf, param_distributions = random_grid, n_iter = 50, cv = 3, verbose=2, random_state=42, n_jobs=-1)\n",
    "# Fit the random search model\n",
    "rf_random.fit(X_train, y_train)"
   ]
  },
  {
   "cell_type": "code",
   "execution_count": 50,
   "metadata": {},
   "outputs": [
    {
     "data": {
      "text/plain": [
       "{'n_estimators': 244,\n",
       " 'min_samples_split': 5,\n",
       " 'min_samples_leaf': 2,\n",
       " 'max_features': 'sqrt',\n",
       " 'max_depth': 54,\n",
       " 'bootstrap': True}"
      ]
     },
     "execution_count": 50,
     "metadata": {},
     "output_type": "execute_result"
    }
   ],
   "source": [
    "rf_random.best_params_"
   ]
  },
  {
   "cell_type": "code",
   "execution_count": 24,
   "metadata": {},
   "outputs": [
    {
     "name": "stdout",
     "output_type": "stream",
     "text": [
      "Model Performance\n",
      "Average Error: 9.8971 degrees.\n",
      "Accuracy = nan%.\n"
     ]
    },
    {
     "name": "stderr",
     "output_type": "stream",
     "text": [
      "C:\\Users\\wangs\\Anaconda3\\lib\\site-packages\\ipykernel_launcher.py:5: RuntimeWarning: divide by zero encountered in true_divide\n",
      "  \"\"\"\n",
      "C:\\Users\\wangs\\Anaconda3\\lib\\site-packages\\ipykernel_launcher.py:5: RuntimeWarning: invalid value encountered in true_divide\n",
      "  \"\"\"\n"
     ]
    }
   ],
   "source": [
    "#compare the base model with the best random search model\n",
    "def evaluate(model, test_features, test_labels):\n",
    "    predictions = model.predict(test_features)\n",
    "    errors = abs(predictions - test_labels)\n",
    "    mape = 100 * np.mean(errors / test_labels)\n",
    "    accuracy = 100 - mape\n",
    "    print('Model Performance')\n",
    "    print('Average Error: {:0.4f} degrees.'.format(np.mean(errors)))\n",
    "    print('Accuracy = {:0.2f}%.'.format(accuracy))\n",
    "    \n",
    "    return accuracy\n",
    "base_model = RandomForestClassifier(n_estimators = 10, random_state = 42)\n",
    "base_model.fit(X_train, y_train)\n",
    "base_accuracy = evaluate(base_model, X_test, y_test)"
   ]
  },
  {
   "cell_type": "code",
   "execution_count": 25,
   "metadata": {},
   "outputs": [
    {
     "name": "stdout",
     "output_type": "stream",
     "text": [
      "base_model rf_probs:  [1.  1.  1.  ... 1.  0.5 1. ]\n",
      "base_model roc_value:  0.9093443394810279\n",
      "base_model score:  0.9077445982034474\n"
     ]
    }
   ],
   "source": [
    "base_y_predict = base_model.predict(X_test)\n",
    "base_rf_probs = base_model.predict_proba(X_test)[:,1]\n",
    "print ('base_model rf_probs: ',base_rf_probs)\n",
    "base_roc_value = metrics.roc_auc_score(y_test, base_rf_probs)\n",
    "print ('base_model roc_value: ',base_roc_value)\n",
    "base_score = base_model.score(X_test, y_test)\n",
    "print ('base_model score: ', base_score)"
   ]
  },
  {
   "cell_type": "code",
   "execution_count": 53,
   "metadata": {},
   "outputs": [
    {
     "name": "stdout",
     "output_type": "stream",
     "text": [
      "RandomForestClassifier(bootstrap=True, ccp_alpha=0.0, class_weight=None,\n",
      "                       criterion='gini', max_depth=54, max_features='sqrt',\n",
      "                       max_leaf_nodes=None, max_samples=None,\n",
      "                       min_impurity_decrease=0.0, min_impurity_split=None,\n",
      "                       min_samples_leaf=2, min_samples_split=5,\n",
      "                       min_weight_fraction_leaf=0.0, n_estimators=244,\n",
      "                       n_jobs=None, oob_score=False, random_state=None,\n",
      "                       verbose=0, warm_start=False)\n"
     ]
    }
   ],
   "source": [
    "best_random = rf_random.best_estimator_\n",
    "print (best_random)"
   ]
  },
  {
   "cell_type": "code",
   "execution_count": 26,
   "metadata": {},
   "outputs": [
    {
     "ename": "NameError",
     "evalue": "name 'best_random' is not defined",
     "output_type": "error",
     "traceback": [
      "\u001b[1;31m---------------------------------------------------------------------------\u001b[0m",
      "\u001b[1;31mNameError\u001b[0m                                 Traceback (most recent call last)",
      "\u001b[1;32m<ipython-input-26-4688fd6c14e5>\u001b[0m in \u001b[0;36m<module>\u001b[1;34m\u001b[0m\n\u001b[1;32m----> 1\u001b[1;33m \u001b[0mbest_y_predict\u001b[0m \u001b[1;33m=\u001b[0m \u001b[0mbest_random\u001b[0m\u001b[1;33m.\u001b[0m\u001b[0mpredict\u001b[0m\u001b[1;33m(\u001b[0m\u001b[0mX_test\u001b[0m\u001b[1;33m)\u001b[0m\u001b[1;33m\u001b[0m\u001b[1;33m\u001b[0m\u001b[0m\n\u001b[0m\u001b[0;32m      2\u001b[0m \u001b[0mbest_rf_probs\u001b[0m \u001b[1;33m=\u001b[0m \u001b[0mbest_random\u001b[0m\u001b[1;33m.\u001b[0m\u001b[0mpredict_proba\u001b[0m\u001b[1;33m(\u001b[0m\u001b[0mX_test\u001b[0m\u001b[1;33m)\u001b[0m\u001b[1;33m[\u001b[0m\u001b[1;33m:\u001b[0m\u001b[1;33m,\u001b[0m\u001b[1;36m1\u001b[0m\u001b[1;33m]\u001b[0m\u001b[1;33m\u001b[0m\u001b[1;33m\u001b[0m\u001b[0m\n\u001b[0;32m      3\u001b[0m \u001b[0mprint\u001b[0m \u001b[1;33m(\u001b[0m\u001b[1;34m'best_random rf_probs: '\u001b[0m\u001b[1;33m,\u001b[0m \u001b[0mbest_rf_probs\u001b[0m\u001b[1;33m)\u001b[0m\u001b[1;33m\u001b[0m\u001b[1;33m\u001b[0m\u001b[0m\n\u001b[0;32m      4\u001b[0m \u001b[0mbest_roc_value\u001b[0m\u001b[1;33m=\u001b[0m\u001b[0mmetrics\u001b[0m\u001b[1;33m.\u001b[0m\u001b[0mroc_auc_score\u001b[0m\u001b[1;33m(\u001b[0m\u001b[0my_test\u001b[0m\u001b[1;33m,\u001b[0m \u001b[0mbest_rf_probs\u001b[0m\u001b[1;33m)\u001b[0m\u001b[1;33m\u001b[0m\u001b[1;33m\u001b[0m\u001b[0m\n\u001b[0;32m      5\u001b[0m \u001b[0mprint\u001b[0m \u001b[1;33m(\u001b[0m\u001b[1;34m'best_random rf_probs: '\u001b[0m\u001b[1;33m,\u001b[0m \u001b[0mbest_roc_value\u001b[0m\u001b[1;33m)\u001b[0m\u001b[1;33m\u001b[0m\u001b[1;33m\u001b[0m\u001b[0m\n",
      "\u001b[1;31mNameError\u001b[0m: name 'best_random' is not defined"
     ]
    }
   ],
   "source": [
    "best_y_predict = best_random.predict(X_test)\n",
    "best_rf_probs = best_random.predict_proba(X_test)[:,1]\n",
    "print ('best_random rf_probs: ', best_rf_probs)\n",
    "best_roc_value=metrics.roc_auc_score(y_test, best_rf_probs)\n",
    "print ('best_random rf_probs: ', best_roc_value)\n",
    "best_score = best_random.score(X_test, y_test)\n",
    "print ('best_random score: ', best_score)"
   ]
  },
  {
   "cell_type": "code",
   "execution_count": 56,
   "metadata": {},
   "outputs": [
    {
     "name": "stdout",
     "output_type": "stream",
     "text": [
      "Improvement of 1.09%.\n"
     ]
    }
   ],
   "source": [
    "print('Improvement of {:0.2f}%.'.format( 100 * (best_score - base_score) / base_score))"
   ]
  },
  {
   "cell_type": "markdown",
   "metadata": {},
   "source": [
    "## Grid Search with Cross Validation"
   ]
  },
  {
   "cell_type": "code",
   "execution_count": 32,
   "metadata": {},
   "outputs": [
    {
     "name": "stdout",
     "output_type": "stream",
     "text": [
      "{'bootstrap': [True],\n",
      " 'max_depth': [50, 70, 90, 110],\n",
      " 'max_features': ['sqrt', 3, 5],\n",
      " 'min_samples_leaf': [1, 2, 3],\n",
      " 'min_samples_split': [4, 5, 6],\n",
      " 'n_estimators': [100, 200, 300, 1000]}\n"
     ]
    }
   ],
   "source": [
    "# Create a parameter grid based on the best_estimator from random search result\n",
    "param_grid = {\n",
    "'n_estimators': [100, 200, 300, 1000],\n",
    " 'min_samples_split':[4, 5, 6],\n",
    " 'min_samples_leaf': [1,2,3],\n",
    " 'max_features': ['sqrt', 3, 5],\n",
    " 'max_depth': [50, 70, 90, 110],\n",
    " 'bootstrap': [True]\n",
    "}\n",
    "pprint(param_grid)"
   ]
  },
  {
   "cell_type": "code",
   "execution_count": 33,
   "metadata": {},
   "outputs": [
    {
     "name": "stdout",
     "output_type": "stream",
     "text": [
      "Fitting 3 folds for each of 432 candidates, totalling 1296 fits\n"
     ]
    },
    {
     "name": "stderr",
     "output_type": "stream",
     "text": [
      "[Parallel(n_jobs=-1)]: Using backend LokyBackend with 4 concurrent workers.\n",
      "[Parallel(n_jobs=-1)]: Done  33 tasks      | elapsed:  2.9min\n",
      "[Parallel(n_jobs=-1)]: Done 154 tasks      | elapsed: 12.7min\n",
      "[Parallel(n_jobs=-1)]: Done 357 tasks      | elapsed: 28.6min\n",
      "[Parallel(n_jobs=-1)]: Done 640 tasks      | elapsed: 56.3min\n",
      "[Parallel(n_jobs=-1)]: Done 1005 tasks      | elapsed: 89.1min\n",
      "[Parallel(n_jobs=-1)]: Done 1296 out of 1296 | elapsed: 111.3min finished\n"
     ]
    },
    {
     "data": {
      "text/plain": [
       "{'bootstrap': True,\n",
       " 'max_depth': 90,\n",
       " 'max_features': 'sqrt',\n",
       " 'min_samples_leaf': 2,\n",
       " 'min_samples_split': 4,\n",
       " 'n_estimators': 300}"
      ]
     },
     "execution_count": 33,
     "metadata": {},
     "output_type": "execute_result"
    }
   ],
   "source": [
    "# Create a based model\n",
    "rf = RandomForestClassifier()\n",
    "# Instantiate the grid search model\n",
    "grid_search = GridSearchCV(estimator = rf, param_grid = param_grid, cv = 3, n_jobs = -1, verbose = 2)   \n",
    "# Fit the grid search to the data\n",
    "grid_search.fit(X_train, y_train)\n",
    "# Find the best prameters\n",
    "grid_search.best_params_"
   ]
  },
  {
   "cell_type": "code",
   "execution_count": 34,
   "metadata": {},
   "outputs": [],
   "source": [
    "best_grid = grid_search.best_estimator_"
   ]
  },
  {
   "cell_type": "code",
   "execution_count": 37,
   "metadata": {},
   "outputs": [
    {
     "name": "stdout",
     "output_type": "stream",
     "text": [
      "Model Performance\n",
      "Average Error: 6.0995 degrees.\n",
      "Accuracy = nan%.\n"
     ]
    },
    {
     "name": "stderr",
     "output_type": "stream",
     "text": [
      "C:\\Users\\wangs\\Anaconda3\\lib\\site-packages\\ipykernel_launcher.py:5: RuntimeWarning: divide by zero encountered in true_divide\n",
      "  \"\"\"\n",
      "C:\\Users\\wangs\\Anaconda3\\lib\\site-packages\\ipykernel_launcher.py:5: RuntimeWarning: invalid value encountered in true_divide\n",
      "  \"\"\"\n"
     ]
    }
   ],
   "source": [
    "grid_accuracy = evaluate(best_grid, X_test, y_test)"
   ]
  },
  {
   "cell_type": "code",
   "execution_count": 39,
   "metadata": {},
   "outputs": [
    {
     "name": "stdout",
     "output_type": "stream",
     "text": [
      "best grid rf_probs:  [0.90392578 0.99871304 0.98832223 ... 0.92021756 0.48610493 0.9886346 ]\n",
      "best grid rf_probs:  0.9432933941878695\n",
      "best grid score:  0.9128429230395727\n"
     ]
    }
   ],
   "source": [
    "grid_rf_probs = best_grid.predict_proba(X_test)[:,1]\n",
    "print ('best grid rf_probs: ',grid_rf_probs)\n",
    "grid_roc_value=metrics.roc_auc_score(y_test, grid_rf_probs)\n",
    "print ('best grid rf_probs: ', grid_roc_value)\n",
    "grid_score = best_grid.score(X_test, y_test)\n",
    "print ('best grid score: ', grid_score)\n",
    "print('Improvement of {:0.2f}%.'.format( 100 * (grid_score - base_score) / base_score))"
   ]
  },
  {
   "cell_type": "code",
   "execution_count": null,
   "metadata": {},
   "outputs": [],
   "source": []
  },
  {
   "cell_type": "code",
   "execution_count": null,
   "metadata": {},
   "outputs": [],
   "source": []
  },
  {
   "cell_type": "code",
   "execution_count": null,
   "metadata": {},
   "outputs": [],
   "source": []
  }
 ],
 "metadata": {
  "kernelspec": {
   "display_name": "Python 3",
   "language": "python",
   "name": "python3"
  },
  "language_info": {
   "codemirror_mode": {
    "name": "ipython",
    "version": 3
   },
   "file_extension": ".py",
   "mimetype": "text/x-python",
   "name": "python",
   "nbconvert_exporter": "python",
   "pygments_lexer": "ipython3",
   "version": "3.7.4"
  }
 },
 "nbformat": 4,
 "nbformat_minor": 2
}
