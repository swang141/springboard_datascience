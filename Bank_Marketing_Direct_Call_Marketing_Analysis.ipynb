{
 "cells": [
  {
   "cell_type": "code",
   "execution_count": 103,
   "metadata": {
    "scrolled": true
   },
   "outputs": [],
   "source": [
    "%matplotlib inline\n",
    "import numpy as np\n",
    "import pandas as pd\n",
    "import matplotlib.pyplot as plt\n",
    "import seaborn as sns\n",
    "import statsmodels.api as sm\n",
    "from statsmodels.formula.api import ols\n",
    "from sklearn_pandas import CategoricalImputer\n",
    "from sklearn.model_selection import train_test_split \n",
    "from sklearn import preprocessing \n",
    "from sklearn.decomposition import PCA\n",
    "from sklearn.ensemble import RandomForestClassifier\n",
    "from sklearn.linear_model import LogisticRegression\n",
    "from sklearn.ensemble import GradientBoostingClassifier\n",
    "from sklearn import metrics\n",
    "from sklearn.model_selection import RandomizedSearchCV\n",
    "from sklearn.model_selection import GridSearchCV\n",
    "from sklearn.metrics import average_precision_score\n",
    "from sklearn.metrics import plot_precision_recall_curve\n",
    "from scipy import stats\n",
    "from pprint import pprint\n",
    "from collections import Counter\n",
    "from imblearn.over_sampling import SMOTE\n",
    "from statsmodels.stats.multicomp import pairwise_tukeyhsd"
   ]
  },
  {
   "cell_type": "code",
   "execution_count": 2,
   "metadata": {
    "scrolled": true
   },
   "outputs": [
    {
     "name": "stdout",
     "output_type": "stream",
     "text": [
      "   age        job  marital    education default housing loan    contact month  \\\n",
      "0   56  housemaid  married     basic.4y      no      no   no  telephone   may   \n",
      "1   57   services  married  high.school     NaN      no   no  telephone   may   \n",
      "2   37   services  married  high.school      no     yes   no  telephone   may   \n",
      "3   40     admin.  married     basic.6y      no      no   no  telephone   may   \n",
      "4   56   services  married  high.school      no      no  yes  telephone   may   \n",
      "\n",
      "  day_of_week  ...  campaign  pdays  previous  poutcome emp.var.rate  \\\n",
      "0         mon  ...         1    999         0       NaN          1.1   \n",
      "1         mon  ...         1    999         0       NaN          1.1   \n",
      "2         mon  ...         1    999         0       NaN          1.1   \n",
      "3         mon  ...         1    999         0       NaN          1.1   \n",
      "4         mon  ...         1    999         0       NaN          1.1   \n",
      "\n",
      "   cons.price.idx  cons.conf.idx  euribor3m  nr.employed   y  \n",
      "0          93.994          -36.4      4.857       5191.0  no  \n",
      "1          93.994          -36.4      4.857       5191.0  no  \n",
      "2          93.994          -36.4      4.857       5191.0  no  \n",
      "3          93.994          -36.4      4.857       5191.0  no  \n",
      "4          93.994          -36.4      4.857       5191.0  no  \n",
      "\n",
      "[5 rows x 21 columns]\n"
     ]
    }
   ],
   "source": [
    "bank_full = pd.read_csv(r'C:\\Users\\wangs\\Documents\\SpringBorad\\Project\\BANK_MARKETING_DATASET\\bank-additional\\bank-additional\\bank-additional-full.csv', sep = ';', na_values = ['unknown', 'nonexistent'])\n",
    "print (bank_full.head())"
   ]
  },
  {
   "cell_type": "markdown",
   "metadata": {},
   "source": [
    "The data is related with direct marketing campaigns (phone calls) of a Portuguese banking institution. The classification goal is to see the most important features for a clinet to subscribe and predict if the client will subscribe a term deposit (variable y).\n"
   ]
  },
  {
   "cell_type": "code",
   "execution_count": 3,
   "metadata": {},
   "outputs": [
    {
     "name": "stdout",
     "output_type": "stream",
     "text": [
      "<class 'pandas.core.frame.DataFrame'>\n",
      "RangeIndex: 41188 entries, 0 to 41187\n",
      "Data columns (total 21 columns):\n",
      " #   Column          Non-Null Count  Dtype  \n",
      "---  ------          --------------  -----  \n",
      " 0   age             41188 non-null  int64  \n",
      " 1   job             40858 non-null  object \n",
      " 2   marital         41108 non-null  object \n",
      " 3   education       39457 non-null  object \n",
      " 4   default         32591 non-null  object \n",
      " 5   housing         40198 non-null  object \n",
      " 6   loan            40198 non-null  object \n",
      " 7   contact         41188 non-null  object \n",
      " 8   month           41188 non-null  object \n",
      " 9   day_of_week     41188 non-null  object \n",
      " 10  duration        41188 non-null  int64  \n",
      " 11  campaign        41188 non-null  int64  \n",
      " 12  pdays           41188 non-null  int64  \n",
      " 13  previous        41188 non-null  int64  \n",
      " 14  poutcome        5625 non-null   object \n",
      " 15  emp.var.rate    41188 non-null  float64\n",
      " 16  cons.price.idx  41188 non-null  float64\n",
      " 17  cons.conf.idx   41188 non-null  float64\n",
      " 18  euribor3m       41188 non-null  float64\n",
      " 19  nr.employed     41188 non-null  float64\n",
      " 20  y               41188 non-null  object \n",
      "dtypes: float64(5), int64(5), object(11)\n",
      "memory usage: 6.6+ MB\n"
     ]
    }
   ],
   "source": [
    "bank_full.info()"
   ]
  },
  {
   "cell_type": "markdown",
   "metadata": {},
   "source": [
    "From the bank_full info, we can see that the dataset has 41,188 row, and 21 columns. Column job, marital, eductaion, default, housing, loan, and poutcome have missing values. "
   ]
  },
  {
   "cell_type": "code",
   "execution_count": 4,
   "metadata": {
    "scrolled": true
   },
   "outputs": [
    {
     "data": {
      "text/html": [
       "<div>\n",
       "<style scoped>\n",
       "    .dataframe tbody tr th:only-of-type {\n",
       "        vertical-align: middle;\n",
       "    }\n",
       "\n",
       "    .dataframe tbody tr th {\n",
       "        vertical-align: top;\n",
       "    }\n",
       "\n",
       "    .dataframe thead th {\n",
       "        text-align: right;\n",
       "    }\n",
       "</style>\n",
       "<table border=\"1\" class=\"dataframe\">\n",
       "  <thead>\n",
       "    <tr style=\"text-align: right;\">\n",
       "      <th></th>\n",
       "      <th>age</th>\n",
       "      <th>duration</th>\n",
       "      <th>campaign</th>\n",
       "      <th>pdays</th>\n",
       "      <th>previous</th>\n",
       "      <th>emp.var.rate</th>\n",
       "      <th>cons.price.idx</th>\n",
       "      <th>cons.conf.idx</th>\n",
       "      <th>euribor3m</th>\n",
       "      <th>nr.employed</th>\n",
       "    </tr>\n",
       "  </thead>\n",
       "  <tbody>\n",
       "    <tr>\n",
       "      <th>count</th>\n",
       "      <td>41188.00000</td>\n",
       "      <td>41188.000000</td>\n",
       "      <td>41188.000000</td>\n",
       "      <td>41188.000000</td>\n",
       "      <td>41188.000000</td>\n",
       "      <td>41188.000000</td>\n",
       "      <td>41188.000000</td>\n",
       "      <td>41188.000000</td>\n",
       "      <td>41188.000000</td>\n",
       "      <td>41188.000000</td>\n",
       "    </tr>\n",
       "    <tr>\n",
       "      <th>mean</th>\n",
       "      <td>40.02406</td>\n",
       "      <td>258.285010</td>\n",
       "      <td>2.567593</td>\n",
       "      <td>962.475454</td>\n",
       "      <td>0.172963</td>\n",
       "      <td>0.081886</td>\n",
       "      <td>93.575664</td>\n",
       "      <td>-40.502600</td>\n",
       "      <td>3.621291</td>\n",
       "      <td>5167.035911</td>\n",
       "    </tr>\n",
       "    <tr>\n",
       "      <th>std</th>\n",
       "      <td>10.42125</td>\n",
       "      <td>259.279249</td>\n",
       "      <td>2.770014</td>\n",
       "      <td>186.910907</td>\n",
       "      <td>0.494901</td>\n",
       "      <td>1.570960</td>\n",
       "      <td>0.578840</td>\n",
       "      <td>4.628198</td>\n",
       "      <td>1.734447</td>\n",
       "      <td>72.251528</td>\n",
       "    </tr>\n",
       "    <tr>\n",
       "      <th>min</th>\n",
       "      <td>17.00000</td>\n",
       "      <td>0.000000</td>\n",
       "      <td>1.000000</td>\n",
       "      <td>0.000000</td>\n",
       "      <td>0.000000</td>\n",
       "      <td>-3.400000</td>\n",
       "      <td>92.201000</td>\n",
       "      <td>-50.800000</td>\n",
       "      <td>0.634000</td>\n",
       "      <td>4963.600000</td>\n",
       "    </tr>\n",
       "    <tr>\n",
       "      <th>25%</th>\n",
       "      <td>32.00000</td>\n",
       "      <td>102.000000</td>\n",
       "      <td>1.000000</td>\n",
       "      <td>999.000000</td>\n",
       "      <td>0.000000</td>\n",
       "      <td>-1.800000</td>\n",
       "      <td>93.075000</td>\n",
       "      <td>-42.700000</td>\n",
       "      <td>1.344000</td>\n",
       "      <td>5099.100000</td>\n",
       "    </tr>\n",
       "    <tr>\n",
       "      <th>50%</th>\n",
       "      <td>38.00000</td>\n",
       "      <td>180.000000</td>\n",
       "      <td>2.000000</td>\n",
       "      <td>999.000000</td>\n",
       "      <td>0.000000</td>\n",
       "      <td>1.100000</td>\n",
       "      <td>93.749000</td>\n",
       "      <td>-41.800000</td>\n",
       "      <td>4.857000</td>\n",
       "      <td>5191.000000</td>\n",
       "    </tr>\n",
       "    <tr>\n",
       "      <th>75%</th>\n",
       "      <td>47.00000</td>\n",
       "      <td>319.000000</td>\n",
       "      <td>3.000000</td>\n",
       "      <td>999.000000</td>\n",
       "      <td>0.000000</td>\n",
       "      <td>1.400000</td>\n",
       "      <td>93.994000</td>\n",
       "      <td>-36.400000</td>\n",
       "      <td>4.961000</td>\n",
       "      <td>5228.100000</td>\n",
       "    </tr>\n",
       "    <tr>\n",
       "      <th>max</th>\n",
       "      <td>98.00000</td>\n",
       "      <td>4918.000000</td>\n",
       "      <td>56.000000</td>\n",
       "      <td>999.000000</td>\n",
       "      <td>7.000000</td>\n",
       "      <td>1.400000</td>\n",
       "      <td>94.767000</td>\n",
       "      <td>-26.900000</td>\n",
       "      <td>5.045000</td>\n",
       "      <td>5228.100000</td>\n",
       "    </tr>\n",
       "  </tbody>\n",
       "</table>\n",
       "</div>"
      ],
      "text/plain": [
       "               age      duration      campaign         pdays      previous  \\\n",
       "count  41188.00000  41188.000000  41188.000000  41188.000000  41188.000000   \n",
       "mean      40.02406    258.285010      2.567593    962.475454      0.172963   \n",
       "std       10.42125    259.279249      2.770014    186.910907      0.494901   \n",
       "min       17.00000      0.000000      1.000000      0.000000      0.000000   \n",
       "25%       32.00000    102.000000      1.000000    999.000000      0.000000   \n",
       "50%       38.00000    180.000000      2.000000    999.000000      0.000000   \n",
       "75%       47.00000    319.000000      3.000000    999.000000      0.000000   \n",
       "max       98.00000   4918.000000     56.000000    999.000000      7.000000   \n",
       "\n",
       "       emp.var.rate  cons.price.idx  cons.conf.idx     euribor3m   nr.employed  \n",
       "count  41188.000000    41188.000000   41188.000000  41188.000000  41188.000000  \n",
       "mean       0.081886       93.575664     -40.502600      3.621291   5167.035911  \n",
       "std        1.570960        0.578840       4.628198      1.734447     72.251528  \n",
       "min       -3.400000       92.201000     -50.800000      0.634000   4963.600000  \n",
       "25%       -1.800000       93.075000     -42.700000      1.344000   5099.100000  \n",
       "50%        1.100000       93.749000     -41.800000      4.857000   5191.000000  \n",
       "75%        1.400000       93.994000     -36.400000      4.961000   5228.100000  \n",
       "max        1.400000       94.767000     -26.900000      5.045000   5228.100000  "
      ]
     },
     "execution_count": 4,
     "metadata": {},
     "output_type": "execute_result"
    }
   ],
   "source": [
    "bank_full.describe()"
   ]
  },
  {
   "cell_type": "markdown",
   "metadata": {},
   "source": [
    "The describe data shows a general picture for numeric variables. We can see the that most customers are in the middle ages from 30 – 47 years old.  75% of the phone call duration is below 319 seconds. Most pdays values are 999, which means most client was not previously contacted.Employment variation rate, consumer price index,  consumer confidence index, euribor 3 month rate, and  number of employees are economic related data that reflect the big economic environment. \n",
    "\n"
   ]
  },
  {
   "cell_type": "code",
   "execution_count": 5,
   "metadata": {},
   "outputs": [
    {
     "name": "stdout",
     "output_type": "stream",
     "text": [
      "Index(['age', 'job', 'marital', 'education', 'default', 'housing', 'loan',\n",
      "       'contact', 'month', 'day_of_week', 'duration', 'campaign', 'pdays',\n",
      "       'previous', 'poutcome', 'emp.var.rate', 'cons.price.idx',\n",
      "       'cons.conf.idx', 'euribor3m', 'nr.employed', 'y'],\n",
      "      dtype='object')\n"
     ]
    }
   ],
   "source": [
    "#Identify numeric and categorical variables \n",
    "total_columns = bank_full.columns\n",
    "print (total_columns)"
   ]
  },
  {
   "cell_type": "code",
   "execution_count": 6,
   "metadata": {},
   "outputs": [
    {
     "name": "stdout",
     "output_type": "stream",
     "text": [
      "['age', 'duration', 'campaign', 'pdays', 'previous', 'emp.var.rate', 'cons.price.idx', 'cons.conf.idx', 'euribor3m', 'nr.employed']\n"
     ]
    }
   ],
   "source": [
    "num_columns = list(bank_full._get_numeric_data().columns)\n",
    "print (num_columns)"
   ]
  },
  {
   "cell_type": "code",
   "execution_count": 7,
   "metadata": {},
   "outputs": [
    {
     "name": "stdout",
     "output_type": "stream",
     "text": [
      "['education', 'contact', 'month', 'loan', 'day_of_week', 'y', 'default', 'housing', 'marital', 'job', 'poutcome']\n"
     ]
    }
   ],
   "source": [
    "cat_columns = list(set(total_columns) - set(num_columns))\n",
    "print (cat_columns)"
   ]
  },
  {
   "cell_type": "markdown",
   "metadata": {},
   "source": [
    "## Missing Values Imputation"
   ]
  },
  {
   "cell_type": "code",
   "execution_count": 8,
   "metadata": {},
   "outputs": [
    {
     "data": {
      "text/plain": [
       "poutcome          86.343110\n",
       "default           20.872584\n",
       "education          4.202680\n",
       "housing            2.403613\n",
       "loan               2.403613\n",
       "job                0.801204\n",
       "marital            0.194231\n",
       "y                  0.000000\n",
       "day_of_week        0.000000\n",
       "contact            0.000000\n",
       "month              0.000000\n",
       "duration           0.000000\n",
       "nr.employed        0.000000\n",
       "campaign           0.000000\n",
       "pdays              0.000000\n",
       "previous           0.000000\n",
       "emp.var.rate       0.000000\n",
       "cons.price.idx     0.000000\n",
       "cons.conf.idx      0.000000\n",
       "euribor3m          0.000000\n",
       "age                0.000000\n",
       "dtype: float64"
      ]
     },
     "execution_count": 8,
     "metadata": {},
     "output_type": "execute_result"
    }
   ],
   "source": [
    "#Find missing value percentage for each column\n",
    "bank_full.isnull().mean().sort_values(ascending=False)*100"
   ]
  },
  {
   "cell_type": "code",
   "execution_count": 9,
   "metadata": {},
   "outputs": [
    {
     "data": {
      "text/plain": [
       "0       0.036418\n",
       "1       0.063125\n",
       "2       0.148101\n",
       "3       1.065844\n",
       "4       0.286491\n",
       "5       0.111683\n",
       "6       1.000291\n",
       "7       0.145673\n",
       "8       0.043702\n",
       "9       0.155385\n",
       "10      0.126250\n",
       "11      0.067981\n",
       "12      0.140818\n",
       "13      0.087404\n",
       "14      0.048558\n",
       "15      0.058269\n",
       "16      0.026707\n",
       "17      0.019423\n",
       "18      0.016995\n",
       "19      0.007284\n",
       "20      0.002428\n",
       "21      0.004856\n",
       "22      0.007284\n",
       "25      0.002428\n",
       "26      0.002428\n",
       "27      0.002428\n",
       "999    96.321744\n",
       "Name: pdays, dtype: float64"
      ]
     },
     "execution_count": 9,
     "metadata": {},
     "output_type": "execute_result"
    }
   ],
   "source": [
    "#Find value counts in percentage for pdays column\n",
    "(bank_full.pdays.value_counts()/bank_full.pdays.count()).sort_index()*100"
   ]
  },
  {
   "cell_type": "markdown",
   "metadata": {},
   "source": [
    "By calculating the percentage of missing values for each column, we can see that 86% of the values in 'poutcoume' (previous outcome) column are missing values.And for pday column, the value of 999 takes up 96% of the rows. We know that 999 means client was not previously contacted. That makes sense because the previous outcome is missing when there is no previous contact. "
   ]
  },
  {
   "cell_type": "code",
   "execution_count": 10,
   "metadata": {},
   "outputs": [
    {
     "data": {
      "text/html": [
       "<div>\n",
       "<style scoped>\n",
       "    .dataframe tbody tr th:only-of-type {\n",
       "        vertical-align: middle;\n",
       "    }\n",
       "\n",
       "    .dataframe tbody tr th {\n",
       "        vertical-align: top;\n",
       "    }\n",
       "\n",
       "    .dataframe thead th {\n",
       "        text-align: right;\n",
       "    }\n",
       "</style>\n",
       "<table border=\"1\" class=\"dataframe\">\n",
       "  <thead>\n",
       "    <tr style=\"text-align: right;\">\n",
       "      <th></th>\n",
       "      <th>age</th>\n",
       "      <th>job</th>\n",
       "      <th>marital</th>\n",
       "      <th>education</th>\n",
       "      <th>default</th>\n",
       "      <th>housing</th>\n",
       "      <th>loan</th>\n",
       "      <th>contact</th>\n",
       "      <th>month</th>\n",
       "      <th>day_of_week</th>\n",
       "      <th>...</th>\n",
       "      <th>campaign</th>\n",
       "      <th>previous</th>\n",
       "      <th>poutcome</th>\n",
       "      <th>emp.var.rate</th>\n",
       "      <th>cons.price.idx</th>\n",
       "      <th>cons.conf.idx</th>\n",
       "      <th>euribor3m</th>\n",
       "      <th>nr.employed</th>\n",
       "      <th>y</th>\n",
       "      <th>pdays_cat</th>\n",
       "    </tr>\n",
       "  </thead>\n",
       "  <tbody>\n",
       "    <tr>\n",
       "      <th>0</th>\n",
       "      <td>56</td>\n",
       "      <td>housemaid</td>\n",
       "      <td>married</td>\n",
       "      <td>basic.4y</td>\n",
       "      <td>no</td>\n",
       "      <td>no</td>\n",
       "      <td>no</td>\n",
       "      <td>telephone</td>\n",
       "      <td>may</td>\n",
       "      <td>mon</td>\n",
       "      <td>...</td>\n",
       "      <td>1</td>\n",
       "      <td>0</td>\n",
       "      <td>NaN</td>\n",
       "      <td>1.1</td>\n",
       "      <td>93.994</td>\n",
       "      <td>-36.4</td>\n",
       "      <td>4.857</td>\n",
       "      <td>5191.0</td>\n",
       "      <td>no</td>\n",
       "      <td>no contact before</td>\n",
       "    </tr>\n",
       "    <tr>\n",
       "      <th>1</th>\n",
       "      <td>57</td>\n",
       "      <td>services</td>\n",
       "      <td>married</td>\n",
       "      <td>high.school</td>\n",
       "      <td>NaN</td>\n",
       "      <td>no</td>\n",
       "      <td>no</td>\n",
       "      <td>telephone</td>\n",
       "      <td>may</td>\n",
       "      <td>mon</td>\n",
       "      <td>...</td>\n",
       "      <td>1</td>\n",
       "      <td>0</td>\n",
       "      <td>NaN</td>\n",
       "      <td>1.1</td>\n",
       "      <td>93.994</td>\n",
       "      <td>-36.4</td>\n",
       "      <td>4.857</td>\n",
       "      <td>5191.0</td>\n",
       "      <td>no</td>\n",
       "      <td>no contact before</td>\n",
       "    </tr>\n",
       "    <tr>\n",
       "      <th>2</th>\n",
       "      <td>37</td>\n",
       "      <td>services</td>\n",
       "      <td>married</td>\n",
       "      <td>high.school</td>\n",
       "      <td>no</td>\n",
       "      <td>yes</td>\n",
       "      <td>no</td>\n",
       "      <td>telephone</td>\n",
       "      <td>may</td>\n",
       "      <td>mon</td>\n",
       "      <td>...</td>\n",
       "      <td>1</td>\n",
       "      <td>0</td>\n",
       "      <td>NaN</td>\n",
       "      <td>1.1</td>\n",
       "      <td>93.994</td>\n",
       "      <td>-36.4</td>\n",
       "      <td>4.857</td>\n",
       "      <td>5191.0</td>\n",
       "      <td>no</td>\n",
       "      <td>no contact before</td>\n",
       "    </tr>\n",
       "    <tr>\n",
       "      <th>3</th>\n",
       "      <td>40</td>\n",
       "      <td>admin.</td>\n",
       "      <td>married</td>\n",
       "      <td>basic.6y</td>\n",
       "      <td>no</td>\n",
       "      <td>no</td>\n",
       "      <td>no</td>\n",
       "      <td>telephone</td>\n",
       "      <td>may</td>\n",
       "      <td>mon</td>\n",
       "      <td>...</td>\n",
       "      <td>1</td>\n",
       "      <td>0</td>\n",
       "      <td>NaN</td>\n",
       "      <td>1.1</td>\n",
       "      <td>93.994</td>\n",
       "      <td>-36.4</td>\n",
       "      <td>4.857</td>\n",
       "      <td>5191.0</td>\n",
       "      <td>no</td>\n",
       "      <td>no contact before</td>\n",
       "    </tr>\n",
       "    <tr>\n",
       "      <th>4</th>\n",
       "      <td>56</td>\n",
       "      <td>services</td>\n",
       "      <td>married</td>\n",
       "      <td>high.school</td>\n",
       "      <td>no</td>\n",
       "      <td>no</td>\n",
       "      <td>yes</td>\n",
       "      <td>telephone</td>\n",
       "      <td>may</td>\n",
       "      <td>mon</td>\n",
       "      <td>...</td>\n",
       "      <td>1</td>\n",
       "      <td>0</td>\n",
       "      <td>NaN</td>\n",
       "      <td>1.1</td>\n",
       "      <td>93.994</td>\n",
       "      <td>-36.4</td>\n",
       "      <td>4.857</td>\n",
       "      <td>5191.0</td>\n",
       "      <td>no</td>\n",
       "      <td>no contact before</td>\n",
       "    </tr>\n",
       "  </tbody>\n",
       "</table>\n",
       "<p>5 rows × 21 columns</p>\n",
       "</div>"
      ],
      "text/plain": [
       "   age        job  marital    education default housing loan    contact month  \\\n",
       "0   56  housemaid  married     basic.4y      no      no   no  telephone   may   \n",
       "1   57   services  married  high.school     NaN      no   no  telephone   may   \n",
       "2   37   services  married  high.school      no     yes   no  telephone   may   \n",
       "3   40     admin.  married     basic.6y      no      no   no  telephone   may   \n",
       "4   56   services  married  high.school      no      no  yes  telephone   may   \n",
       "\n",
       "  day_of_week  ...  campaign  previous  poutcome emp.var.rate  cons.price.idx  \\\n",
       "0         mon  ...         1         0       NaN          1.1          93.994   \n",
       "1         mon  ...         1         0       NaN          1.1          93.994   \n",
       "2         mon  ...         1         0       NaN          1.1          93.994   \n",
       "3         mon  ...         1         0       NaN          1.1          93.994   \n",
       "4         mon  ...         1         0       NaN          1.1          93.994   \n",
       "\n",
       "   cons.conf.idx  euribor3m  nr.employed   y          pdays_cat  \n",
       "0          -36.4      4.857       5191.0  no  no contact before  \n",
       "1          -36.4      4.857       5191.0  no  no contact before  \n",
       "2          -36.4      4.857       5191.0  no  no contact before  \n",
       "3          -36.4      4.857       5191.0  no  no contact before  \n",
       "4          -36.4      4.857       5191.0  no  no contact before  \n",
       "\n",
       "[5 rows x 21 columns]"
      ]
     },
     "execution_count": 10,
     "metadata": {},
     "output_type": "execute_result"
    }
   ],
   "source": [
    "bank_full['pdays_cat']=0\n",
    "bank_full.loc[bank_full['pdays'] <= 5,'pdays_cat'] = '<= 5 days'\n",
    "bank_full.loc[(bank_full['pdays'] > 5) & (bank_full['pdays']<= 10),'pdays_cat'] = '5-10 days'\n",
    "bank_full.loc[(bank_full['pdays'] > 10) & (bank_full['pdays']< 999),'pdays_cat'] = '>10 days'\n",
    "bank_full.loc [bank_full['pdays'] == 999, 'pdays_cat']= 'no contact before'\n",
    "bank_full['pdays_cat'].unique()\n",
    "bank_full = bank_full.drop('pdays', axis = 1)\n",
    "bank_full.head()"
   ]
  },
  {
   "cell_type": "code",
   "execution_count": 11,
   "metadata": {},
   "outputs": [
    {
     "name": "stdout",
     "output_type": "stream",
     "text": [
      "Categorical: ['education', 'contact', 'month', 'loan', 'day_of_week', 'y', 'default', 'housing', 'marital', 'job', 'poutcome', 'pdays_cat'] \n",
      " Numerical: ['age', 'duration', 'campaign', 'previous', 'emp.var.rate', 'cons.price.idx', 'cons.conf.idx', 'euribor3m', 'nr.employed']\n"
     ]
    }
   ],
   "source": [
    "cat_columns.append('pdays_cat')\n",
    "num_columns.remove('pdays')\n",
    "print ('Categorical:', cat_columns, '\\n', 'Numerical:', num_columns)"
   ]
  },
  {
   "cell_type": "markdown",
   "metadata": {},
   "source": [
    "To deal with 'pdays' column, a new column 'pday_cat'is created with categorical values based on the condition of 'pdays' column. The coresponding pdays_cat value is assigned as '<= 5 days', '5-10 days', '>10 days' and 'no contact before' if 'pdays' is 999. The origianl 'pdays' column is dropped."
   ]
  },
  {
   "cell_type": "markdown",
   "metadata": {},
   "source": [
    "# Apply One-Hot Encoding"
   ]
  },
  {
   "cell_type": "code",
   "execution_count": 12,
   "metadata": {},
   "outputs": [],
   "source": [
    "imputer = CategoricalImputer()\n",
    "bank_full[cat_columns] = imputer.fit_transform(bank_full[cat_columns].values)"
   ]
  },
  {
   "cell_type": "code",
   "execution_count": 13,
   "metadata": {},
   "outputs": [
    {
     "name": "stdout",
     "output_type": "stream",
     "text": [
      "['education_basic.4y' 'education_basic.6y' 'education_basic.9y'\n",
      " 'education_high.school' 'education_illiterate' 'education_no'\n",
      " 'education_professional.course' 'education_university.degree'\n",
      " 'contact_cellular' 'contact_telephone' 'month_apr' 'month_aug'\n",
      " 'month_dec' 'month_jul' 'month_jun' 'month_mar' 'month_may' 'month_nov'\n",
      " 'month_oct' 'month_sep' 'loan_no' 'loan_yes' 'day_of_week_fri'\n",
      " 'day_of_week_mon' 'day_of_week_thu' 'day_of_week_tue' 'day_of_week_wed'\n",
      " 'y_no' 'y_yes' 'default_no' 'default_yes' 'housing_no' 'housing_yes'\n",
      " 'marital_divorced' 'marital_married' 'marital_no' 'marital_single'\n",
      " 'job_admin.' 'job_blue-collar' 'job_entrepreneur' 'job_housemaid'\n",
      " 'job_management' 'job_no' 'job_retired' 'job_self-employed'\n",
      " 'job_services' 'job_student' 'job_technician' 'job_unemployed'\n",
      " 'poutcome_failure' 'poutcome_no' 'poutcome_success' 'pdays_cat_5-10 days'\n",
      " 'pdays_cat_<= 5 days' 'pdays_cat_>10 days' 'pdays_cat_no contact before']\n"
     ]
    },
    {
     "data": {
      "text/html": [
       "<div>\n",
       "<style scoped>\n",
       "    .dataframe tbody tr th:only-of-type {\n",
       "        vertical-align: middle;\n",
       "    }\n",
       "\n",
       "    .dataframe tbody tr th {\n",
       "        vertical-align: top;\n",
       "    }\n",
       "\n",
       "    .dataframe thead th {\n",
       "        text-align: right;\n",
       "    }\n",
       "</style>\n",
       "<table border=\"1\" class=\"dataframe\">\n",
       "  <thead>\n",
       "    <tr style=\"text-align: right;\">\n",
       "      <th></th>\n",
       "      <th>education_basic.4y</th>\n",
       "      <th>education_basic.6y</th>\n",
       "      <th>education_basic.9y</th>\n",
       "      <th>education_high.school</th>\n",
       "      <th>education_illiterate</th>\n",
       "      <th>education_no</th>\n",
       "      <th>education_professional.course</th>\n",
       "      <th>education_university.degree</th>\n",
       "      <th>contact_cellular</th>\n",
       "      <th>contact_telephone</th>\n",
       "      <th>...</th>\n",
       "      <th>job_student</th>\n",
       "      <th>job_technician</th>\n",
       "      <th>job_unemployed</th>\n",
       "      <th>poutcome_failure</th>\n",
       "      <th>poutcome_no</th>\n",
       "      <th>poutcome_success</th>\n",
       "      <th>pdays_cat_5-10 days</th>\n",
       "      <th>pdays_cat_&lt;= 5 days</th>\n",
       "      <th>pdays_cat_&gt;10 days</th>\n",
       "      <th>pdays_cat_no contact before</th>\n",
       "    </tr>\n",
       "  </thead>\n",
       "  <tbody>\n",
       "    <tr>\n",
       "      <th>0</th>\n",
       "      <td>1.0</td>\n",
       "      <td>0.0</td>\n",
       "      <td>0.0</td>\n",
       "      <td>0.0</td>\n",
       "      <td>0.0</td>\n",
       "      <td>0.0</td>\n",
       "      <td>0.0</td>\n",
       "      <td>0.0</td>\n",
       "      <td>0.0</td>\n",
       "      <td>1.0</td>\n",
       "      <td>...</td>\n",
       "      <td>0.0</td>\n",
       "      <td>0.0</td>\n",
       "      <td>0.0</td>\n",
       "      <td>0.0</td>\n",
       "      <td>1.0</td>\n",
       "      <td>0.0</td>\n",
       "      <td>0.0</td>\n",
       "      <td>0.0</td>\n",
       "      <td>0.0</td>\n",
       "      <td>1.0</td>\n",
       "    </tr>\n",
       "    <tr>\n",
       "      <th>1</th>\n",
       "      <td>0.0</td>\n",
       "      <td>0.0</td>\n",
       "      <td>0.0</td>\n",
       "      <td>1.0</td>\n",
       "      <td>0.0</td>\n",
       "      <td>0.0</td>\n",
       "      <td>0.0</td>\n",
       "      <td>0.0</td>\n",
       "      <td>0.0</td>\n",
       "      <td>1.0</td>\n",
       "      <td>...</td>\n",
       "      <td>0.0</td>\n",
       "      <td>0.0</td>\n",
       "      <td>0.0</td>\n",
       "      <td>0.0</td>\n",
       "      <td>1.0</td>\n",
       "      <td>0.0</td>\n",
       "      <td>0.0</td>\n",
       "      <td>0.0</td>\n",
       "      <td>0.0</td>\n",
       "      <td>1.0</td>\n",
       "    </tr>\n",
       "    <tr>\n",
       "      <th>2</th>\n",
       "      <td>0.0</td>\n",
       "      <td>0.0</td>\n",
       "      <td>0.0</td>\n",
       "      <td>1.0</td>\n",
       "      <td>0.0</td>\n",
       "      <td>0.0</td>\n",
       "      <td>0.0</td>\n",
       "      <td>0.0</td>\n",
       "      <td>0.0</td>\n",
       "      <td>1.0</td>\n",
       "      <td>...</td>\n",
       "      <td>0.0</td>\n",
       "      <td>0.0</td>\n",
       "      <td>0.0</td>\n",
       "      <td>0.0</td>\n",
       "      <td>1.0</td>\n",
       "      <td>0.0</td>\n",
       "      <td>0.0</td>\n",
       "      <td>0.0</td>\n",
       "      <td>0.0</td>\n",
       "      <td>1.0</td>\n",
       "    </tr>\n",
       "    <tr>\n",
       "      <th>3</th>\n",
       "      <td>0.0</td>\n",
       "      <td>1.0</td>\n",
       "      <td>0.0</td>\n",
       "      <td>0.0</td>\n",
       "      <td>0.0</td>\n",
       "      <td>0.0</td>\n",
       "      <td>0.0</td>\n",
       "      <td>0.0</td>\n",
       "      <td>0.0</td>\n",
       "      <td>1.0</td>\n",
       "      <td>...</td>\n",
       "      <td>0.0</td>\n",
       "      <td>0.0</td>\n",
       "      <td>0.0</td>\n",
       "      <td>0.0</td>\n",
       "      <td>1.0</td>\n",
       "      <td>0.0</td>\n",
       "      <td>0.0</td>\n",
       "      <td>0.0</td>\n",
       "      <td>0.0</td>\n",
       "      <td>1.0</td>\n",
       "    </tr>\n",
       "    <tr>\n",
       "      <th>4</th>\n",
       "      <td>0.0</td>\n",
       "      <td>0.0</td>\n",
       "      <td>0.0</td>\n",
       "      <td>1.0</td>\n",
       "      <td>0.0</td>\n",
       "      <td>0.0</td>\n",
       "      <td>0.0</td>\n",
       "      <td>0.0</td>\n",
       "      <td>0.0</td>\n",
       "      <td>1.0</td>\n",
       "      <td>...</td>\n",
       "      <td>0.0</td>\n",
       "      <td>0.0</td>\n",
       "      <td>0.0</td>\n",
       "      <td>0.0</td>\n",
       "      <td>1.0</td>\n",
       "      <td>0.0</td>\n",
       "      <td>0.0</td>\n",
       "      <td>0.0</td>\n",
       "      <td>0.0</td>\n",
       "      <td>1.0</td>\n",
       "    </tr>\n",
       "  </tbody>\n",
       "</table>\n",
       "<p>5 rows × 56 columns</p>\n",
       "</div>"
      ],
      "text/plain": [
       "   education_basic.4y  education_basic.6y  education_basic.9y  \\\n",
       "0                 1.0                 0.0                 0.0   \n",
       "1                 0.0                 0.0                 0.0   \n",
       "2                 0.0                 0.0                 0.0   \n",
       "3                 0.0                 1.0                 0.0   \n",
       "4                 0.0                 0.0                 0.0   \n",
       "\n",
       "   education_high.school  education_illiterate  education_no  \\\n",
       "0                    0.0                   0.0           0.0   \n",
       "1                    1.0                   0.0           0.0   \n",
       "2                    1.0                   0.0           0.0   \n",
       "3                    0.0                   0.0           0.0   \n",
       "4                    1.0                   0.0           0.0   \n",
       "\n",
       "   education_professional.course  education_university.degree  \\\n",
       "0                            0.0                          0.0   \n",
       "1                            0.0                          0.0   \n",
       "2                            0.0                          0.0   \n",
       "3                            0.0                          0.0   \n",
       "4                            0.0                          0.0   \n",
       "\n",
       "   contact_cellular  contact_telephone  ...  job_student  job_technician  \\\n",
       "0               0.0                1.0  ...          0.0             0.0   \n",
       "1               0.0                1.0  ...          0.0             0.0   \n",
       "2               0.0                1.0  ...          0.0             0.0   \n",
       "3               0.0                1.0  ...          0.0             0.0   \n",
       "4               0.0                1.0  ...          0.0             0.0   \n",
       "\n",
       "   job_unemployed  poutcome_failure  poutcome_no  poutcome_success  \\\n",
       "0             0.0               0.0          1.0               0.0   \n",
       "1             0.0               0.0          1.0               0.0   \n",
       "2             0.0               0.0          1.0               0.0   \n",
       "3             0.0               0.0          1.0               0.0   \n",
       "4             0.0               0.0          1.0               0.0   \n",
       "\n",
       "   pdays_cat_5-10 days  pdays_cat_<= 5 days  pdays_cat_>10 days  \\\n",
       "0                  0.0                  0.0                 0.0   \n",
       "1                  0.0                  0.0                 0.0   \n",
       "2                  0.0                  0.0                 0.0   \n",
       "3                  0.0                  0.0                 0.0   \n",
       "4                  0.0                  0.0                 0.0   \n",
       "\n",
       "   pdays_cat_no contact before  \n",
       "0                          1.0  \n",
       "1                          1.0  \n",
       "2                          1.0  \n",
       "3                          1.0  \n",
       "4                          1.0  \n",
       "\n",
       "[5 rows x 56 columns]"
      ]
     },
     "execution_count": 13,
     "metadata": {},
     "output_type": "execute_result"
    }
   ],
   "source": [
    "bankcat = bank_full[cat_columns]\n",
    "enc = preprocessing.OneHotEncoder(handle_unknown ='ignore')\n",
    "enc.fit(bankcat)\n",
    "ohe=enc.transform(bankcat).toarray()\n",
    "ohe_columns = enc.get_feature_names(cat_columns)\n",
    "print (ohe_columns)\n",
    "ohdf = pd.DataFrame(ohe, columns=ohe_columns)\n",
    "ohdf.head()"
   ]
  },
  {
   "cell_type": "code",
   "execution_count": 14,
   "metadata": {},
   "outputs": [
    {
     "data": {
      "text/html": [
       "<div>\n",
       "<style scoped>\n",
       "    .dataframe tbody tr th:only-of-type {\n",
       "        vertical-align: middle;\n",
       "    }\n",
       "\n",
       "    .dataframe tbody tr th {\n",
       "        vertical-align: top;\n",
       "    }\n",
       "\n",
       "    .dataframe thead th {\n",
       "        text-align: right;\n",
       "    }\n",
       "</style>\n",
       "<table border=\"1\" class=\"dataframe\">\n",
       "  <thead>\n",
       "    <tr style=\"text-align: right;\">\n",
       "      <th></th>\n",
       "      <th>age</th>\n",
       "      <th>duration</th>\n",
       "      <th>campaign</th>\n",
       "      <th>previous</th>\n",
       "      <th>emp.var.rate</th>\n",
       "      <th>cons.price.idx</th>\n",
       "      <th>cons.conf.idx</th>\n",
       "      <th>euribor3m</th>\n",
       "      <th>nr.employed</th>\n",
       "      <th>education_basic.4y</th>\n",
       "      <th>...</th>\n",
       "      <th>job_student</th>\n",
       "      <th>job_technician</th>\n",
       "      <th>job_unemployed</th>\n",
       "      <th>poutcome_failure</th>\n",
       "      <th>poutcome_no</th>\n",
       "      <th>poutcome_success</th>\n",
       "      <th>pdays_cat_5-10 days</th>\n",
       "      <th>pdays_cat_&lt;= 5 days</th>\n",
       "      <th>pdays_cat_&gt;10 days</th>\n",
       "      <th>pdays_cat_no contact before</th>\n",
       "    </tr>\n",
       "  </thead>\n",
       "  <tbody>\n",
       "    <tr>\n",
       "      <th>0</th>\n",
       "      <td>56</td>\n",
       "      <td>261</td>\n",
       "      <td>1</td>\n",
       "      <td>0</td>\n",
       "      <td>1.1</td>\n",
       "      <td>93.994</td>\n",
       "      <td>-36.4</td>\n",
       "      <td>4.857</td>\n",
       "      <td>5191.0</td>\n",
       "      <td>1.0</td>\n",
       "      <td>...</td>\n",
       "      <td>0.0</td>\n",
       "      <td>0.0</td>\n",
       "      <td>0.0</td>\n",
       "      <td>0.0</td>\n",
       "      <td>1.0</td>\n",
       "      <td>0.0</td>\n",
       "      <td>0.0</td>\n",
       "      <td>0.0</td>\n",
       "      <td>0.0</td>\n",
       "      <td>1.0</td>\n",
       "    </tr>\n",
       "    <tr>\n",
       "      <th>1</th>\n",
       "      <td>57</td>\n",
       "      <td>149</td>\n",
       "      <td>1</td>\n",
       "      <td>0</td>\n",
       "      <td>1.1</td>\n",
       "      <td>93.994</td>\n",
       "      <td>-36.4</td>\n",
       "      <td>4.857</td>\n",
       "      <td>5191.0</td>\n",
       "      <td>0.0</td>\n",
       "      <td>...</td>\n",
       "      <td>0.0</td>\n",
       "      <td>0.0</td>\n",
       "      <td>0.0</td>\n",
       "      <td>0.0</td>\n",
       "      <td>1.0</td>\n",
       "      <td>0.0</td>\n",
       "      <td>0.0</td>\n",
       "      <td>0.0</td>\n",
       "      <td>0.0</td>\n",
       "      <td>1.0</td>\n",
       "    </tr>\n",
       "    <tr>\n",
       "      <th>2</th>\n",
       "      <td>37</td>\n",
       "      <td>226</td>\n",
       "      <td>1</td>\n",
       "      <td>0</td>\n",
       "      <td>1.1</td>\n",
       "      <td>93.994</td>\n",
       "      <td>-36.4</td>\n",
       "      <td>4.857</td>\n",
       "      <td>5191.0</td>\n",
       "      <td>0.0</td>\n",
       "      <td>...</td>\n",
       "      <td>0.0</td>\n",
       "      <td>0.0</td>\n",
       "      <td>0.0</td>\n",
       "      <td>0.0</td>\n",
       "      <td>1.0</td>\n",
       "      <td>0.0</td>\n",
       "      <td>0.0</td>\n",
       "      <td>0.0</td>\n",
       "      <td>0.0</td>\n",
       "      <td>1.0</td>\n",
       "    </tr>\n",
       "    <tr>\n",
       "      <th>3</th>\n",
       "      <td>40</td>\n",
       "      <td>151</td>\n",
       "      <td>1</td>\n",
       "      <td>0</td>\n",
       "      <td>1.1</td>\n",
       "      <td>93.994</td>\n",
       "      <td>-36.4</td>\n",
       "      <td>4.857</td>\n",
       "      <td>5191.0</td>\n",
       "      <td>0.0</td>\n",
       "      <td>...</td>\n",
       "      <td>0.0</td>\n",
       "      <td>0.0</td>\n",
       "      <td>0.0</td>\n",
       "      <td>0.0</td>\n",
       "      <td>1.0</td>\n",
       "      <td>0.0</td>\n",
       "      <td>0.0</td>\n",
       "      <td>0.0</td>\n",
       "      <td>0.0</td>\n",
       "      <td>1.0</td>\n",
       "    </tr>\n",
       "    <tr>\n",
       "      <th>4</th>\n",
       "      <td>56</td>\n",
       "      <td>307</td>\n",
       "      <td>1</td>\n",
       "      <td>0</td>\n",
       "      <td>1.1</td>\n",
       "      <td>93.994</td>\n",
       "      <td>-36.4</td>\n",
       "      <td>4.857</td>\n",
       "      <td>5191.0</td>\n",
       "      <td>0.0</td>\n",
       "      <td>...</td>\n",
       "      <td>0.0</td>\n",
       "      <td>0.0</td>\n",
       "      <td>0.0</td>\n",
       "      <td>0.0</td>\n",
       "      <td>1.0</td>\n",
       "      <td>0.0</td>\n",
       "      <td>0.0</td>\n",
       "      <td>0.0</td>\n",
       "      <td>0.0</td>\n",
       "      <td>1.0</td>\n",
       "    </tr>\n",
       "  </tbody>\n",
       "</table>\n",
       "<p>5 rows × 65 columns</p>\n",
       "</div>"
      ],
      "text/plain": [
       "   age  duration  campaign  previous  emp.var.rate  cons.price.idx  \\\n",
       "0   56       261         1         0           1.1          93.994   \n",
       "1   57       149         1         0           1.1          93.994   \n",
       "2   37       226         1         0           1.1          93.994   \n",
       "3   40       151         1         0           1.1          93.994   \n",
       "4   56       307         1         0           1.1          93.994   \n",
       "\n",
       "   cons.conf.idx  euribor3m  nr.employed  education_basic.4y  ...  \\\n",
       "0          -36.4      4.857       5191.0                 1.0  ...   \n",
       "1          -36.4      4.857       5191.0                 0.0  ...   \n",
       "2          -36.4      4.857       5191.0                 0.0  ...   \n",
       "3          -36.4      4.857       5191.0                 0.0  ...   \n",
       "4          -36.4      4.857       5191.0                 0.0  ...   \n",
       "\n",
       "   job_student  job_technician  job_unemployed  poutcome_failure  poutcome_no  \\\n",
       "0          0.0             0.0             0.0               0.0          1.0   \n",
       "1          0.0             0.0             0.0               0.0          1.0   \n",
       "2          0.0             0.0             0.0               0.0          1.0   \n",
       "3          0.0             0.0             0.0               0.0          1.0   \n",
       "4          0.0             0.0             0.0               0.0          1.0   \n",
       "\n",
       "   poutcome_success  pdays_cat_5-10 days  pdays_cat_<= 5 days  \\\n",
       "0               0.0                  0.0                  0.0   \n",
       "1               0.0                  0.0                  0.0   \n",
       "2               0.0                  0.0                  0.0   \n",
       "3               0.0                  0.0                  0.0   \n",
       "4               0.0                  0.0                  0.0   \n",
       "\n",
       "   pdays_cat_>10 days  pdays_cat_no contact before  \n",
       "0                 0.0                          1.0  \n",
       "1                 0.0                          1.0  \n",
       "2                 0.0                          1.0  \n",
       "3                 0.0                          1.0  \n",
       "4                 0.0                          1.0  \n",
       "\n",
       "[5 rows x 65 columns]"
      ]
     },
     "execution_count": 14,
     "metadata": {},
     "output_type": "execute_result"
    }
   ],
   "source": [
    "imputed_bank_full=pd.concat([bank_full[num_columns], ohdf], axis=1)\n",
    "imputed_bank_full.head()"
   ]
  },
  {
   "cell_type": "markdown",
   "metadata": {},
   "source": [
    "# Exploratory Data Analysis"
   ]
  },
  {
   "cell_type": "code",
   "execution_count": 15,
   "metadata": {},
   "outputs": [
    {
     "data": {
      "text/plain": [
       "Text(0, 0.5, 'Frequency')"
      ]
     },
     "execution_count": 15,
     "metadata": {},
     "output_type": "execute_result"
    },
    {
     "data": {
      "image/png": "[encoded data removed]",
      "text/plain": [
       "<Figure size 432x288 with 1 Axes>"
      ]
     },
     "metadata": {
      "needs_background": "light"
     },
     "output_type": "display_data"
    }
   ],
   "source": [
    "#Plot the outcome \n",
    "count_y = pd.value_counts(bank_full.y, sort = True)\n",
    "count_y.plot(kind= 'bar')\n",
    "plt.title('Outcome Class Distribution')\n",
    "plt.xlabel('Outcome')\n",
    "plt.ylabel('Frequency')"
   ]
  },
  {
   "cell_type": "code",
   "execution_count": 16,
   "metadata": {
    "scrolled": false
   },
   "outputs": [
    {
     "data": {
      "image/png": "[encoded data removed]",
      "text/plain": [
       "<Figure size 900x900 with 30 Axes>"
      ]
     },
     "metadata": {
      "needs_background": "light"
     },
     "output_type": "display_data"
    }
   ],
   "source": [
    "#Plot numerical variables in pairs\n",
    "in_var = ['emp.var.rate', 'cons.price.idx', 'cons.conf.idx', 'euribor3m', 'nr.employed']\n",
    "sns.pairplot(bank_full[in_var],kind='reg')\n",
    "plt.show()"
   ]
  },
  {
   "cell_type": "markdown",
   "metadata": {},
   "source": [
    "Employment variation rate is positively related to consumer price index, Europe's Libor 3 month rate and number of employees."
   ]
  },
  {
   "cell_type": "code",
   "execution_count": 17,
   "metadata": {
    "scrolled": false
   },
   "outputs": [
    {
     "data": {
      "image/png": "[encoded data removed]",
      "text/plain": [
       "<Figure size 432x288 with 1 Axes>"
      ]
     },
     "metadata": {
      "needs_background": "light"
     },
     "output_type": "display_data"
    },
    {
     "data": {
      "image/png": "[encoded data removed]",
      "text/plain": [
       "<Figure size 432x288 with 1 Axes>"
      ]
     },
     "metadata": {
      "needs_background": "light"
     },
     "output_type": "display_data"
    },
    {
     "data": {
      "image/png": "[encoded data removed]",
      "text/plain": [
       "<Figure size 432x288 with 1 Axes>"
      ]
     },
     "metadata": {
      "needs_background": "light"
     },
     "output_type": "display_data"
    },
    {
     "data": {
      "image/png": "[encoded data removed]",
      "text/plain": [
       "<Figure size 432x288 with 1 Axes>"
      ]
     },
     "metadata": {
      "needs_background": "light"
     },
     "output_type": "display_data"
    },
    {
     "data": {
      "image/png": "[encoded data removed]",
      "text/plain": [
       "<Figure size 432x288 with 1 Axes>"
      ]
     },
     "metadata": {
      "needs_background": "light"
     },
     "output_type": "display_data"
    },
    {
     "data": {
      "image/png": "[encoded data removed]",
      "text/plain": [
       "<Figure size 432x288 with 1 Axes>"
      ]
     },
     "metadata": {
      "needs_background": "light"
     },
     "output_type": "display_data"
    },
    {
     "data": {
      "image/png": "[encoded data removed]",
      "text/plain": [
       "<Figure size 432x288 with 1 Axes>"
      ]
     },
     "metadata": {
      "needs_background": "light"
     },
     "output_type": "display_data"
    },
    {
     "data": {
      "image/png": "[encoded data removed]",
      "text/plain": [
       "<Figure size 432x288 with 1 Axes>"
      ]
     },
     "metadata": {
      "needs_background": "light"
     },
     "output_type": "display_data"
    },
    {
     "data": {
      "image/png": "[encoded data removed]",
      "text/plain": [
       "<Figure size 432x288 with 1 Axes>"
      ]
     },
     "metadata": {
      "needs_background": "light"
     },
     "output_type": "display_data"
    }
   ],
   "source": [
    "#Plot a box plot of numeric variable within subset of rows where label variable y ‘has the client subscribed a term deposit’ = ‘yes’ vs ‘no’\n",
    "for var in num_columns:\n",
    "    sns.violinplot( x=var, y=['']*len(bank_full), data = bank_full, hue ='y')\n",
    "    plt.show()"
   ]
  },
  {
   "cell_type": "markdown",
   "metadata": {},
   "source": [
    "The largest group of people is around 30 years old. Most clients are between 20 and 60 years old.\n",
    "Most phone call duration is below 100 thousand seconds. People who subscribed the term tend to have longer duration over phone.\n",
    "Most people have been contacted less than 9 times during this campaign.\n",
    "Most people haven’t been contacted before.\n",
    "When employment variation rate is around 1.5, more people are not willing to subscribe. When employment variation rate is around -1.9, more people will subscribe. \n",
    "When consumer price index is around 94, more people will not subscribe. And most people subscribed when consumer price index is at 92.9 and 94.0.\n",
    "Consumers tend to not subscribe when the consumer confidential index is around -46, -43, and -36.\n",
    "More people subscribe when  euribor 3 month rate is below 2, the peak is at 1, while more people don’t subscribe when euribor3m is above 4.\n",
    "When number of employees is below 5050, more people subscribe. The number of subscribed clients reaches 3 peaks when quarterly number of employees reach 5010, 5090 5230, "
   ]
  },
  {
   "cell_type": "code",
   "execution_count": 18,
   "metadata": {},
   "outputs": [
    {
     "data": {
      "image/png": "[encoded data removed]",
      "text/plain": [
       "<Figure size 432x288 with 1 Axes>"
      ]
     },
     "metadata": {
      "needs_background": "light"
     },
     "output_type": "display_data"
    },
    {
     "data": {
      "image/png": "[encoded data removed]",
      "text/plain": [
       "<Figure size 432x288 with 1 Axes>"
      ]
     },
     "metadata": {
      "needs_background": "light"
     },
     "output_type": "display_data"
    },
    {
     "data": {
      "image/png": "[encoded data removed]",
      "text/plain": [
       "<Figure size 432x288 with 1 Axes>"
      ]
     },
     "metadata": {
      "needs_background": "light"
     },
     "output_type": "display_data"
    },
    {
     "data": {
      "image/png": "[encoded data removed]",
      "text/plain": [
       "<Figure size 432x288 with 1 Axes>"
      ]
     },
     "metadata": {
      "needs_background": "light"
     },
     "output_type": "display_data"
    },
    {
     "data": {
      "image/png": "[encoded data removed]",
      "text/plain": [
       "<Figure size 432x288 with 1 Axes>"
      ]
     },
     "metadata": {
      "needs_background": "light"
     },
     "output_type": "display_data"
    },
    {
     "data": {
      "image/png": "[encoded data removed]",
      "text/plain": [
       "<Figure size 432x288 with 1 Axes>"
      ]
     },
     "metadata": {
      "needs_background": "light"
     },
     "output_type": "display_data"
    },
    {
     "data": {
      "image/png": "[encoded data removed]",
      "text/plain": [
       "<Figure size 432x288 with 1 Axes>"
      ]
     },
     "metadata": {
      "needs_background": "light"
     },
     "output_type": "display_data"
    },
    {
     "data": {
      "image/png": "[encoded data removed]",
      "text/plain": [
       "<Figure size 432x288 with 1 Axes>"
      ]
     },
     "metadata": {
      "needs_background": "light"
     },
     "output_type": "display_data"
    },
    {
     "data": {
      "image/png": "[encoded data removed]",
      "text/plain": [
       "<Figure size 432x288 with 1 Axes>"
      ]
     },
     "metadata": {
      "needs_background": "light"
     },
     "output_type": "display_data"
    },
    {
     "data": {
      "image/png": "[encoded data removed]",
      "text/plain": [
       "<Figure size 432x288 with 1 Axes>"
      ]
     },
     "metadata": {
      "needs_background": "light"
     },
     "output_type": "display_data"
    },
    {
     "data": {
      "image/png": "[encoded data removed]",
      "text/plain": [
       "<Figure size 432x288 with 1 Axes>"
      ]
     },
     "metadata": {
      "needs_background": "light"
     },
     "output_type": "display_data"
    },
    {
     "data": {
      "image/png": "[encoded data removed]",
      "text/plain": [
       "<Figure size 432x288 with 1 Axes>"
      ]
     },
     "metadata": {
      "needs_background": "light"
     },
     "output_type": "display_data"
    }
   ],
   "source": [
    "#Countplot for categorial variables\n",
    "for var in cat_columns:\n",
    "    sns.countplot(y=var,data = bank_full, hue ='y')\n",
    "    plt.title(var)\n",
    "    plt.show()"
   ]
  },
  {
   "cell_type": "markdown",
   "metadata": {},
   "source": [
    "Observation 1.\n",
    "Among people who subscribed the term, the largest number is from administrative job. The least number is from entrepreneur and housemaid. Students are more likely to subscribe than other occupations. \n",
    "\n",
    "Observation 2.\n",
    "From the poutcome(previous outcome) count plot, there are more subscribed clients than unsubscribed clients, which means people are more likely to subscribe again if they did previously.\n",
    "\n",
    "Observation 3.\n",
    "From the pdays_cat (number of days that passed by after the client was last contacted from a previous campaign) plot, there are more subscribed clients than unsubscribed clients when there is a previous contact less than 10 days ago. \n"
   ]
  },
  {
   "cell_type": "code",
   "execution_count": 19,
   "metadata": {},
   "outputs": [
    {
     "data": {
      "text/html": [
       "<div>\n",
       "<style scoped>\n",
       "    .dataframe tbody tr th:only-of-type {\n",
       "        vertical-align: middle;\n",
       "    }\n",
       "\n",
       "    .dataframe tbody tr th {\n",
       "        vertical-align: top;\n",
       "    }\n",
       "\n",
       "    .dataframe thead th {\n",
       "        text-align: right;\n",
       "    }\n",
       "</style>\n",
       "<table border=\"1\" class=\"dataframe\">\n",
       "  <thead>\n",
       "    <tr style=\"text-align: right;\">\n",
       "      <th>education</th>\n",
       "      <th>basic.4y</th>\n",
       "      <th>basic.6y</th>\n",
       "      <th>basic.9y</th>\n",
       "      <th>high.school</th>\n",
       "      <th>illiterate</th>\n",
       "      <th>no</th>\n",
       "      <th>professional.course</th>\n",
       "      <th>university.degree</th>\n",
       "    </tr>\n",
       "    <tr>\n",
       "      <th>job</th>\n",
       "      <th></th>\n",
       "      <th></th>\n",
       "      <th></th>\n",
       "      <th></th>\n",
       "      <th></th>\n",
       "      <th></th>\n",
       "      <th></th>\n",
       "      <th></th>\n",
       "    </tr>\n",
       "  </thead>\n",
       "  <tbody>\n",
       "    <tr>\n",
       "      <th>admin.</th>\n",
       "      <td>0.007388</td>\n",
       "      <td>0.014489</td>\n",
       "      <td>0.047879</td>\n",
       "      <td>0.319420</td>\n",
       "      <td>0.000096</td>\n",
       "      <td>0.023892</td>\n",
       "      <td>0.034830</td>\n",
       "      <td>0.552005</td>\n",
       "    </tr>\n",
       "    <tr>\n",
       "      <th>blue-collar</th>\n",
       "      <td>0.250486</td>\n",
       "      <td>0.154096</td>\n",
       "      <td>0.391506</td>\n",
       "      <td>0.094878</td>\n",
       "      <td>0.000864</td>\n",
       "      <td>0.049060</td>\n",
       "      <td>0.048952</td>\n",
       "      <td>0.010158</td>\n",
       "    </tr>\n",
       "    <tr>\n",
       "      <th>entrepreneur</th>\n",
       "      <td>0.094093</td>\n",
       "      <td>0.048764</td>\n",
       "      <td>0.144231</td>\n",
       "      <td>0.160714</td>\n",
       "      <td>0.001374</td>\n",
       "      <td>0.039148</td>\n",
       "      <td>0.092720</td>\n",
       "      <td>0.418956</td>\n",
       "    </tr>\n",
       "    <tr>\n",
       "      <th>housemaid</th>\n",
       "      <td>0.447170</td>\n",
       "      <td>0.072642</td>\n",
       "      <td>0.088679</td>\n",
       "      <td>0.164151</td>\n",
       "      <td>0.000943</td>\n",
       "      <td>0.039623</td>\n",
       "      <td>0.055660</td>\n",
       "      <td>0.131132</td>\n",
       "    </tr>\n",
       "    <tr>\n",
       "      <th>management</th>\n",
       "      <td>0.034200</td>\n",
       "      <td>0.029070</td>\n",
       "      <td>0.056772</td>\n",
       "      <td>0.101915</td>\n",
       "      <td>0.000000</td>\n",
       "      <td>0.042066</td>\n",
       "      <td>0.030438</td>\n",
       "      <td>0.705540</td>\n",
       "    </tr>\n",
       "    <tr>\n",
       "      <th>no</th>\n",
       "      <td>0.157576</td>\n",
       "      <td>0.066667</td>\n",
       "      <td>0.093939</td>\n",
       "      <td>0.112121</td>\n",
       "      <td>0.000000</td>\n",
       "      <td>0.396970</td>\n",
       "      <td>0.036364</td>\n",
       "      <td>0.136364</td>\n",
       "    </tr>\n",
       "    <tr>\n",
       "      <th>retired</th>\n",
       "      <td>0.347093</td>\n",
       "      <td>0.043605</td>\n",
       "      <td>0.084302</td>\n",
       "      <td>0.160465</td>\n",
       "      <td>0.001744</td>\n",
       "      <td>0.056977</td>\n",
       "      <td>0.140116</td>\n",
       "      <td>0.165698</td>\n",
       "    </tr>\n",
       "    <tr>\n",
       "      <th>self-employed</th>\n",
       "      <td>0.065447</td>\n",
       "      <td>0.017593</td>\n",
       "      <td>0.154821</td>\n",
       "      <td>0.083040</td>\n",
       "      <td>0.002111</td>\n",
       "      <td>0.020408</td>\n",
       "      <td>0.118227</td>\n",
       "      <td>0.538353</td>\n",
       "    </tr>\n",
       "    <tr>\n",
       "      <th>services</th>\n",
       "      <td>0.033258</td>\n",
       "      <td>0.056941</td>\n",
       "      <td>0.097758</td>\n",
       "      <td>0.675737</td>\n",
       "      <td>0.000000</td>\n",
       "      <td>0.037793</td>\n",
       "      <td>0.054926</td>\n",
       "      <td>0.043588</td>\n",
       "    </tr>\n",
       "    <tr>\n",
       "      <th>student</th>\n",
       "      <td>0.029714</td>\n",
       "      <td>0.014857</td>\n",
       "      <td>0.113143</td>\n",
       "      <td>0.408000</td>\n",
       "      <td>0.000000</td>\n",
       "      <td>0.190857</td>\n",
       "      <td>0.049143</td>\n",
       "      <td>0.194286</td>\n",
       "    </tr>\n",
       "    <tr>\n",
       "      <th>technician</th>\n",
       "      <td>0.008602</td>\n",
       "      <td>0.012902</td>\n",
       "      <td>0.056948</td>\n",
       "      <td>0.129468</td>\n",
       "      <td>0.000000</td>\n",
       "      <td>0.031440</td>\n",
       "      <td>0.492362</td>\n",
       "      <td>0.268278</td>\n",
       "    </tr>\n",
       "    <tr>\n",
       "      <th>unemployed</th>\n",
       "      <td>0.110454</td>\n",
       "      <td>0.033531</td>\n",
       "      <td>0.183432</td>\n",
       "      <td>0.255424</td>\n",
       "      <td>0.000000</td>\n",
       "      <td>0.018738</td>\n",
       "      <td>0.140039</td>\n",
       "      <td>0.258383</td>\n",
       "    </tr>\n",
       "  </tbody>\n",
       "</table>\n",
       "</div>"
      ],
      "text/plain": [
       "education      basic.4y  basic.6y  basic.9y  high.school  illiterate  \\\n",
       "job                                                                    \n",
       "admin.         0.007388  0.014489  0.047879     0.319420    0.000096   \n",
       "blue-collar    0.250486  0.154096  0.391506     0.094878    0.000864   \n",
       "entrepreneur   0.094093  0.048764  0.144231     0.160714    0.001374   \n",
       "housemaid      0.447170  0.072642  0.088679     0.164151    0.000943   \n",
       "management     0.034200  0.029070  0.056772     0.101915    0.000000   \n",
       "no             0.157576  0.066667  0.093939     0.112121    0.000000   \n",
       "retired        0.347093  0.043605  0.084302     0.160465    0.001744   \n",
       "self-employed  0.065447  0.017593  0.154821     0.083040    0.002111   \n",
       "services       0.033258  0.056941  0.097758     0.675737    0.000000   \n",
       "student        0.029714  0.014857  0.113143     0.408000    0.000000   \n",
       "technician     0.008602  0.012902  0.056948     0.129468    0.000000   \n",
       "unemployed     0.110454  0.033531  0.183432     0.255424    0.000000   \n",
       "\n",
       "education            no  professional.course  university.degree  \n",
       "job                                                              \n",
       "admin.         0.023892             0.034830           0.552005  \n",
       "blue-collar    0.049060             0.048952           0.010158  \n",
       "entrepreneur   0.039148             0.092720           0.418956  \n",
       "housemaid      0.039623             0.055660           0.131132  \n",
       "management     0.042066             0.030438           0.705540  \n",
       "no             0.396970             0.036364           0.136364  \n",
       "retired        0.056977             0.140116           0.165698  \n",
       "self-employed  0.020408             0.118227           0.538353  \n",
       "services       0.037793             0.054926           0.043588  \n",
       "student        0.190857             0.049143           0.194286  \n",
       "technician     0.031440             0.492362           0.268278  \n",
       "unemployed     0.018738             0.140039           0.258383  "
      ]
     },
     "execution_count": 19,
     "metadata": {},
     "output_type": "execute_result"
    }
   ],
   "source": [
    "#Create a corsstable to see the relationship between education and job. The table shows the degree holded by the percentage of clients in each position  \n",
    "job_education = pd.crosstab(bank_full['job'], bank_full['education']).apply(lambda r: r/r.sum(), axis = 1)\n",
    "job_education"
   ]
  },
  {
   "cell_type": "code",
   "execution_count": 20,
   "metadata": {},
   "outputs": [
    {
     "name": "stdout",
     "output_type": "stream",
     "text": [
      "y           no   yes\n",
      "default             \n",
      "no       36545  4640\n",
      "yes          3     0 \n",
      "\n",
      " y           no   yes\n",
      "housing             \n",
      "no       17479  2133\n",
      "yes      19069  2507 \n",
      "\n",
      " y        no   yes\n",
      "loan             \n",
      "no    30983  3957\n",
      "yes    5565   683\n"
     ]
    }
   ],
   "source": [
    "#Drop unknown values and make contigency tables for default vs outcome y, housing vs outcome y, and loan vs outcome y\n",
    "bank_full = bank_full[~bank_full['default'].str.contains(\"unknown\")]\n",
    "bank_full = bank_full[~bank_full['housing'].str.contains(\"unknown\")]\n",
    "bank_full = bank_full[~bank_full['loan'].str.contains(\"unknown\")]\n",
    "dflt_y = pd.crosstab(bank_full['default'], bank_full['y'],  dropna = True)\n",
    "house_y = pd.crosstab(bank_full['housing'], bank_full['y'])\n",
    "loan_y = pd.crosstab(bank_full['loan'], bank_full['y'])\n",
    "print (dflt_y, '\\n\\n', house_y, '\\n\\n', loan_y)"
   ]
  },
  {
   "cell_type": "code",
   "execution_count": 21,
   "metadata": {},
   "outputs": [
    {
     "name": "stdout",
     "output_type": "stream",
     "text": [
      "dflt_oddsratio : 0.0 dflt_pvalue : 1.0\n",
      "house_oddsratio : 1.0773384056424793 house_pvalue : 0.017706797460646316\n",
      "loan_oddsratio : 0.9609769078692076 loan_pvalue : 0.3731669615484633\n"
     ]
    }
   ],
   "source": [
    "# Run fisher’s exact test between default vs outcome y,  housing vs outcome y, and loan vs outcome y\n",
    "con_tables = [dflt_y,house_y,loan_y]\n",
    "names= [('dflt_oddsratio', 'dflt_pvalue'), ('house_oddsratio','house_pvalue'), ('loan_oddsratio', 'loan_pvalue')]\n",
    "i=0\n",
    "for t in con_tables:\n",
    "    oddsratio, pvalue = stats.fisher_exact(t)\n",
    "    print (names[i][0],':', oddsratio, names[i][1],':', pvalue)\n",
    "    i+=1"
   ]
  },
  {
   "cell_type": "markdown",
   "metadata": {},
   "source": [
    "Having a house or not has effect on the outcome"
   ]
  },
  {
   "cell_type": "code",
   "execution_count": 22,
   "metadata": {},
   "outputs": [
    {
     "name": "stdout",
     "output_type": "stream",
     "text": [
      "[0.92626125 0.07183167]\n",
      "[52624.08039516 14654.66025625]\n"
     ]
    }
   ],
   "source": [
    "#Apply principal components analysis to numerical variables\n",
    "pca = PCA(n_components = 2)\n",
    "pca.fit(bank_full[num_columns])\n",
    "print(pca.explained_variance_ratio_)\n",
    "print(pca.singular_values_)"
   ]
  },
  {
   "cell_type": "code",
   "execution_count": 23,
   "metadata": {},
   "outputs": [
    {
     "name": "stdout",
     "output_type": "stream",
     "text": [
      "(41188, 9) (41188, 1)\n"
     ]
    }
   ],
   "source": [
    "pca = PCA(n_components=0.8)\n",
    "n_pca = pca.fit_transform(bank_full[num_columns])\n",
    "print (bank_full[num_columns].shape, n_pca.shape)"
   ]
  },
  {
   "cell_type": "code",
   "execution_count": 24,
   "metadata": {},
   "outputs": [
    {
     "name": "stdout",
     "output_type": "stream",
     "text": [
      "[0.11244947 0.08787095]\n",
      "[159.97172322 141.41229564]\n"
     ]
    }
   ],
   "source": [
    "#Apply principal components analysis to one hot encoded data \n",
    "pca = PCA(n_components = 2)\n",
    "pca.fit(ohe)\n",
    "print(pca.explained_variance_ratio_)\n",
    "print(pca.singular_values_)"
   ]
  },
  {
   "cell_type": "code",
   "execution_count": 25,
   "metadata": {},
   "outputs": [
    {
     "name": "stdout",
     "output_type": "stream",
     "text": [
      "(41188, 56) (41188, 17)\n"
     ]
    }
   ],
   "source": [
    "pca = PCA(n_components=0.8)\n",
    "c_pca = pca.fit_transform(ohe)\n",
    "print (ohe.shape, c_pca.shape)"
   ]
  },
  {
   "cell_type": "markdown",
   "metadata": {},
   "source": [
    "# ANOVA Analysis"
   ]
  },
  {
   "cell_type": "markdown",
   "metadata": {},
   "source": [
    "## For Numerical Variables"
   ]
  },
  {
   "cell_type": "code",
   "execution_count": 26,
   "metadata": {},
   "outputs": [],
   "source": [
    "def anova_model(var):\n",
    "    model = ols('Q(\"{var}\")~C(y_yes)'.format(var = var), data=  imputed_bank_full).fit()\n",
    "    print (var)\n",
    "    print (sm.stats.anova_lm(model, typ=2),  '\\n')"
   ]
  },
  {
   "cell_type": "code",
   "execution_count": 27,
   "metadata": {},
   "outputs": [
    {
     "name": "stdout",
     "output_type": "stream",
     "text": [
      "age\n",
      "                sum_sq       df          F        PR(>F)\n",
      "C(y_yes)  4.133451e+03      1.0  38.094659  6.802136e-10\n",
      "Residual  4.468876e+06  41186.0        NaN           NaN \n",
      "\n",
      "duration\n",
      "                sum_sq       df            F  PR(>F)\n",
      "C(y_yes)  4.547710e+08      1.0  8094.101634     0.0\n",
      "Residual  2.314055e+09  41186.0          NaN     NaN \n",
      "\n",
      "campaign\n",
      "                 sum_sq       df           F        PR(>F)\n",
      "C(y_yes)    1391.562959      1.0  182.156673  2.007780e-41\n",
      "Residual  314635.259513  41186.0         NaN           NaN \n",
      "\n",
      "previous\n",
      "               sum_sq       df            F  PR(>F)\n",
      "C(y_yes)   534.485490      1.0  2304.257088     0.0\n",
      "Residual  9553.326106  41186.0          NaN     NaN \n",
      "\n",
      "emp.var.rate\n",
      "                sum_sq       df            F  PR(>F)\n",
      "C(y_yes)   9046.842163      1.0  4023.829925     0.0\n",
      "Residual  92599.152609  41186.0          NaN     NaN \n",
      "\n",
      "cons.price.idx\n",
      "                sum_sq       df           F         PR(>F)\n",
      "C(y_yes)    256.037173      1.0  778.589786  9.318965e-170\n",
      "Residual  13543.906156  41186.0         NaN            NaN \n",
      "\n",
      "cons.conf.idx\n",
      "                 sum_sq       df           F        PR(>F)\n",
      "C(y_yes)    2656.927417      1.0  124.409975  7.536665e-29\n",
      "Residual  879577.484094  41186.0         NaN           NaN \n",
      "\n",
      "euribor3m\n",
      "                 sum_sq       df            F  PR(>F)\n",
      "C(y_yes)   11736.509666      1.0  4309.479048     0.0\n",
      "Residual  112166.663700  41186.0          NaN     NaN \n",
      "\n",
      "nr.employed\n",
      "                sum_sq       df            F  PR(>F)\n",
      "C(y_yes)  2.704727e+07      1.0  5926.610646     0.0\n",
      "Residual  1.879605e+08  41186.0          NaN     NaN \n",
      "\n"
     ]
    }
   ],
   "source": [
    "for var in num_columns:\n",
    "    anova_model(var)"
   ]
  },
  {
   "cell_type": "markdown",
   "metadata": {},
   "source": [
    "Reject null for all numerical variables. The mean of each numercial is different between the groups of positive outcome and negative outcome."
   ]
  },
  {
   "cell_type": "markdown",
   "metadata": {},
   "source": [
    "## For Categorical Variables"
   ]
  },
  {
   "cell_type": "code",
   "execution_count": 28,
   "metadata": {},
   "outputs": [],
   "source": [
    "def melt_cat(var):\n",
    "    melted = bank_full.melt(id_vars = [var], value_vars=['y'])\n",
    "    melted_dummy= pd.get_dummies(melted, columns = ['value'])\n",
    "    return melted_dummy\n",
    "def anova_model2(var):\n",
    "    model2 = ols('value_yes ~ C({var})'.format(var = var), data=melt_cat(var)).fit()\n",
    "    print (var)\n",
    "    print (sm.stats.anova_lm(model2, typ=2),  '\\n')"
   ]
  },
  {
   "cell_type": "code",
   "execution_count": 29,
   "metadata": {},
   "outputs": [
    {
     "name": "stdout",
     "output_type": "stream",
     "text": [
      "education\n",
      "                   sum_sq       df         F        PR(>F)\n",
      "C(education)    19.303486      7.0  27.71112  2.682772e-38\n",
      "Residual      4097.981160  41180.0       NaN           NaN \n",
      "\n",
      "contact\n",
      "                 sum_sq       df          F         PR(>F)\n",
      "C(contact)    86.295147      1.0  881.70707  9.856509e-192\n",
      "Residual    4030.989499  41186.0        NaN            NaN \n",
      "\n",
      "month\n",
      "               sum_sq       df           F  PR(>F)\n",
      "C(month)   310.000840      9.0  372.537812     0.0\n",
      "Residual  3807.283806  41178.0         NaN     NaN \n",
      "\n",
      "pdays_cat\n",
      "                   sum_sq       df           F  PR(>F)\n",
      "C(pdays_cat)   436.191715      3.0  1626.70163     0.0\n",
      "Residual      3681.092931  41184.0         NaN     NaN \n",
      "\n",
      "loan\n",
      "               sum_sq       df         F    PR(>F)\n",
      "C(loan)      0.082124      1.0  0.821521  0.364741\n",
      "Residual  4117.202522  41186.0       NaN       NaN \n",
      "\n",
      "poutcome\n",
      "                  sum_sq       df            F  PR(>F)\n",
      "C(poutcome)   422.896734      2.0  2357.224309     0.0\n",
      "Residual     3694.387912  41185.0          NaN     NaN \n",
      "\n",
      "marital\n",
      "                 sum_sq       df          F        PR(>F)\n",
      "C(marital)    12.261003      3.0  41.003185  1.898385e-26\n",
      "Residual    4105.023643  41184.0        NaN           NaN \n",
      "\n",
      "default\n",
      "                 sum_sq       df         F    PR(>F)\n",
      "C(default)     0.038076      1.0  0.380882  0.537135\n",
      "Residual    4117.246570  41186.0       NaN       NaN \n",
      "\n",
      "housing\n",
      "                 sum_sq       df         F    PR(>F)\n",
      "C(housing)     0.567760      1.0  5.680193  0.017162\n",
      "Residual    4116.716886  41186.0       NaN       NaN \n",
      "\n",
      "day_of_week\n",
      "                     sum_sq       df         F   PR(>F)\n",
      "C(day_of_week)     2.613532      4.0  6.539592  0.00003\n",
      "Residual        4114.671114  41183.0       NaN      NaN \n",
      "\n",
      "job\n",
      "               sum_sq       df          F         PR(>F)\n",
      "C(job)      96.088879     11.0  89.447741  1.618353e-201\n",
      "Residual  4021.195767  41176.0        NaN            NaN \n",
      "\n"
     ]
    }
   ],
   "source": [
    "for var in list(set(cat_columns)-set(['y'])):\n",
    "    anova_model2(var)"
   ]
  },
  {
   "cell_type": "markdown",
   "metadata": {},
   "source": [
    "For pdays_cat,month,job,marital,education,poutcome,contact variables, the P-values obtained from ANOVA analysis are significant (P<0.05), and therefore, we conclude that there are significant differences among these variables individually.\n",
    "\n",
    "From ANOVA analysis, we know that differences between groups in these variables individually are statistically significant, but ANOVA does not tell which groups are significantly different from each other. To know the pairs of significant different groups, we will perform multiple pairwise comparison (Post-hoc comparison) analysis using Tukey HSD test.\n",
    "\n",
    "Here we only select some variables that we want to explore based on common sense."
   ]
  },
  {
   "cell_type": "markdown",
   "metadata": {},
   "source": [
    "## Job"
   ]
  },
  {
   "cell_type": "code",
   "execution_count": 30,
   "metadata": {},
   "outputs": [],
   "source": [
    "df_job_dummy = melt_cat('job')"
   ]
  },
  {
   "cell_type": "code",
   "execution_count": 31,
   "metadata": {},
   "outputs": [
    {
     "name": "stdout",
     "output_type": "stream",
     "text": [
      "       Multiple Comparison of Means - Tukey HSD, FWER=0.05        \n",
      "==================================================================\n",
      "    group1        group2    meandiff p-adj   lower   upper  reject\n",
      "------------------------------------------------------------------\n",
      "       admin.   blue-collar  -0.0608  0.001 -0.0754 -0.0462   True\n",
      "       admin.  entrepreneur  -0.0446  0.001 -0.0731  -0.016   True\n",
      "       admin.     housemaid  -0.0297 0.1242 -0.0627  0.0032  False\n",
      "       admin.    management  -0.0176 0.2345 -0.0389  0.0038  False\n",
      "       admin.            no  -0.0176    0.9 -0.0747  0.0395  False\n",
      "       admin.       retired   0.1226  0.001   0.096  0.1492   True\n",
      "       admin. self-employed  -0.0249 0.1742 -0.0538   0.004  False\n",
      "       admin.      services  -0.0483  0.001 -0.0674 -0.0293   True\n",
      "       admin.       student   0.1846  0.001  0.1486  0.2205   True\n",
      "       admin.    technician  -0.0215  0.001 -0.0374 -0.0055   True\n",
      "       admin.    unemployed   0.0123    0.9 -0.0213  0.0459  False\n",
      "  blue-collar  entrepreneur   0.0162  0.768 -0.0126   0.045  False\n",
      "  blue-collar     housemaid   0.0311 0.0905 -0.0021  0.0642  False\n",
      "  blue-collar    management   0.0432  0.001  0.0216  0.0649   True\n",
      "  blue-collar            no   0.0432 0.3631  -0.014  0.1004  False\n",
      "  blue-collar       retired   0.1834  0.001  0.1566  0.2102   True\n",
      "  blue-collar self-employed   0.0359 0.0032  0.0068   0.065   True\n",
      "  blue-collar      services   0.0124 0.6068 -0.0069  0.0318  False\n",
      "  blue-collar       student   0.2453  0.001  0.2092  0.2815   True\n",
      "  blue-collar    technician   0.0393  0.001   0.023  0.0557   True\n",
      "  blue-collar    unemployed   0.0731  0.001  0.0393  0.1069   True\n",
      " entrepreneur     housemaid   0.0148    0.9 -0.0264  0.0561  False\n",
      " entrepreneur    management    0.027 0.2289 -0.0057  0.0598  False\n",
      " entrepreneur            no    0.027    0.9 -0.0353  0.0892  False\n",
      " entrepreneur       retired   0.1672  0.001  0.1308  0.2035   True\n",
      " entrepreneur self-employed   0.0197 0.8631 -0.0184  0.0578  False\n",
      " entrepreneur      services  -0.0038    0.9 -0.0351  0.0275  False\n",
      " entrepreneur       student   0.2291  0.001  0.1854  0.2728   True\n",
      " entrepreneur    technician   0.0231 0.3047 -0.0064  0.0526  False\n",
      " entrepreneur    unemployed   0.0568  0.001  0.0151  0.0986   True\n",
      "    housemaid    management   0.0122    0.9 -0.0244  0.0488  False\n",
      "    housemaid            no   0.0121    0.9 -0.0523  0.0765  False\n",
      "    housemaid       retired   0.1523  0.001  0.1124  0.1922   True\n",
      "    housemaid self-employed   0.0049    0.9 -0.0366  0.0463  False\n",
      "    housemaid      services  -0.0186  0.842 -0.0539  0.0167  False\n",
      "    housemaid       student   0.2143  0.001  0.1676  0.2609   True\n",
      "    housemaid    technician   0.0083    0.9 -0.0255   0.042  False\n",
      "    housemaid    unemployed    0.042 0.0917 -0.0029  0.0869  False\n",
      "   management            no  -0.0001    0.9 -0.0594  0.0593  False\n",
      "   management       retired   0.1402  0.001  0.1091  0.1712   True\n",
      "   management self-employed  -0.0073    0.9 -0.0403  0.0257  False\n",
      "   management      services  -0.0308 0.0031 -0.0557 -0.0059   True\n",
      "   management       student   0.2021  0.001  0.1628  0.2415   True\n",
      "   management    technician  -0.0039    0.9 -0.0265  0.0187  False\n",
      "   management    unemployed   0.0298 0.2686 -0.0074  0.0671  False\n",
      "           no       retired   0.1402  0.001  0.0788  0.2016   True\n",
      "           no self-employed  -0.0073    0.9 -0.0697  0.0551  False\n",
      "           no      services  -0.0307  0.846 -0.0893  0.0278  False\n",
      "           no       student   0.2022  0.001  0.1362  0.2681   True\n",
      "           no    technician  -0.0039    0.9 -0.0614  0.0537  False\n",
      "           no    unemployed   0.0299    0.9 -0.0348  0.0946  False\n",
      "      retired self-employed  -0.1475  0.001 -0.1841 -0.1109   True\n",
      "      retired      services  -0.1709  0.001 -0.2004 -0.1415   True\n",
      "      retired       student    0.062  0.001  0.0195  0.1044   True\n",
      "      retired    technician  -0.1441  0.001 -0.1717 -0.1165   True\n",
      "      retired    unemployed  -0.1103  0.001 -0.1508 -0.0699   True\n",
      "self-employed      services  -0.0235 0.3884  -0.055  0.0081  False\n",
      "self-employed       student   0.2094  0.001  0.1655  0.2533   True\n",
      "self-employed    technician   0.0034    0.9 -0.0264  0.0332  False\n",
      "self-employed    unemployed   0.0372 0.1432 -0.0048  0.0791  False\n",
      "     services       student   0.2329  0.001  0.1948   0.271   True\n",
      "     services    technician   0.0269  0.001  0.0064  0.0473   True\n",
      "     services    unemployed   0.0606  0.001  0.0247  0.0966   True\n",
      "      student    technician   -0.206  0.001 -0.2427 -0.1693   True\n",
      "      student    unemployed  -0.1723  0.001 -0.2194 -0.1251   True\n",
      "   technician    unemployed   0.0338 0.0605 -0.0007  0.0682  False\n",
      "------------------------------------------------------------------\n"
     ]
    }
   ],
   "source": [
    "m_comp_job = pairwise_tukeyhsd(endog=df_job_dummy['value_yes'], groups=df_job_dummy['job'], alpha=0.05)\n",
    "print(m_comp_job)"
   ]
  },
  {
   "cell_type": "code",
   "execution_count": 142,
   "metadata": {},
   "outputs": [
    {
     "data": {
      "image/png": "[encoded data removed]",
      "text/plain": [
       "<Figure size 720x432 with 1 Axes>"
      ]
     },
     "metadata": {
      "needs_background": "light"
     },
     "output_type": "display_data"
    }
   ],
   "source": [
    "#Visualize significant differences in a plot with one confidence interval per group\n",
    "m_comp_job.plot_simultaneous(comparison_name='student');"
   ]
  },
  {
   "cell_type": "markdown",
   "metadata": {},
   "source": [
    "The mean for the group of student, and retired peopel are higher than other groups. It means that student and retired people are more likely to subscribe."
   ]
  },
  {
   "cell_type": "markdown",
   "metadata": {},
   "source": [
    "## Previous Outcome"
   ]
  },
  {
   "cell_type": "code",
   "execution_count": 33,
   "metadata": {},
   "outputs": [],
   "source": [
    "df_po_dummy = melt_cat('poutcome')"
   ]
  },
  {
   "cell_type": "code",
   "execution_count": 34,
   "metadata": {},
   "outputs": [
    {
     "name": "stdout",
     "output_type": "stream",
     "text": [
      " Multiple Comparison of Means - Tukey HSD, FWER=0.05 \n",
      "=====================================================\n",
      " group1  group2 meandiff p-adj  lower   upper  reject\n",
      "-----------------------------------------------------\n",
      "failure      no   -0.054 0.001 -0.0654 -0.0426   True\n",
      "failure success   0.5088 0.001  0.4871  0.5306   True\n",
      "     no success   0.5628 0.001  0.5435  0.5821   True\n",
      "-----------------------------------------------------\n"
     ]
    }
   ],
   "source": [
    "m_comp_po = pairwise_tukeyhsd(endog=df_po_dummy['value_yes'], groups=df_po_dummy['poutcome'], alpha=0.05)\n",
    "print(m_comp_po)"
   ]
  },
  {
   "cell_type": "markdown",
   "metadata": {},
   "source": [
    "The mean of three previous outcome groups are all significant different."
   ]
  },
  {
   "cell_type": "code",
   "execution_count": 143,
   "metadata": {},
   "outputs": [
    {
     "data": {
      "image/png": "[encoded data removed]",
      "text/plain": [
       "<Figure size 720x432 with 1 Axes>"
      ]
     },
     "metadata": {
      "needs_background": "light"
     },
     "output_type": "display_data"
    }
   ],
   "source": [
    "m_comp_po.plot_simultaneous(comparison_name=\"success\");"
   ]
  },
  {
   "cell_type": "markdown",
   "metadata": {},
   "source": [
    "Clients are more likely to subscribe if previous outcome is successful. "
   ]
  },
  {
   "cell_type": "markdown",
   "metadata": {},
   "source": [
    "## Month"
   ]
  },
  {
   "cell_type": "code",
   "execution_count": 36,
   "metadata": {},
   "outputs": [],
   "source": [
    "df_month_dummy = melt_cat('month')"
   ]
  },
  {
   "cell_type": "code",
   "execution_count": 144,
   "metadata": {
    "scrolled": true
   },
   "outputs": [
    {
     "data": {
      "image/png": "[encoded data removed]",
      "text/plain": [
       "<Figure size 720x432 with 1 Axes>"
      ]
     },
     "metadata": {
      "needs_background": "light"
     },
     "output_type": "display_data"
    }
   ],
   "source": [
    "m_comp_month = pairwise_tukeyhsd(endog=df_month_dummy['value_yes'], groups=df_month_dummy['month'], alpha=0.05)\n",
    "m_comp_month.plot_simultaneous();"
   ]
  },
  {
   "cell_type": "markdown",
   "metadata": {},
   "source": [
    "The highest subscribe rates occur in March, August, September, October."
   ]
  },
  {
   "cell_type": "markdown",
   "metadata": {},
   "source": [
    "## Education"
   ]
  },
  {
   "cell_type": "code",
   "execution_count": 38,
   "metadata": {},
   "outputs": [],
   "source": [
    "df_education_dummy = melt_cat('education')"
   ]
  },
  {
   "cell_type": "code",
   "execution_count": 145,
   "metadata": {},
   "outputs": [
    {
     "data": {
      "image/png": "[encoded data removed]",
      "text/plain": [
       "<Figure size 720x432 with 1 Axes>"
      ]
     },
     "metadata": {
      "needs_background": "light"
     },
     "output_type": "display_data"
    }
   ],
   "source": [
    "m_comp_edu = pairwise_tukeyhsd(endog=df_education_dummy['value_yes'], groups=df_education_dummy['education'], alpha=0.05)\n",
    "m_comp_edu.plot_simultaneous();"
   ]
  },
  {
   "cell_type": "markdown",
   "metadata": {},
   "source": [
    "Although the mean of illiterate group is high, it doesn't mean that the illiterate people are more likely to subscribe. The reason is that the confidence interval is too wide. We can also ignore 'no' group, that contains unknown values. People who get advanced education (high school, professional course, and university degree) are more likely to subscribe."
   ]
  },
  {
   "cell_type": "markdown",
   "metadata": {},
   "source": [
    "## Loan"
   ]
  },
  {
   "cell_type": "code",
   "execution_count": 40,
   "metadata": {},
   "outputs": [
    {
     "name": "stdout",
     "output_type": "stream",
     "text": [
      "               sum_sq       df         F    PR(>F)\n",
      "C(loan)      0.082124      1.0  0.821521  0.364741\n",
      "Residual  4117.202522  41186.0       NaN       NaN\n"
     ]
    }
   ],
   "source": [
    "df_loan_dummy = melt_cat('loan')\n",
    "loan = ols('value_yes ~ C(loan)', data = df_loan_dummy).fit()\n",
    "aov_tabel_loan=sm.stats.anova_lm(loan, typ =2)\n",
    "print (aov_tabel_loan)"
   ]
  },
  {
   "cell_type": "markdown",
   "metadata": {},
   "source": [
    "The result is not significant among people who have loans or not."
   ]
  },
  {
   "cell_type": "markdown",
   "metadata": {},
   "source": [
    "## Pday_Cat"
   ]
  },
  {
   "cell_type": "code",
   "execution_count": 41,
   "metadata": {},
   "outputs": [],
   "source": [
    "df_pd_dummy = melt_cat('pdays_cat')"
   ]
  },
  {
   "cell_type": "code",
   "execution_count": 146,
   "metadata": {},
   "outputs": [
    {
     "data": {
      "image/png": "[encoded data removed]",
      "text/plain": [
       "<Figure size 720x432 with 1 Axes>"
      ]
     },
     "metadata": {
      "needs_background": "light"
     },
     "output_type": "display_data"
    }
   ],
   "source": [
    "m_comp_pd= pairwise_tukeyhsd(endog=df_pd_dummy['value_yes'], groups=df_pd_dummy['pdays_cat'], alpha=0.05)\n",
    "m_comp_pd.plot_simultaneous();"
   ]
  },
  {
   "cell_type": "markdown",
   "metadata": {},
   "source": [
    "The group of 5-10 days that passed by after the client was last contacted from a previous campaign have the highest mean. The group of no contact before has the lowest mean. "
   ]
  },
  {
   "cell_type": "markdown",
   "metadata": {},
   "source": [
    "# Modeling"
   ]
  },
  {
   "cell_type": "markdown",
   "metadata": {},
   "source": [
    "## Train/Test Split"
   ]
  },
  {
   "cell_type": "code",
   "execution_count": 43,
   "metadata": {},
   "outputs": [
    {
     "data": {
      "text/html": [
       "<div>\n",
       "<style scoped>\n",
       "    .dataframe tbody tr th:only-of-type {\n",
       "        vertical-align: middle;\n",
       "    }\n",
       "\n",
       "    .dataframe tbody tr th {\n",
       "        vertical-align: top;\n",
       "    }\n",
       "\n",
       "    .dataframe thead th {\n",
       "        text-align: right;\n",
       "    }\n",
       "</style>\n",
       "<table border=\"1\" class=\"dataframe\">\n",
       "  <thead>\n",
       "    <tr style=\"text-align: right;\">\n",
       "      <th></th>\n",
       "      <th>age</th>\n",
       "      <th>campaign</th>\n",
       "      <th>previous</th>\n",
       "      <th>emp.var.rate</th>\n",
       "      <th>cons.price.idx</th>\n",
       "      <th>cons.conf.idx</th>\n",
       "      <th>euribor3m</th>\n",
       "      <th>nr.employed</th>\n",
       "      <th>education_basic.4y</th>\n",
       "      <th>education_basic.6y</th>\n",
       "      <th>...</th>\n",
       "      <th>job_student</th>\n",
       "      <th>job_technician</th>\n",
       "      <th>job_unemployed</th>\n",
       "      <th>poutcome_failure</th>\n",
       "      <th>poutcome_no</th>\n",
       "      <th>poutcome_success</th>\n",
       "      <th>pdays_cat_5-10 days</th>\n",
       "      <th>pdays_cat_&lt;= 5 days</th>\n",
       "      <th>pdays_cat_&gt;10 days</th>\n",
       "      <th>pdays_cat_no contact before</th>\n",
       "    </tr>\n",
       "  </thead>\n",
       "  <tbody>\n",
       "    <tr>\n",
       "      <th>0</th>\n",
       "      <td>56</td>\n",
       "      <td>1</td>\n",
       "      <td>0</td>\n",
       "      <td>1.1</td>\n",
       "      <td>93.994</td>\n",
       "      <td>-36.4</td>\n",
       "      <td>4.857</td>\n",
       "      <td>5191.0</td>\n",
       "      <td>1.0</td>\n",
       "      <td>0.0</td>\n",
       "      <td>...</td>\n",
       "      <td>0.0</td>\n",
       "      <td>0.0</td>\n",
       "      <td>0.0</td>\n",
       "      <td>0.0</td>\n",
       "      <td>1.0</td>\n",
       "      <td>0.0</td>\n",
       "      <td>0.0</td>\n",
       "      <td>0.0</td>\n",
       "      <td>0.0</td>\n",
       "      <td>1.0</td>\n",
       "    </tr>\n",
       "    <tr>\n",
       "      <th>1</th>\n",
       "      <td>57</td>\n",
       "      <td>1</td>\n",
       "      <td>0</td>\n",
       "      <td>1.1</td>\n",
       "      <td>93.994</td>\n",
       "      <td>-36.4</td>\n",
       "      <td>4.857</td>\n",
       "      <td>5191.0</td>\n",
       "      <td>0.0</td>\n",
       "      <td>0.0</td>\n",
       "      <td>...</td>\n",
       "      <td>0.0</td>\n",
       "      <td>0.0</td>\n",
       "      <td>0.0</td>\n",
       "      <td>0.0</td>\n",
       "      <td>1.0</td>\n",
       "      <td>0.0</td>\n",
       "      <td>0.0</td>\n",
       "      <td>0.0</td>\n",
       "      <td>0.0</td>\n",
       "      <td>1.0</td>\n",
       "    </tr>\n",
       "    <tr>\n",
       "      <th>2</th>\n",
       "      <td>37</td>\n",
       "      <td>1</td>\n",
       "      <td>0</td>\n",
       "      <td>1.1</td>\n",
       "      <td>93.994</td>\n",
       "      <td>-36.4</td>\n",
       "      <td>4.857</td>\n",
       "      <td>5191.0</td>\n",
       "      <td>0.0</td>\n",
       "      <td>0.0</td>\n",
       "      <td>...</td>\n",
       "      <td>0.0</td>\n",
       "      <td>0.0</td>\n",
       "      <td>0.0</td>\n",
       "      <td>0.0</td>\n",
       "      <td>1.0</td>\n",
       "      <td>0.0</td>\n",
       "      <td>0.0</td>\n",
       "      <td>0.0</td>\n",
       "      <td>0.0</td>\n",
       "      <td>1.0</td>\n",
       "    </tr>\n",
       "    <tr>\n",
       "      <th>3</th>\n",
       "      <td>40</td>\n",
       "      <td>1</td>\n",
       "      <td>0</td>\n",
       "      <td>1.1</td>\n",
       "      <td>93.994</td>\n",
       "      <td>-36.4</td>\n",
       "      <td>4.857</td>\n",
       "      <td>5191.0</td>\n",
       "      <td>0.0</td>\n",
       "      <td>1.0</td>\n",
       "      <td>...</td>\n",
       "      <td>0.0</td>\n",
       "      <td>0.0</td>\n",
       "      <td>0.0</td>\n",
       "      <td>0.0</td>\n",
       "      <td>1.0</td>\n",
       "      <td>0.0</td>\n",
       "      <td>0.0</td>\n",
       "      <td>0.0</td>\n",
       "      <td>0.0</td>\n",
       "      <td>1.0</td>\n",
       "    </tr>\n",
       "    <tr>\n",
       "      <th>4</th>\n",
       "      <td>56</td>\n",
       "      <td>1</td>\n",
       "      <td>0</td>\n",
       "      <td>1.1</td>\n",
       "      <td>93.994</td>\n",
       "      <td>-36.4</td>\n",
       "      <td>4.857</td>\n",
       "      <td>5191.0</td>\n",
       "      <td>0.0</td>\n",
       "      <td>0.0</td>\n",
       "      <td>...</td>\n",
       "      <td>0.0</td>\n",
       "      <td>0.0</td>\n",
       "      <td>0.0</td>\n",
       "      <td>0.0</td>\n",
       "      <td>1.0</td>\n",
       "      <td>0.0</td>\n",
       "      <td>0.0</td>\n",
       "      <td>0.0</td>\n",
       "      <td>0.0</td>\n",
       "      <td>1.0</td>\n",
       "    </tr>\n",
       "    <tr>\n",
       "      <th>...</th>\n",
       "      <td>...</td>\n",
       "      <td>...</td>\n",
       "      <td>...</td>\n",
       "      <td>...</td>\n",
       "      <td>...</td>\n",
       "      <td>...</td>\n",
       "      <td>...</td>\n",
       "      <td>...</td>\n",
       "      <td>...</td>\n",
       "      <td>...</td>\n",
       "      <td>...</td>\n",
       "      <td>...</td>\n",
       "      <td>...</td>\n",
       "      <td>...</td>\n",
       "      <td>...</td>\n",
       "      <td>...</td>\n",
       "      <td>...</td>\n",
       "      <td>...</td>\n",
       "      <td>...</td>\n",
       "      <td>...</td>\n",
       "      <td>...</td>\n",
       "    </tr>\n",
       "    <tr>\n",
       "      <th>41183</th>\n",
       "      <td>73</td>\n",
       "      <td>1</td>\n",
       "      <td>0</td>\n",
       "      <td>-1.1</td>\n",
       "      <td>94.767</td>\n",
       "      <td>-50.8</td>\n",
       "      <td>1.028</td>\n",
       "      <td>4963.6</td>\n",
       "      <td>0.0</td>\n",
       "      <td>0.0</td>\n",
       "      <td>...</td>\n",
       "      <td>0.0</td>\n",
       "      <td>0.0</td>\n",
       "      <td>0.0</td>\n",
       "      <td>0.0</td>\n",
       "      <td>1.0</td>\n",
       "      <td>0.0</td>\n",
       "      <td>0.0</td>\n",
       "      <td>0.0</td>\n",
       "      <td>0.0</td>\n",
       "      <td>1.0</td>\n",
       "    </tr>\n",
       "    <tr>\n",
       "      <th>41184</th>\n",
       "      <td>46</td>\n",
       "      <td>1</td>\n",
       "      <td>0</td>\n",
       "      <td>-1.1</td>\n",
       "      <td>94.767</td>\n",
       "      <td>-50.8</td>\n",
       "      <td>1.028</td>\n",
       "      <td>4963.6</td>\n",
       "      <td>0.0</td>\n",
       "      <td>0.0</td>\n",
       "      <td>...</td>\n",
       "      <td>0.0</td>\n",
       "      <td>0.0</td>\n",
       "      <td>0.0</td>\n",
       "      <td>0.0</td>\n",
       "      <td>1.0</td>\n",
       "      <td>0.0</td>\n",
       "      <td>0.0</td>\n",
       "      <td>0.0</td>\n",
       "      <td>0.0</td>\n",
       "      <td>1.0</td>\n",
       "    </tr>\n",
       "    <tr>\n",
       "      <th>41185</th>\n",
       "      <td>56</td>\n",
       "      <td>2</td>\n",
       "      <td>0</td>\n",
       "      <td>-1.1</td>\n",
       "      <td>94.767</td>\n",
       "      <td>-50.8</td>\n",
       "      <td>1.028</td>\n",
       "      <td>4963.6</td>\n",
       "      <td>0.0</td>\n",
       "      <td>0.0</td>\n",
       "      <td>...</td>\n",
       "      <td>0.0</td>\n",
       "      <td>0.0</td>\n",
       "      <td>0.0</td>\n",
       "      <td>0.0</td>\n",
       "      <td>1.0</td>\n",
       "      <td>0.0</td>\n",
       "      <td>0.0</td>\n",
       "      <td>0.0</td>\n",
       "      <td>0.0</td>\n",
       "      <td>1.0</td>\n",
       "    </tr>\n",
       "    <tr>\n",
       "      <th>41186</th>\n",
       "      <td>44</td>\n",
       "      <td>1</td>\n",
       "      <td>0</td>\n",
       "      <td>-1.1</td>\n",
       "      <td>94.767</td>\n",
       "      <td>-50.8</td>\n",
       "      <td>1.028</td>\n",
       "      <td>4963.6</td>\n",
       "      <td>0.0</td>\n",
       "      <td>0.0</td>\n",
       "      <td>...</td>\n",
       "      <td>0.0</td>\n",
       "      <td>1.0</td>\n",
       "      <td>0.0</td>\n",
       "      <td>0.0</td>\n",
       "      <td>1.0</td>\n",
       "      <td>0.0</td>\n",
       "      <td>0.0</td>\n",
       "      <td>0.0</td>\n",
       "      <td>0.0</td>\n",
       "      <td>1.0</td>\n",
       "    </tr>\n",
       "    <tr>\n",
       "      <th>41187</th>\n",
       "      <td>74</td>\n",
       "      <td>3</td>\n",
       "      <td>1</td>\n",
       "      <td>-1.1</td>\n",
       "      <td>94.767</td>\n",
       "      <td>-50.8</td>\n",
       "      <td>1.028</td>\n",
       "      <td>4963.6</td>\n",
       "      <td>0.0</td>\n",
       "      <td>0.0</td>\n",
       "      <td>...</td>\n",
       "      <td>0.0</td>\n",
       "      <td>0.0</td>\n",
       "      <td>0.0</td>\n",
       "      <td>1.0</td>\n",
       "      <td>0.0</td>\n",
       "      <td>0.0</td>\n",
       "      <td>0.0</td>\n",
       "      <td>0.0</td>\n",
       "      <td>0.0</td>\n",
       "      <td>1.0</td>\n",
       "    </tr>\n",
       "  </tbody>\n",
       "</table>\n",
       "<p>41188 rows × 63 columns</p>\n",
       "</div>"
      ],
      "text/plain": [
       "       age  campaign  previous  emp.var.rate  cons.price.idx  cons.conf.idx  \\\n",
       "0       56         1         0           1.1          93.994          -36.4   \n",
       "1       57         1         0           1.1          93.994          -36.4   \n",
       "2       37         1         0           1.1          93.994          -36.4   \n",
       "3       40         1         0           1.1          93.994          -36.4   \n",
       "4       56         1         0           1.1          93.994          -36.4   \n",
       "...    ...       ...       ...           ...             ...            ...   \n",
       "41183   73         1         0          -1.1          94.767          -50.8   \n",
       "41184   46         1         0          -1.1          94.767          -50.8   \n",
       "41185   56         2         0          -1.1          94.767          -50.8   \n",
       "41186   44         1         0          -1.1          94.767          -50.8   \n",
       "41187   74         3         1          -1.1          94.767          -50.8   \n",
       "\n",
       "       euribor3m  nr.employed  education_basic.4y  education_basic.6y  ...  \\\n",
       "0          4.857       5191.0                 1.0                 0.0  ...   \n",
       "1          4.857       5191.0                 0.0                 0.0  ...   \n",
       "2          4.857       5191.0                 0.0                 0.0  ...   \n",
       "3          4.857       5191.0                 0.0                 1.0  ...   \n",
       "4          4.857       5191.0                 0.0                 0.0  ...   \n",
       "...          ...          ...                 ...                 ...  ...   \n",
       "41183      1.028       4963.6                 0.0                 0.0  ...   \n",
       "41184      1.028       4963.6                 0.0                 0.0  ...   \n",
       "41185      1.028       4963.6                 0.0                 0.0  ...   \n",
       "41186      1.028       4963.6                 0.0                 0.0  ...   \n",
       "41187      1.028       4963.6                 0.0                 0.0  ...   \n",
       "\n",
       "       job_student  job_technician  job_unemployed  poutcome_failure  \\\n",
       "0              0.0             0.0             0.0               0.0   \n",
       "1              0.0             0.0             0.0               0.0   \n",
       "2              0.0             0.0             0.0               0.0   \n",
       "3              0.0             0.0             0.0               0.0   \n",
       "4              0.0             0.0             0.0               0.0   \n",
       "...            ...             ...             ...               ...   \n",
       "41183          0.0             0.0             0.0               0.0   \n",
       "41184          0.0             0.0             0.0               0.0   \n",
       "41185          0.0             0.0             0.0               0.0   \n",
       "41186          0.0             1.0             0.0               0.0   \n",
       "41187          0.0             0.0             0.0               1.0   \n",
       "\n",
       "       poutcome_no  poutcome_success  pdays_cat_5-10 days  \\\n",
       "0              1.0               0.0                  0.0   \n",
       "1              1.0               0.0                  0.0   \n",
       "2              1.0               0.0                  0.0   \n",
       "3              1.0               0.0                  0.0   \n",
       "4              1.0               0.0                  0.0   \n",
       "...            ...               ...                  ...   \n",
       "41183          1.0               0.0                  0.0   \n",
       "41184          1.0               0.0                  0.0   \n",
       "41185          1.0               0.0                  0.0   \n",
       "41186          1.0               0.0                  0.0   \n",
       "41187          0.0               0.0                  0.0   \n",
       "\n",
       "       pdays_cat_<= 5 days  pdays_cat_>10 days  pdays_cat_no contact before  \n",
       "0                      0.0                 0.0                          1.0  \n",
       "1                      0.0                 0.0                          1.0  \n",
       "2                      0.0                 0.0                          1.0  \n",
       "3                      0.0                 0.0                          1.0  \n",
       "4                      0.0                 0.0                          1.0  \n",
       "...                    ...                 ...                          ...  \n",
       "41183                  0.0                 0.0                          1.0  \n",
       "41184                  0.0                 0.0                          1.0  \n",
       "41185                  0.0                 0.0                          1.0  \n",
       "41186                  0.0                 0.0                          1.0  \n",
       "41187                  0.0                 0.0                          1.0  \n",
       "\n",
       "[41188 rows x 63 columns]"
      ]
     },
     "execution_count": 43,
     "metadata": {},
     "output_type": "execute_result"
    }
   ],
   "source": [
    "# To have a realistic predictive model, duration variable is dropped from numeric columns.\n",
    "num_columns.remove('duration')\n",
    "imputed_bank_full= imputed_bank_full.drop(['duration', 'y_no'], axis = 1) \n",
    "imputed_bank_full"
   ]
  },
  {
   "cell_type": "code",
   "execution_count": 44,
   "metadata": {},
   "outputs": [
    {
     "name": "stdout",
     "output_type": "stream",
     "text": [
      "(32950, 62)\n",
      "(8238, 62)\n"
     ]
    }
   ],
   "source": [
    "#Divide dataset into trainX, trainY, testX, testY \n",
    "X_train, X_test, y_train, y_test = train_test_split(imputed_bank_full.drop(['y_yes'], axis = 1), imputed_bank_full['y_yes'], test_size=0.2, random_state=42)\n",
    "print (X_train.shape)\n",
    "print (X_test.shape)"
   ]
  },
  {
   "cell_type": "code",
   "execution_count": 45,
   "metadata": {},
   "outputs": [
    {
     "name": "stdout",
     "output_type": "stream",
     "text": [
      "(32950, 62)\n"
     ]
    }
   ],
   "source": [
    "#Standardization,mean removal and variance scaling on the train set for numeric training data\n",
    "X_train_df = pd.DataFrame(data = X_train, columns = imputed_bank_full.drop(['y_yes'], axis = 1).columns)\n",
    "X_train_df_num = X_train_df[num_columns]\n",
    "scaler = preprocessing.StandardScaler().fit(X_train_df_num)\n",
    "X_train_scaled_num = scaler.transform(X_train_df_num)\n",
    "X_train_df[num_columns] = X_train_scaled_num\n",
    "print (X_train_df.shape)"
   ]
  },
  {
   "cell_type": "code",
   "execution_count": 46,
   "metadata": {},
   "outputs": [
    {
     "data": {
      "text/plain": [
       "((58490, 62), (58490,))"
      ]
     },
     "execution_count": 46,
     "metadata": {},
     "output_type": "execute_result"
    }
   ],
   "source": [
    "#smote for imbalanced data on training dataset \n",
    "X_train_smote = X_train_df.values\n",
    "y_train_smote = y_train.values\n",
    "sm = SMOTE(random_state=42)\n",
    "X_res_train, y_res_train = sm.fit_resample(X_train_smote, y_train_smote)\n",
    "X_res_train.shape, y_res_train.shape"
   ]
  },
  {
   "cell_type": "code",
   "execution_count": 47,
   "metadata": {},
   "outputs": [
    {
     "name": "stdout",
     "output_type": "stream",
     "text": [
      "(8238, 62)\n"
     ]
    },
    {
     "data": {
      "text/html": [
       "<div>\n",
       "<style scoped>\n",
       "    .dataframe tbody tr th:only-of-type {\n",
       "        vertical-align: middle;\n",
       "    }\n",
       "\n",
       "    .dataframe tbody tr th {\n",
       "        vertical-align: top;\n",
       "    }\n",
       "\n",
       "    .dataframe thead th {\n",
       "        text-align: right;\n",
       "    }\n",
       "</style>\n",
       "<table border=\"1\" class=\"dataframe\">\n",
       "  <thead>\n",
       "    <tr style=\"text-align: right;\">\n",
       "      <th></th>\n",
       "      <th>age</th>\n",
       "      <th>campaign</th>\n",
       "      <th>previous</th>\n",
       "      <th>emp.var.rate</th>\n",
       "      <th>cons.price.idx</th>\n",
       "      <th>cons.conf.idx</th>\n",
       "      <th>euribor3m</th>\n",
       "      <th>nr.employed</th>\n",
       "    </tr>\n",
       "  </thead>\n",
       "  <tbody>\n",
       "    <tr>\n",
       "      <th>32884</th>\n",
       "      <td>1.627357</td>\n",
       "      <td>-0.566200</td>\n",
       "      <td>1.677559</td>\n",
       "      <td>-1.199440</td>\n",
       "      <td>-1.180760</td>\n",
       "      <td>-1.229916</td>\n",
       "      <td>-1.340304</td>\n",
       "      <td>-0.939748</td>\n",
       "    </tr>\n",
       "    <tr>\n",
       "      <th>3169</th>\n",
       "      <td>1.435707</td>\n",
       "      <td>-0.206242</td>\n",
       "      <td>-0.350902</td>\n",
       "      <td>0.647709</td>\n",
       "      <td>0.720307</td>\n",
       "      <td>0.890097</td>\n",
       "      <td>0.713674</td>\n",
       "      <td>0.330405</td>\n",
       "    </tr>\n",
       "    <tr>\n",
       "      <th>32206</th>\n",
       "      <td>-0.672445</td>\n",
       "      <td>-0.566200</td>\n",
       "      <td>1.677559</td>\n",
       "      <td>-1.199440</td>\n",
       "      <td>-1.180760</td>\n",
       "      <td>-1.229916</td>\n",
       "      <td>-1.332229</td>\n",
       "      <td>-0.939748</td>\n",
       "    </tr>\n",
       "    <tr>\n",
       "      <th>9403</th>\n",
       "      <td>-0.384970</td>\n",
       "      <td>0.513676</td>\n",
       "      <td>-0.350902</td>\n",
       "      <td>0.838794</td>\n",
       "      <td>1.533570</td>\n",
       "      <td>-0.278074</td>\n",
       "      <td>0.775391</td>\n",
       "      <td>0.843165</td>\n",
       "    </tr>\n",
       "    <tr>\n",
       "      <th>14020</th>\n",
       "      <td>-1.247395</td>\n",
       "      <td>-0.206242</td>\n",
       "      <td>-0.350902</td>\n",
       "      <td>0.838794</td>\n",
       "      <td>0.589080</td>\n",
       "      <td>-0.472769</td>\n",
       "      <td>0.773084</td>\n",
       "      <td>0.843165</td>\n",
       "    </tr>\n",
       "    <tr>\n",
       "      <th>...</th>\n",
       "      <td>...</td>\n",
       "      <td>...</td>\n",
       "      <td>...</td>\n",
       "      <td>...</td>\n",
       "      <td>...</td>\n",
       "      <td>...</td>\n",
       "      <td>...</td>\n",
       "      <td>...</td>\n",
       "    </tr>\n",
       "    <tr>\n",
       "      <th>12322</th>\n",
       "      <td>-1.247395</td>\n",
       "      <td>-0.566200</td>\n",
       "      <td>-0.350902</td>\n",
       "      <td>0.838794</td>\n",
       "      <td>0.589080</td>\n",
       "      <td>-0.472769</td>\n",
       "      <td>0.770777</td>\n",
       "      <td>0.843165</td>\n",
       "    </tr>\n",
       "    <tr>\n",
       "      <th>23440</th>\n",
       "      <td>0.094156</td>\n",
       "      <td>1.593552</td>\n",
       "      <td>-0.350902</td>\n",
       "      <td>0.838794</td>\n",
       "      <td>-0.229363</td>\n",
       "      <td>0.954995</td>\n",
       "      <td>0.773661</td>\n",
       "      <td>0.843165</td>\n",
       "    </tr>\n",
       "    <tr>\n",
       "      <th>29431</th>\n",
       "      <td>0.573281</td>\n",
       "      <td>3.393346</td>\n",
       "      <td>1.677559</td>\n",
       "      <td>-1.199440</td>\n",
       "      <td>-0.866505</td>\n",
       "      <td>-1.424611</td>\n",
       "      <td>-1.279164</td>\n",
       "      <td>-0.939748</td>\n",
       "    </tr>\n",
       "    <tr>\n",
       "      <th>16627</th>\n",
       "      <td>-0.864095</td>\n",
       "      <td>-0.206242</td>\n",
       "      <td>-0.350902</td>\n",
       "      <td>0.838794</td>\n",
       "      <td>0.589080</td>\n",
       "      <td>-0.472769</td>\n",
       "      <td>0.773084</td>\n",
       "      <td>0.843165</td>\n",
       "    </tr>\n",
       "    <tr>\n",
       "      <th>1871</th>\n",
       "      <td>1.819007</td>\n",
       "      <td>-0.206242</td>\n",
       "      <td>-0.350902</td>\n",
       "      <td>0.647709</td>\n",
       "      <td>0.720307</td>\n",
       "      <td>0.890097</td>\n",
       "      <td>0.710790</td>\n",
       "      <td>0.330405</td>\n",
       "    </tr>\n",
       "  </tbody>\n",
       "</table>\n",
       "<p>8238 rows × 8 columns</p>\n",
       "</div>"
      ],
      "text/plain": [
       "            age  campaign  previous  emp.var.rate  cons.price.idx  \\\n",
       "32884  1.627357 -0.566200  1.677559     -1.199440       -1.180760   \n",
       "3169   1.435707 -0.206242 -0.350902      0.647709        0.720307   \n",
       "32206 -0.672445 -0.566200  1.677559     -1.199440       -1.180760   \n",
       "9403  -0.384970  0.513676 -0.350902      0.838794        1.533570   \n",
       "14020 -1.247395 -0.206242 -0.350902      0.838794        0.589080   \n",
       "...         ...       ...       ...           ...             ...   \n",
       "12322 -1.247395 -0.566200 -0.350902      0.838794        0.589080   \n",
       "23440  0.094156  1.593552 -0.350902      0.838794       -0.229363   \n",
       "29431  0.573281  3.393346  1.677559     -1.199440       -0.866505   \n",
       "16627 -0.864095 -0.206242 -0.350902      0.838794        0.589080   \n",
       "1871   1.819007 -0.206242 -0.350902      0.647709        0.720307   \n",
       "\n",
       "       cons.conf.idx  euribor3m  nr.employed  \n",
       "32884      -1.229916  -1.340304    -0.939748  \n",
       "3169        0.890097   0.713674     0.330405  \n",
       "32206      -1.229916  -1.332229    -0.939748  \n",
       "9403       -0.278074   0.775391     0.843165  \n",
       "14020      -0.472769   0.773084     0.843165  \n",
       "...              ...        ...          ...  \n",
       "12322      -0.472769   0.770777     0.843165  \n",
       "23440       0.954995   0.773661     0.843165  \n",
       "29431      -1.424611  -1.279164    -0.939748  \n",
       "16627      -0.472769   0.773084     0.843165  \n",
       "1871        0.890097   0.710790     0.330405  \n",
       "\n",
       "[8238 rows x 8 columns]"
      ]
     },
     "execution_count": 47,
     "metadata": {},
     "output_type": "execute_result"
    }
   ],
   "source": [
    "##Standardization,mean removal and variance scaling on the train set for numeric testing data\n",
    "X_test_df = pd.DataFrame(data = X_test, columns = imputed_bank_full.drop(['y_yes'], axis = 1).columns)\n",
    "X_test_df_num = X_test_df[num_columns]\n",
    "X_test_scaled_num = scaler.transform(X_test_df_num)\n",
    "X_test_df[num_columns] = X_test_scaled_num\n",
    "print (X_test_df.shape)\n",
    "X_test_df[num_columns]"
   ]
  },
  {
   "cell_type": "markdown",
   "metadata": {},
   "source": [
    "# Random Forest Model"
   ]
  },
  {
   "cell_type": "code",
   "execution_count": 48,
   "metadata": {},
   "outputs": [
    {
     "data": {
      "text/plain": [
       "RandomForestClassifier(bootstrap=True, ccp_alpha=0.0, class_weight=None,\n",
       "                       criterion='gini', max_depth=None, max_features='sqrt',\n",
       "                       max_leaf_nodes=None, max_samples=None,\n",
       "                       min_impurity_decrease=0.0, min_impurity_split=None,\n",
       "                       min_samples_leaf=1, min_samples_split=2,\n",
       "                       min_weight_fraction_leaf=0.0, n_estimators=125,\n",
       "                       n_jobs=None, oob_score=False, random_state=42, verbose=0,\n",
       "                       warm_start=False)"
      ]
     },
     "execution_count": 48,
     "metadata": {},
     "output_type": "execute_result"
    }
   ],
   "source": [
    "clf = RandomForestClassifier(max_depth=None, random_state=42, n_estimators =125, max_features= 'sqrt') \n",
    "clf.fit(X_res_train, y_res_train)"
   ]
  },
  {
   "cell_type": "code",
   "execution_count": 49,
   "metadata": {},
   "outputs": [
    {
     "name": "stdout",
     "output_type": "stream",
     "text": [
      "[0. 0. 0. ... 0. 0. 0.]\n"
     ]
    },
    {
     "data": {
      "text/plain": [
       "(array([0., 1.]), array([7559,  679], dtype=int64))"
      ]
     },
     "execution_count": 49,
     "metadata": {},
     "output_type": "execute_result"
    }
   ],
   "source": [
    "y_predict = clf.predict(X_test_df)\n",
    "print(y_predict)\n",
    "np.unique(y_predict, return_counts=True)"
   ]
  },
  {
   "cell_type": "code",
   "execution_count": 50,
   "metadata": {},
   "outputs": [
    {
     "name": "stdout",
     "output_type": "stream",
     "text": [
      "rf_probs:  [0.024      0.024      0.008      ... 0.2        0.02933333 0.208     ]\n",
      "roc_value:  0.7758207197833137\n",
      "Base Score:  0.8832240835154164\n"
     ]
    }
   ],
   "source": [
    "#Predict class probabilities for X_test\n",
    "rf_probs = clf.predict_proba(X_test_df)[:,1]\n",
    "print ('rf_probs: ', rf_probs)\n",
    "#Compute Area Under the Receiver Operating Characteristic Curve (ROC AUC) from prediction scores.\n",
    "roc_value = metrics.roc_auc_score(y_test, rf_probs)\n",
    "print ('roc_value: ', roc_value)\n",
    "# Model Accuracy, how often is the classifier correct?\n",
    "base_score= clf.score(X_test_df, y_test)\n",
    "print ('Base Score: ', base_score)"
   ]
  },
  {
   "cell_type": "markdown",
   "metadata": {},
   "source": [
    "# Use Randomsearch for Best Parameters "
   ]
  },
  {
   "cell_type": "code",
   "execution_count": 116,
   "metadata": {},
   "outputs": [
    {
     "name": "stdout",
     "output_type": "stream",
     "text": [
      "Parameters currently in use:\n",
      "\n",
      "{'bootstrap': True,\n",
      " 'ccp_alpha': 0.0,\n",
      " 'class_weight': None,\n",
      " 'criterion': 'gini',\n",
      " 'max_depth': None,\n",
      " 'max_features': 'auto',\n",
      " 'max_leaf_nodes': None,\n",
      " 'max_samples': None,\n",
      " 'min_impurity_decrease': 0.0,\n",
      " 'min_impurity_split': None,\n",
      " 'min_samples_leaf': 1,\n",
      " 'min_samples_split': 2,\n",
      " 'min_weight_fraction_leaf': 0.0,\n",
      " 'n_estimators': 100,\n",
      " 'n_jobs': None,\n",
      " 'oob_score': False,\n",
      " 'random_state': 42,\n",
      " 'verbose': 0,\n",
      " 'warm_start': False}\n"
     ]
    }
   ],
   "source": [
    "#Create a random forest and examine the default values\n",
    "# Get default hyperparameters\n",
    "rf = RandomForestClassifier(random_state = 42)\n",
    "print('Parameters currently in use:\\n')\n",
    "pprint(rf.get_params())"
   ]
  },
  {
   "cell_type": "code",
   "execution_count": 117,
   "metadata": {},
   "outputs": [
    {
     "name": "stdout",
     "output_type": "stream",
     "text": [
      "{'bootstrap': [True, False],\n",
      " 'max_depth': [10, 21, 32, 43, 54, 65, 76, 87, 98, 110, None],\n",
      " 'max_features': ['auto', 'sqrt'],\n",
      " 'min_samples_leaf': [1, 2, 4],\n",
      " 'min_samples_split': [2, 5, 10],\n",
      " 'n_estimators': [50, 100, 150, 200, 250, 300]}\n"
     ]
    }
   ],
   "source": [
    "# Method of selecting samples for training each tree\n",
    "bootstrap = [True, False]\n",
    "\n",
    "# Maximum number of levels in tree\n",
    "max_depth = [int(x) for x in np.linspace(10, 110, num = 10)]\n",
    "max_depth.append(None)\n",
    "\n",
    "# Number of features to consider at every split\n",
    "max_features = ['auto', 'sqrt']\n",
    "\n",
    "\n",
    "# Minimum number of samples required at each leaf node\n",
    "min_samples_leaf = [1, 2, 4]\n",
    "\n",
    "# Minimum number of samples required to split a node\n",
    "min_samples_split = [2, 5, 10]\n",
    "\n",
    "# Number of trees in random forest\n",
    "n_estimators = [int(x) for x in np.linspace(start = 50, stop = 300, num = 6)]\n",
    "\n",
    "# Create the random grid\n",
    "random_grid = {'n_estimators': n_estimators,\n",
    "               'max_features': max_features,\n",
    "               'max_depth': max_depth,\n",
    "               'min_samples_split': min_samples_split,\n",
    "               'min_samples_leaf': min_samples_leaf,\n",
    "               'bootstrap': bootstrap}\n",
    "pprint(random_grid)"
   ]
  },
  {
   "cell_type": "code",
   "execution_count": 118,
   "metadata": {},
   "outputs": [
    {
     "name": "stdout",
     "output_type": "stream",
     "text": [
      "Fitting 5 folds for each of 50 candidates, totalling 250 fits\n"
     ]
    },
    {
     "name": "stderr",
     "output_type": "stream",
     "text": [
      "[Parallel(n_jobs=-1)]: Using backend LokyBackend with 8 concurrent workers.\n",
      "[Parallel(n_jobs=-1)]: Done  25 tasks      | elapsed:  2.3min\n",
      "[Parallel(n_jobs=-1)]: Done 146 tasks      | elapsed:  9.7min\n",
      "[Parallel(n_jobs=-1)]: Done 250 out of 250 | elapsed: 16.2min finished\n"
     ]
    },
    {
     "data": {
      "text/plain": [
       "RandomizedSearchCV(cv=5, error_score=nan,\n",
       "                   estimator=RandomForestClassifier(bootstrap=True,\n",
       "                                                    ccp_alpha=0.0,\n",
       "                                                    class_weight=None,\n",
       "                                                    criterion='gini',\n",
       "                                                    max_depth=None,\n",
       "                                                    max_features='sqrt',\n",
       "                                                    max_leaf_nodes=None,\n",
       "                                                    max_samples=None,\n",
       "                                                    min_impurity_decrease=0.0,\n",
       "                                                    min_impurity_split=None,\n",
       "                                                    min_samples_leaf=1,\n",
       "                                                    min_samples_split=2,\n",
       "                                                    min_weight_fraction_leaf=0.0,\n",
       "                                                    n_estimators=125,\n",
       "                                                    n_jobs...\n",
       "                   iid='deprecated', n_iter=50, n_jobs=-1,\n",
       "                   param_distributions={'bootstrap': [True, False],\n",
       "                                        'max_depth': [10, 21, 32, 43, 54, 65,\n",
       "                                                      76, 87, 98, 110, None],\n",
       "                                        'max_features': ['auto', 'sqrt'],\n",
       "                                        'min_samples_leaf': [1, 2, 4],\n",
       "                                        'min_samples_split': [2, 5, 10],\n",
       "                                        'n_estimators': [50, 100, 150, 200, 250,\n",
       "                                                         300]},\n",
       "                   pre_dispatch='2*n_jobs', random_state=42, refit=True,\n",
       "                   return_train_score=False, scoring=None, verbose=2)"
      ]
     },
     "execution_count": 118,
     "metadata": {},
     "output_type": "execute_result"
    }
   ],
   "source": [
    "# Use the random grid to search for best hyperparameters\n",
    "# Random search of parameters, using 3 fold cross validation, \n",
    "# search across different combinations, and use all available cores\n",
    "rf_random = RandomizedSearchCV(estimator = clf, param_distributions = random_grid, n_iter = 50, cv = 5, verbose=2, random_state=42, n_jobs=-1)\n",
    "# Fit the random search model\n",
    "rf_random.fit(X_res_train, y_res_train)"
   ]
  },
  {
   "cell_type": "code",
   "execution_count": 119,
   "metadata": {},
   "outputs": [
    {
     "data": {
      "text/plain": [
       "{'n_estimators': 250,\n",
       " 'min_samples_split': 5,\n",
       " 'min_samples_leaf': 1,\n",
       " 'max_features': 'auto',\n",
       " 'max_depth': 32,\n",
       " 'bootstrap': False}"
      ]
     },
     "execution_count": 119,
     "metadata": {},
     "output_type": "execute_result"
    }
   ],
   "source": [
    "rf_random.best_params_"
   ]
  },
  {
   "cell_type": "code",
   "execution_count": 120,
   "metadata": {},
   "outputs": [
    {
     "name": "stdout",
     "output_type": "stream",
     "text": [
      "RandomForestClassifier(bootstrap=False, ccp_alpha=0.0, class_weight=None,\n",
      "                       criterion='gini', max_depth=32, max_features='auto',\n",
      "                       max_leaf_nodes=None, max_samples=None,\n",
      "                       min_impurity_decrease=0.0, min_impurity_split=None,\n",
      "                       min_samples_leaf=1, min_samples_split=5,\n",
      "                       min_weight_fraction_leaf=0.0, n_estimators=250,\n",
      "                       n_jobs=None, oob_score=False, random_state=42, verbose=0,\n",
      "                       warm_start=False)\n"
     ]
    }
   ],
   "source": [
    "best_random = rf_random.best_estimator_\n",
    "print (best_random)"
   ]
  },
  {
   "cell_type": "code",
   "execution_count": 121,
   "metadata": {},
   "outputs": [
    {
     "name": "stdout",
     "output_type": "stream",
     "text": [
      "best_random rf_probs:  [0.084      0.01826667 0.0115641  ... 0.16       0.03430057 0.24009394]\n",
      "best_random roc score:  0.7712737641332659\n",
      "best_random score:  0.8869871327992231\n"
     ]
    }
   ],
   "source": [
    "best_y_predict = best_random.predict(X_test_df)\n",
    "best_rf_probs = best_random.predict_proba(X_test_df)[:,1]\n",
    "print ('best_random rf_probs: ', best_rf_probs)\n",
    "best_roc_value=metrics.roc_auc_score(y_test, best_rf_probs)\n",
    "print ('best_random roc score: ', best_roc_value)\n",
    "best_score = best_random.score(X_test_df, y_test)\n",
    "print ('best_random score: ', best_score)"
   ]
  },
  {
   "cell_type": "code",
   "execution_count": 122,
   "metadata": {},
   "outputs": [
    {
     "name": "stdout",
     "output_type": "stream",
     "text": [
      "Improvement of 0.43%.\n"
     ]
    }
   ],
   "source": [
    "print('Improvement of {:0.2f}%.'.format( 100 * (best_score - base_score) / base_score))"
   ]
  },
  {
   "cell_type": "markdown",
   "metadata": {},
   "source": [
    "## Grid Search with Cross Validation"
   ]
  },
  {
   "cell_type": "code",
   "execution_count": 62,
   "metadata": {},
   "outputs": [
    {
     "name": "stdout",
     "output_type": "stream",
     "text": [
      "{'bootstrap': [False],\n",
      " 'max_depth': [50, 100, 200, None],\n",
      " 'max_features': ['sqrt', 'auto'],\n",
      " 'min_samples_leaf': [1, 2, 3],\n",
      " 'min_samples_split': [4, 5, 6],\n",
      " 'n_estimators': [30, 50, 70, 100, 200]}\n"
     ]
    }
   ],
   "source": [
    "# Create a parameter grid based on the best_estimator from random search result\n",
    "param_grid = {\n",
    "'n_estimators': [30, 50, 70, 100, 200],\n",
    " 'min_samples_split':[4, 5, 6],\n",
    " 'min_samples_leaf': [1,2,3],\n",
    " 'max_features': ['sqrt','auto'],\n",
    " 'max_depth': [50, 100, 200, None],\n",
    " 'bootstrap': [False]\n",
    "}\n",
    "pprint(param_grid)"
   ]
  },
  {
   "cell_type": "code",
   "execution_count": 63,
   "metadata": {},
   "outputs": [
    {
     "name": "stdout",
     "output_type": "stream",
     "text": [
      "Fitting 5 folds for each of 360 candidates, totalling 1800 fits\n"
     ]
    },
    {
     "name": "stderr",
     "output_type": "stream",
     "text": [
      "[Parallel(n_jobs=-1)]: Using backend LokyBackend with 8 concurrent workers.\n",
      "[Parallel(n_jobs=-1)]: Done  25 tasks      | elapsed:   55.5s\n",
      "[Parallel(n_jobs=-1)]: Done 146 tasks      | elapsed:  5.8min\n",
      "[Parallel(n_jobs=-1)]: Done 349 tasks      | elapsed: 13.9min\n",
      "[Parallel(n_jobs=-1)]: Done 632 tasks      | elapsed: 25.3min\n",
      "[Parallel(n_jobs=-1)]: Done 997 tasks      | elapsed: 39.8min\n",
      "[Parallel(n_jobs=-1)]: Done 1442 tasks      | elapsed: 56.9min\n",
      "[Parallel(n_jobs=-1)]: Done 1800 out of 1800 | elapsed: 71.4min finished\n"
     ]
    },
    {
     "data": {
      "text/plain": [
       "{'bootstrap': False,\n",
       " 'max_depth': 50,\n",
       " 'max_features': 'sqrt',\n",
       " 'min_samples_leaf': 1,\n",
       " 'min_samples_split': 5,\n",
       " 'n_estimators': 70}"
      ]
     },
     "execution_count": 63,
     "metadata": {},
     "output_type": "execute_result"
    }
   ],
   "source": [
    "# Instantiate the grid search model\n",
    "grid_search = GridSearchCV(estimator = clf, param_grid = param_grid, cv = 5, n_jobs = -1, verbose = 2)   \n",
    "# Fit the grid search to the data\n",
    "grid_search.fit(X_res_train, y_res_train)\n",
    "# Find the best prameters\n",
    "grid_search.best_params_"
   ]
  },
  {
   "cell_type": "code",
   "execution_count": 64,
   "metadata": {},
   "outputs": [],
   "source": [
    "best_grid = grid_search.best_estimator_\n",
    "best_grid_predict = best_grid.predict(X_test_df)"
   ]
  },
  {
   "cell_type": "code",
   "execution_count": 65,
   "metadata": {},
   "outputs": [
    {
     "name": "stdout",
     "output_type": "stream",
     "text": [
      "best grid rf_probs:  [0.09166667 0.01785714 0.00952381 ... 0.18095238 0.01785714 0.23928571]\n",
      "best grid rf_probs:  0.7691490787245151\n",
      "best grid score:  0.8882010196649672\n",
      "Improvement of 0.56%.\n"
     ]
    }
   ],
   "source": [
    "grid_rf_probs = best_grid.predict_proba(X_test_df)[:,1]\n",
    "print ('best grid rf_probs: ',grid_rf_probs)\n",
    "grid_roc_value=metrics.roc_auc_score(y_test, grid_rf_probs)\n",
    "print ('best grid rf_probs: ', grid_roc_value)\n",
    "grid_score = best_grid.score(X_test_df, y_test)\n",
    "print ('best grid score: ', grid_score)\n",
    "print('Improvement of {:0.2f}%.'.format( 100 * (grid_score - base_score) / base_score))"
   ]
  },
  {
   "cell_type": "markdown",
   "metadata": {},
   "source": [
    "By comparing the result of random search and grid search, grid search improves0.56% from the base model, while random search improves 0.47%. Grid search is performing a little better."
   ]
  },
  {
   "cell_type": "code",
   "execution_count": 128,
   "metadata": {},
   "outputs": [
    {
     "name": "stdout",
     "output_type": "stream",
     "text": [
      "true negative: 7015 \n",
      " false posotive: 288 \n",
      " false negative: 633 \n",
      " true positive: 302\n"
     ]
    }
   ],
   "source": [
    "#Generate confusion matrix for best_grid\n",
    "tn1, fp1, fn1, tp1 = metrics.confusion_matrix(y_test, best_grid_predict).ravel()\n",
    "print ('true negative:',tn1,'\\n','false posotive:',fp1,'\\n', 'false negative:', fn1, '\\n','true positive:', tp1)"
   ]
  },
  {
   "cell_type": "code",
   "execution_count": 129,
   "metadata": {},
   "outputs": [
    {
     "data": {
      "text/plain": [
       "Text(0.5, 1.0, 'Confusion Matrix')"
      ]
     },
     "execution_count": 129,
     "metadata": {},
     "output_type": "execute_result"
    },
    {
     "data": {
      "image/png": "[encoded data removed]",
      "text/plain": [
       "<Figure size 432x288 with 2 Axes>"
      ]
     },
     "metadata": {
      "needs_background": "light"
     },
     "output_type": "display_data"
    }
   ],
   "source": [
    "cm = metrics.plot_confusion_matrix(best_grid, X_test_df, y_test,normalize = 'true')\n",
    "cm.ax_.set_title('Confusion Matrix')   "
   ]
  },
  {
   "cell_type": "code",
   "execution_count": 133,
   "metadata": {},
   "outputs": [],
   "source": [
    "#Plot ROC curve for best_grid\n",
    "fpr1, tpr1, threshold1 = metrics.roc_curve(y_test, grid_rf_probs, pos_label = 1)\n",
    "roc_auc1 = metrics.auc(fpr1, tpr1)"
   ]
  },
  {
   "cell_type": "code",
   "execution_count": 134,
   "metadata": {},
   "outputs": [
    {
     "data": {
      "image/png": "[encoded data removed]",
      "text/plain": [
       "<Figure size 432x288 with 1 Axes>"
      ]
     },
     "metadata": {
      "needs_background": "light"
     },
     "output_type": "display_data"
    }
   ],
   "source": [
    "\n",
    "plt.title('Receiver Operating Characteristic')\n",
    "plt.plot(fpr1, tpr1, 'b', label = 'AUC = %0.2f' % roc_auc1)\n",
    "plt.legend(loc = 'lower right')\n",
    "plt.plot([0, 1], [0, 1],'r--')\n",
    "plt.xlim([0, 1])\n",
    "plt.ylim([0, 1])\n",
    "plt.ylabel('True Positive Rate')\n",
    "plt.xlabel('False Positive Rate')\n",
    "plt.show()"
   ]
  },
  {
   "cell_type": "code",
   "execution_count": 137,
   "metadata": {},
   "outputs": [
    {
     "name": "stdout",
     "output_type": "stream",
     "text": [
      "Average precision-recall score for the random forest tree: 0.39\n"
     ]
    }
   ],
   "source": [
    "average_precision_rf = average_precision_score(y_test, best_rf_probs)\n",
    "\n",
    "print('Average precision-recall score for the random forest tree: {0:0.2f}'.format(\n",
    "      average_precision_rf))"
   ]
  },
  {
   "cell_type": "markdown",
   "metadata": {},
   "source": [
    "disp_rf = plot_precision_recall_curve(best_grid, X_test, y_test)\n",
    "disp_rf.ax_.set_title('Random Forest Precision-Recall curve: '\n",
    "                   'AP={0:0.2f}'.format(average_precision_rf))\n"
   ]
  },
  {
   "cell_type": "code",
   "execution_count": 138,
   "metadata": {},
   "outputs": [
    {
     "data": {
      "text/plain": [
       "Text(0.5, 1.0, 'Random Forest Precision-Recall curve: AP=0.39')"
      ]
     },
     "execution_count": 138,
     "metadata": {},
     "output_type": "execute_result"
    },
    {
     "data": {
      "image/png": "[encoded data removed]",
      "text/plain": [
       "<Figure size 432x288 with 1 Axes>"
      ]
     },
     "metadata": {
      "needs_background": "light"
     },
     "output_type": "display_data"
    }
   ],
   "source": [
    "disp_rf = plot_precision_recall_curve(best_grid, X_test, y_test)\n",
    "disp_rf.ax_.set_title('Random Forest Precision-Recall curve: '\n",
    "                   'AP={0:0.2f}'.format(average_precision_rf))\n"
   ]
  },
  {
   "cell_type": "code",
   "execution_count": 66,
   "metadata": {},
   "outputs": [
    {
     "name": "stdout",
     "output_type": "stream",
     "text": [
      "                             Importance\n",
      "euribor3m                      0.113215\n",
      "campaign                       0.081852\n",
      "nr.employed                    0.064073\n",
      "age                            0.061473\n",
      "emp.var.rate                   0.051350\n",
      "cons.conf.idx                  0.028498\n",
      "day_of_week_mon                0.025959\n",
      "cons.price.idx                 0.024237\n",
      "contact_cellular               0.023873\n",
      "day_of_week_fri                0.023645\n",
      "day_of_week_wed                0.023144\n",
      "day_of_week_tue                0.023030\n",
      "job_admin.                     0.022976\n",
      "day_of_week_thu                0.022515\n",
      "contact_telephone              0.022342\n",
      "education_university.degree    0.021409\n",
      "pdays_cat_no contact before    0.020850\n",
      "job_blue-collar                0.020027\n",
      "housing_yes                    0.018078\n",
      "housing_no                     0.017891\n",
      "marital_married                0.017231\n",
      "education_high.school          0.017002\n",
      "poutcome_success               0.015938\n",
      "marital_single                 0.014752\n",
      "month_may                      0.014728\n",
      "education_basic.9y             0.014569\n",
      "job_technician                 0.013698\n",
      "loan_yes                       0.013662\n",
      "loan_no                        0.013326\n",
      "marital_divorced               0.011990\n"
     ]
    }
   ],
   "source": [
    "feature_importances = pd.DataFrame(best_random.feature_importances_, index =imputed_bank_full.drop(['y_yes'], axis = 1).columns, columns = ['Importance']).sort_values(by='Importance', ascending=False)\n",
    "feature_importances = feature_importances[:30]\n",
    "print (feature_importances)"
   ]
  },
  {
   "cell_type": "code",
   "execution_count": 67,
   "metadata": {},
   "outputs": [
    {
     "data": {
      "text/plain": [
       "[Text(0, 0, 'euribor3m'),\n",
       " Text(0, 0, 'campaign'),\n",
       " Text(0, 0, 'nr.employed'),\n",
       " Text(0, 0, 'age'),\n",
       " Text(0, 0, 'emp.var.rate'),\n",
       " Text(0, 0, 'cons.conf.idx'),\n",
       " Text(0, 0, 'day_of_week_mon'),\n",
       " Text(0, 0, 'cons.price.idx'),\n",
       " Text(0, 0, 'contact_cellular'),\n",
       " Text(0, 0, 'day_of_week_fri'),\n",
       " Text(0, 0, 'day_of_week_wed'),\n",
       " Text(0, 0, 'day_of_week_tue'),\n",
       " Text(0, 0, 'job_admin.'),\n",
       " Text(0, 0, 'day_of_week_thu'),\n",
       " Text(0, 0, 'contact_telephone'),\n",
       " Text(0, 0, 'education_university.degree'),\n",
       " Text(0, 0, 'pdays_cat_no contact before'),\n",
       " Text(0, 0, 'job_blue-collar'),\n",
       " Text(0, 0, 'housing_yes'),\n",
       " Text(0, 0, 'housing_no'),\n",
       " Text(0, 0, 'marital_married'),\n",
       " Text(0, 0, 'education_high.school'),\n",
       " Text(0, 0, 'poutcome_success'),\n",
       " Text(0, 0, 'marital_single'),\n",
       " Text(0, 0, 'month_may'),\n",
       " Text(0, 0, 'education_basic.9y'),\n",
       " Text(0, 0, 'job_technician'),\n",
       " Text(0, 0, 'loan_yes'),\n",
       " Text(0, 0, 'loan_no'),\n",
       " Text(0, 0, 'marital_divorced')]"
      ]
     },
     "execution_count": 67,
     "metadata": {},
     "output_type": "execute_result"
    },
    {
     "data": {
      "image/png": "[encoded data removed]",
      "text/plain": [
       "<Figure size 432x288 with 1 Axes>"
      ]
     },
     "metadata": {
      "needs_background": "light"
     },
     "output_type": "display_data"
    }
   ],
   "source": [
    "#plot feature importance\n",
    "feature_importances\n",
    "ax = sns.barplot(x=feature_importances.index, y =feature_importances.Importance)\n",
    "ax.set_xticklabels(ax.get_xticklabels(), rotation=65, horizontalalignment='right')"
   ]
  },
  {
   "cell_type": "markdown",
   "metadata": {},
   "source": [
    "From above feature importance table and chart, we can see that  Europe's Libor rate ('euribor3m'),  number of contacts performed during this campaign and for a client  ('campaign'),number of employees ('nr.employed'), client's age ('age'),  employment variation rate ('emp.var.rate'), contact by telephone ('contact telephone'),consumer confidential index (cons.conf.idx),contact on Monday (day_of_week_mon), job as admin ('job_admin'), consumer price index ('cons_price.idx'), call on Thursday, Firday, Tuesday and Wednsday ('day_of_week_thu', 'day_of_week_fri', 'day_of_week_tue', 'day_of_week_wed'), client who has university degree (education_university_degree),job as a blue_collar ('job_blue-collar'), no contact before ('pdays_cat_no contact before'),  client who doesn't own a house (housing_no),   client who owns a house (housing_yes) are the important features that drive the decision of the customer to subscribe the term deposit."
   ]
  },
  {
   "cell_type": "markdown",
   "metadata": {},
   "source": [
    "# Logistic Regression"
   ]
  },
  {
   "cell_type": "code",
   "execution_count": 68,
   "metadata": {},
   "outputs": [
    {
     "name": "stderr",
     "output_type": "stream",
     "text": [
      "C:\\ProgramData\\Anaconda3\\lib\\site-packages\\sklearn\\linear_model\\_logistic.py:940: ConvergenceWarning: lbfgs failed to converge (status=1):\n",
      "STOP: TOTAL NO. of ITERATIONS REACHED LIMIT.\n",
      "\n",
      "Increase the number of iterations (max_iter) or scale the data as shown in:\n",
      "    https://scikit-learn.org/stable/modules/preprocessing.html\n",
      "Please also refer to the documentation for alternative solver options:\n",
      "    https://scikit-learn.org/stable/modules/linear_model.html#logistic-regression\n",
      "  extra_warning_msg=_LOGISTIC_SOLVER_CONVERGENCE_MSG)\n"
     ]
    }
   ],
   "source": [
    "clf2 = LogisticRegression(random_state=42).fit(X_res_train, y_res_train)"
   ]
  },
  {
   "cell_type": "code",
   "execution_count": 69,
   "metadata": {},
   "outputs": [],
   "source": [
    "y_predict2 = clf2.predict(X_test_df)"
   ]
  },
  {
   "cell_type": "code",
   "execution_count": 70,
   "metadata": {},
   "outputs": [
    {
     "name": "stdout",
     "output_type": "stream",
     "text": [
      "rf_probs:  [0.27885762 0.11014689 0.37190315 ... 0.27197522 0.47648929 0.23954516]\n",
      "roc_value:  0.7735170001925809\n",
      "Score:  0.8184025248846808\n"
     ]
    }
   ],
   "source": [
    "#Predict class probabilities for X_test\n",
    "lg_probs2 = clf2.predict_proba(X_test_df)[:,1]\n",
    "print ('rf_probs: ', lg_probs2)\n",
    "#Compute Area Under the Receiver Operating Characteristic Curve (ROC AUC) from prediction scores.\n",
    "lg_value2 = metrics.roc_auc_score(y_test, lg_probs2)\n",
    "print ('roc_value: ', lg_value2)\n",
    "# Model Accuracy, how often is the classifier correct?\n",
    "base_score_logistic = clf2.score(X_test_df, y_test)\n",
    "print ('Score: ', base_score_logistic)"
   ]
  },
  {
   "cell_type": "markdown",
   "metadata": {},
   "source": [
    "## Randomsearch for Best Parameters "
   ]
  },
  {
   "cell_type": "code",
   "execution_count": 71,
   "metadata": {},
   "outputs": [
    {
     "name": "stdout",
     "output_type": "stream",
     "text": [
      "Parameters currently in use:\n",
      "\n",
      "{'C': 1.0,\n",
      " 'class_weight': None,\n",
      " 'dual': False,\n",
      " 'fit_intercept': True,\n",
      " 'intercept_scaling': 1,\n",
      " 'l1_ratio': None,\n",
      " 'max_iter': 100,\n",
      " 'multi_class': 'auto',\n",
      " 'n_jobs': None,\n",
      " 'penalty': 'l2',\n",
      " 'random_state': 42,\n",
      " 'solver': 'lbfgs',\n",
      " 'tol': 0.0001,\n",
      " 'verbose': 0,\n",
      " 'warm_start': False}\n"
     ]
    }
   ],
   "source": [
    "print('Parameters currently in use:\\n')\n",
    "pprint(clf2.get_params())"
   ]
  },
  {
   "cell_type": "code",
   "execution_count": 72,
   "metadata": {},
   "outputs": [],
   "source": [
    "# Create regularization hyperparameter distribution using uniform distribution\n",
    "C = [0,1,2,3]\n",
    "class_weight = [{1:0.5, 0:0.5}, {1:0.4, 0:0.6}, {1:0.6, 0:0.4}, {1:0.7, 0:0.3}, 'balanced', 'None']\n",
    "penalty = ['l1', 'l2']"
   ]
  },
  {
   "cell_type": "code",
   "execution_count": 73,
   "metadata": {},
   "outputs": [
    {
     "name": "stdout",
     "output_type": "stream",
     "text": [
      "{'C': [0, 1, 2, 3], 'penalty': ['l1', 'l2'], 'class_weight': [{1: 0.5, 0: 0.5}, {1: 0.4, 0: 0.6}, {1: 0.6, 0: 0.4}, {1: 0.7, 0: 0.3}, 'balanced', 'None']}\n"
     ]
    }
   ],
   "source": [
    "random_grid_logistic = {'C': C,\n",
    "               'penalty': penalty,\n",
    "               'class_weight': class_weight\n",
    "              }\n",
    "print (random_grid_logistic)"
   ]
  },
  {
   "cell_type": "code",
   "execution_count": 74,
   "metadata": {},
   "outputs": [
    {
     "name": "stderr",
     "output_type": "stream",
     "text": [
      "C:\\ProgramData\\Anaconda3\\lib\\site-packages\\sklearn\\model_selection\\_search.py:281: UserWarning: The total space of parameters 48 is smaller than n_iter=50. Running 48 iterations. For exhaustive searches, use GridSearchCV.\n",
      "  % (grid_size, self.n_iter, grid_size), UserWarning)\n",
      "C:\\ProgramData\\Anaconda3\\lib\\site-packages\\sklearn\\linear_model\\_logistic.py:940: ConvergenceWarning: lbfgs failed to converge (status=1):\n",
      "STOP: TOTAL NO. of ITERATIONS REACHED LIMIT.\n",
      "\n",
      "Increase the number of iterations (max_iter) or scale the data as shown in:\n",
      "    https://scikit-learn.org/stable/modules/preprocessing.html\n",
      "Please also refer to the documentation for alternative solver options:\n",
      "    https://scikit-learn.org/stable/modules/linear_model.html#logistic-regression\n",
      "  extra_warning_msg=_LOGISTIC_SOLVER_CONVERGENCE_MSG)\n"
     ]
    },
    {
     "data": {
      "text/plain": [
       "RandomizedSearchCV(cv=5, error_score=nan,\n",
       "                   estimator=LogisticRegression(C=1.0, class_weight=None,\n",
       "                                                dual=False, fit_intercept=True,\n",
       "                                                intercept_scaling=1,\n",
       "                                                l1_ratio=None, max_iter=100,\n",
       "                                                multi_class='auto', n_jobs=None,\n",
       "                                                penalty='l2', random_state=42,\n",
       "                                                solver='lbfgs', tol=0.0001,\n",
       "                                                verbose=0, warm_start=False),\n",
       "                   iid='deprecated', n_iter=50, n_jobs=-1,\n",
       "                   param_distributions={'C': [0, 1, 2, 3],\n",
       "                                        'class_weight': [{0: 0.5, 1: 0.5},\n",
       "                                                         {0: 0.6, 1: 0.4},\n",
       "                                                         {0: 0.4, 1: 0.6},\n",
       "                                                         {0: 0.3, 1: 0.7},\n",
       "                                                         'balanced', 'None'],\n",
       "                                        'penalty': ['l1', 'l2']},\n",
       "                   pre_dispatch='2*n_jobs', random_state=42, refit=True,\n",
       "                   return_train_score=False, scoring=None, verbose=0)"
      ]
     },
     "execution_count": 74,
     "metadata": {},
     "output_type": "execute_result"
    }
   ],
   "source": [
    "random_logistic = RandomizedSearchCV(estimator = clf2, param_distributions = random_grid_logistic, n_iter = 50, cv = 5, random_state=42, verbose=0, n_jobs=-1)\n",
    "# Fit the random search model\n",
    "random_logistic.fit(X_res_train, y_res_train)"
   ]
  },
  {
   "cell_type": "code",
   "execution_count": 75,
   "metadata": {},
   "outputs": [
    {
     "data": {
      "text/plain": [
       "{'penalty': 'l2', 'class_weight': 'balanced', 'C': 1}"
      ]
     },
     "execution_count": 75,
     "metadata": {},
     "output_type": "execute_result"
    }
   ],
   "source": [
    "random_logistic.best_params_"
   ]
  },
  {
   "cell_type": "code",
   "execution_count": 76,
   "metadata": {},
   "outputs": [
    {
     "name": "stdout",
     "output_type": "stream",
     "text": [
      "LogisticRegression(C=1, class_weight='balanced', dual=False, fit_intercept=True,\n",
      "                   intercept_scaling=1, l1_ratio=None, max_iter=100,\n",
      "                   multi_class='auto', n_jobs=None, penalty='l2',\n",
      "                   random_state=42, solver='lbfgs', tol=0.0001, verbose=0,\n",
      "                   warm_start=False)\n"
     ]
    }
   ],
   "source": [
    "best_random_logistic = random_logistic.best_estimator_\n",
    "print (best_random_logistic)"
   ]
  },
  {
   "cell_type": "code",
   "execution_count": 77,
   "metadata": {},
   "outputs": [
    {
     "name": "stdout",
     "output_type": "stream",
     "text": [
      "best_random rf_probs_logistic:  [0.27885762 0.11014689 0.37190315 ... 0.27197522 0.47648929 0.23954516]\n",
      "best_random rf_probs_logistic:  0.7735170001925809\n",
      "best_random score_logistic:  0.8184025248846808\n",
      "Improvement of 0.00%.\n"
     ]
    }
   ],
   "source": [
    "best_y_predict_logistic = best_random_logistic.predict(X_test_df)\n",
    "best_probs_logistic = best_random_logistic.predict_proba(X_test_df)[:,1]\n",
    "print ('best_random rf_probs_logistic: ', best_probs_logistic)\n",
    "best_roc_value_logistic=metrics.roc_auc_score(y_test, best_probs_logistic)\n",
    "print ('best_random rf_probs_logistic: ', best_roc_value_logistic)\n",
    "best_score_logistic = best_random_logistic.score(X_test_df, y_test)\n",
    "print ('best_random score_logistic: ', best_score_logistic)\n",
    "print('Improvement of {:0.2f}%.'.format( 100 * (best_score_logistic- base_score_logistic) / base_score_logistic))"
   ]
  },
  {
   "cell_type": "markdown",
   "metadata": {},
   "source": [
    "## Grid Search with Cross Validation"
   ]
  },
  {
   "cell_type": "code",
   "execution_count": 78,
   "metadata": {},
   "outputs": [
    {
     "name": "stdout",
     "output_type": "stream",
     "text": [
      "{'C': [1.0, 2.5, 3.5, 4.5],\n",
      " 'class_weight': [{0: 0.4, 1: 0.6},\n",
      "                  {0: 0.7, 1: 0.3},\n",
      "                  {0: 0.6, 1: 0.4},\n",
      "                  {0: 0.3, 1: 0.7},\n",
      "                  'balanced',\n",
      "                  'None'],\n",
      " 'penalty': ['l2', 'l1']}\n"
     ]
    }
   ],
   "source": [
    "param_grid_logistic = {\n",
    "'C': [1.0,2.5,3.5,4.5],\n",
    "'class_weight':  [{1:0.6, 0:0.4}, {1:0.3, 0:0.7}, {1:0.4, 0:0.6}, {1:0.7, 0:0.3}, 'balanced', 'None'],\n",
    "'penalty': ['l2', 'l1']\n",
    "}\n",
    "pprint(param_grid_logistic)"
   ]
  },
  {
   "cell_type": "code",
   "execution_count": 79,
   "metadata": {},
   "outputs": [
    {
     "name": "stderr",
     "output_type": "stream",
     "text": [
      "[Parallel(n_jobs=-1)]: Using backend LokyBackend with 8 concurrent workers.\n"
     ]
    },
    {
     "name": "stdout",
     "output_type": "stream",
     "text": [
      "Fitting 5 folds for each of 48 candidates, totalling 240 fits\n"
     ]
    },
    {
     "name": "stderr",
     "output_type": "stream",
     "text": [
      "[Parallel(n_jobs=-1)]: Done  34 tasks      | elapsed:    5.0s\n",
      "[Parallel(n_jobs=-1)]: Done 162 tasks      | elapsed:   24.0s\n",
      "[Parallel(n_jobs=-1)]: Done 240 out of 240 | elapsed:   35.4s finished\n",
      "C:\\ProgramData\\Anaconda3\\lib\\site-packages\\sklearn\\linear_model\\_logistic.py:940: ConvergenceWarning: lbfgs failed to converge (status=1):\n",
      "STOP: TOTAL NO. of ITERATIONS REACHED LIMIT.\n",
      "\n",
      "Increase the number of iterations (max_iter) or scale the data as shown in:\n",
      "    https://scikit-learn.org/stable/modules/preprocessing.html\n",
      "Please also refer to the documentation for alternative solver options:\n",
      "    https://scikit-learn.org/stable/modules/linear_model.html#logistic-regression\n",
      "  extra_warning_msg=_LOGISTIC_SOLVER_CONVERGENCE_MSG)\n"
     ]
    },
    {
     "data": {
      "text/plain": [
       "{'C': 4.5, 'class_weight': 'balanced', 'penalty': 'l2'}"
      ]
     },
     "execution_count": 79,
     "metadata": {},
     "output_type": "execute_result"
    }
   ],
   "source": [
    "# Instantiate the grid search model\n",
    "grid_search_logistic = GridSearchCV(estimator =best_random_logistic, param_grid = param_grid_logistic, cv = 5, n_jobs = -1, verbose = 2)   \n",
    "# Fit the grid search to the data\n",
    "grid_search_logistic.fit(X_res_train, y_res_train)\n",
    "# Find the best prameters\n",
    "grid_search_logistic.best_params_"
   ]
  },
  {
   "cell_type": "code",
   "execution_count": 80,
   "metadata": {},
   "outputs": [],
   "source": [
    "best_grid_logistic = grid_search_logistic.best_estimator_\n",
    "best_grid_predict_logistic = grid_search_logistic.predict(X_test_df)"
   ]
  },
  {
   "cell_type": "code",
   "execution_count": 81,
   "metadata": {},
   "outputs": [
    {
     "name": "stdout",
     "output_type": "stream",
     "text": [
      "best grid of logistic regression rf_probs:  [0.27864971 0.10965702 0.37110534 ... 0.27122871 0.47635922 0.23957293]\n",
      "best grid rf_probs:  0.7734521231843041\n",
      "best grid score:  0.8185239135712552\n",
      "Improvement of 0.00%.\n"
     ]
    }
   ],
   "source": [
    "grid_log_probs = best_grid_logistic.predict_proba(X_test_df)[:,1]\n",
    "print ('best grid of logistic regression rf_probs: ',grid_log_probs)\n",
    "grid_roc_value_log=metrics.roc_auc_score(y_test, grid_log_probs)\n",
    "print ('best grid rf_probs: ', grid_roc_value_log)\n",
    "grid_score_log = best_grid_logistic.score(X_test_df, y_test)\n",
    "print ('best grid score: ', grid_score_log)\n",
    "print('Improvement of {:0.2f}%.'.format( 100 * (best_score_logistic- base_score_logistic) / base_score_logistic))"
   ]
  },
  {
   "cell_type": "code",
   "execution_count": 126,
   "metadata": {},
   "outputs": [
    {
     "name": "stdout",
     "output_type": "stream",
     "text": [
      "true negative: 6182 \n",
      " false posotive: 1121 \n",
      " false negative: 374 \n",
      " true positive: 561\n"
     ]
    }
   ],
   "source": [
    "#Generate confusion matrix for best_grid_logistic \n",
    "tn2, fp2, fn2, tp2 = metrics.confusion_matrix(y_test, best_grid_predict_logistic).ravel()\n",
    "print ('true negative:',tn2,'\\n','false posotive:',fp2,'\\n', 'false negative:', fn2, '\\n','true positive:', tp2)"
   ]
  },
  {
   "cell_type": "code",
   "execution_count": 83,
   "metadata": {},
   "outputs": [
    {
     "data": {
      "text/plain": [
       "Text(0.5, 1.0, 'Confusion Matrix')"
      ]
     },
     "execution_count": 83,
     "metadata": {},
     "output_type": "execute_result"
    },
    {
     "data": {
      "image/png": "[encoded data removed]",
      "text/plain": [
       "<Figure size 432x288 with 2 Axes>"
      ]
     },
     "metadata": {
      "needs_background": "light"
     },
     "output_type": "display_data"
    }
   ],
   "source": [
    "cm2 = metrics.plot_confusion_matrix(best_grid_logistic , X_test_df, y_test,normalize = 'true')\n",
    "cm2.ax_.set_title('Confusion Matrix')                              "
   ]
  },
  {
   "cell_type": "code",
   "execution_count": 84,
   "metadata": {},
   "outputs": [],
   "source": [
    "#Plot ROC curve for best_grid\n",
    "fpr_grid, tpr_grid, threshold_grid = metrics.roc_curve(y_test, best_rf_probs, pos_label = 1)\n",
    "roc_auc2 = metrics.auc(fpr_grid, tpr_grid)"
   ]
  },
  {
   "cell_type": "code",
   "execution_count": 85,
   "metadata": {},
   "outputs": [
    {
     "data": {
      "image/png": "[encoded data removed]",
      "text/plain": [
       "<Figure size 432x288 with 1 Axes>"
      ]
     },
     "metadata": {
      "needs_background": "light"
     },
     "output_type": "display_data"
    }
   ],
   "source": [
    "plt.title('Receiver Operating Characteristic')\n",
    "plt.plot(fpr_grid, tpr_grid, 'b', label = 'AUC = %0.2f' % roc_auc2)\n",
    "plt.legend(loc = 'lower right')\n",
    "plt.plot([0, 1], [0, 1],'r--')\n",
    "plt.xlim([0, 1])\n",
    "plt.ylim([0, 1])\n",
    "plt.ylabel('True Positive Rate')\n",
    "plt.xlabel('False Positive Rate')\n",
    "plt.show()"
   ]
  },
  {
   "cell_type": "code",
   "execution_count": 123,
   "metadata": {},
   "outputs": [
    {
     "name": "stdout",
     "output_type": "stream",
     "text": [
      "Average precision-recall score for the logistic regression: 0.42\n"
     ]
    }
   ],
   "source": [
    "average_precision_log= average_precision_score(y_test, grid_log_probs)\n",
    "\n",
    "print('Average precision-recall score for the logistic regression: {0:0.2f}'.format(\n",
    "      average_precision_log))"
   ]
  },
  {
   "cell_type": "code",
   "execution_count": 115,
   "metadata": {},
   "outputs": [
    {
     "data": {
      "text/plain": [
       "Text(0.5, 1.0, 'Logistic Regression Precision-Recall curve: AP=0.42')"
      ]
     },
     "execution_count": 115,
     "metadata": {},
     "output_type": "execute_result"
    },
    {
     "data": {
      "image/png": "[encoded data removed]",
      "text/plain": [
       "<Figure size 432x288 with 1 Axes>"
      ]
     },
     "metadata": {
      "needs_background": "light"
     },
     "output_type": "display_data"
    }
   ],
   "source": [
    "disp_log = plot_precision_recall_curve(best_grid_logistic , X_test, y_test)\n",
    "disp_log.ax_.set_title('Logistic Regression Precision-Recall curve: '\n",
    "                   'AP={0:0.2f}'.format(average_precision_log))"
   ]
  },
  {
   "cell_type": "markdown",
   "metadata": {},
   "source": [
    "# Gradient Boosting Classifier"
   ]
  },
  {
   "cell_type": "code",
   "execution_count": 86,
   "metadata": {},
   "outputs": [],
   "source": [
    "clf3 = GradientBoostingClassifier(random_state=0).fit(X_res_train, y_res_train)\n",
    "y_predict3 = clf3.predict(X_test_df)"
   ]
  },
  {
   "cell_type": "code",
   "execution_count": 87,
   "metadata": {},
   "outputs": [
    {
     "name": "stdout",
     "output_type": "stream",
     "text": [
      "rf_probs:  [0.10326616 0.11281044 0.29937424 ... 0.11243723 0.2189394  0.12336963]\n",
      "roc_value:  0.7754884264835856\n",
      "Score:  0.8798252002913328\n"
     ]
    }
   ],
   "source": [
    "#Predict class probabilities for X_test\n",
    "rf_probs3 = clf3.predict_proba(X_test_df)[:,1]\n",
    "print ('rf_probs: ', rf_probs3)\n",
    "#Compute Area Under the Receiver Operating Characteristic Curve (ROC AUC) from prediction scores.\n",
    "roc_value3 = metrics.roc_auc_score(y_test, rf_probs3)\n",
    "print ('roc_value: ', roc_value3)\n",
    "# Model Accuracy, how often is the classifier correct?\n",
    "base_score_gradient = clf3.score(X_test_df, y_test)\n",
    "print ('Score: ',base_score_gradient)"
   ]
  },
  {
   "cell_type": "code",
   "execution_count": 88,
   "metadata": {},
   "outputs": [
    {
     "name": "stdout",
     "output_type": "stream",
     "text": [
      "Parameters currently in use:\n",
      "\n",
      "{'ccp_alpha': 0.0,\n",
      " 'criterion': 'friedman_mse',\n",
      " 'init': None,\n",
      " 'learning_rate': 0.1,\n",
      " 'loss': 'deviance',\n",
      " 'max_depth': 3,\n",
      " 'max_features': None,\n",
      " 'max_leaf_nodes': None,\n",
      " 'min_impurity_decrease': 0.0,\n",
      " 'min_impurity_split': None,\n",
      " 'min_samples_leaf': 1,\n",
      " 'min_samples_split': 2,\n",
      " 'min_weight_fraction_leaf': 0.0,\n",
      " 'n_estimators': 100,\n",
      " 'n_iter_no_change': None,\n",
      " 'presort': 'deprecated',\n",
      " 'random_state': 0,\n",
      " 'subsample': 1.0,\n",
      " 'tol': 0.0001,\n",
      " 'validation_fraction': 0.1,\n",
      " 'verbose': 0,\n",
      " 'warm_start': False}\n"
     ]
    }
   ],
   "source": [
    "print('Parameters currently in use:\\n')\n",
    "pprint(clf3.get_params())"
   ]
  },
  {
   "cell_type": "markdown",
   "metadata": {},
   "source": [
    "## Hyperparameter Tuning Using Random Search"
   ]
  },
  {
   "cell_type": "code",
   "execution_count": 89,
   "metadata": {},
   "outputs": [],
   "source": [
    "learning_rate = [0.1, 0.2]\n",
    "min_samples_split = [1,2]\n",
    "min_samples_leaf = [1,2]\n",
    "max_depth = [3,5]\n",
    "max_features = ['sqrt','None']\n",
    "n_estimators = [50, 100, 200]"
   ]
  },
  {
   "cell_type": "code",
   "execution_count": 90,
   "metadata": {},
   "outputs": [
    {
     "name": "stdout",
     "output_type": "stream",
     "text": [
      "{'learning_rate': [0.1, 0.2],\n",
      " 'max_depth': [3, 5],\n",
      " 'max_features': ['sqrt', 'None'],\n",
      " 'min_samples_leaf': [1, 2],\n",
      " 'min_samples_split': [1, 2],\n",
      " 'n_estimators': [50, 100, 200]}\n"
     ]
    }
   ],
   "source": [
    "random_grid_gradient = {'learning_rate':learning_rate,\n",
    "                       'min_samples_split': min_samples_split,\n",
    "                       'min_samples_leaf': min_samples_leaf,\n",
    "                        'max_depth': max_depth,\n",
    "                        'max_features': max_features,\n",
    "                        'n_estimators': n_estimators}\n",
    "pprint (random_grid_gradient)"
   ]
  },
  {
   "cell_type": "code",
   "execution_count": 91,
   "metadata": {},
   "outputs": [
    {
     "data": {
      "text/plain": [
       "RandomizedSearchCV(cv=5, error_score=nan,\n",
       "                   estimator=GradientBoostingClassifier(ccp_alpha=0.0,\n",
       "                                                        criterion='friedman_mse',\n",
       "                                                        init=None,\n",
       "                                                        learning_rate=0.1,\n",
       "                                                        loss='deviance',\n",
       "                                                        max_depth=3,\n",
       "                                                        max_features=None,\n",
       "                                                        max_leaf_nodes=None,\n",
       "                                                        min_impurity_decrease=0.0,\n",
       "                                                        min_impurity_split=None,\n",
       "                                                        min_samples_leaf=1,\n",
       "                                                        min_samples_split=2,\n",
       "                                                        min_weight_fraction_leaf=0.0,\n",
       "                                                        n_estimators=100,\n",
       "                                                        n_ite...\n",
       "                                                        validation_fraction=0.1,\n",
       "                                                        verbose=0,\n",
       "                                                        warm_start=False),\n",
       "                   iid='deprecated', n_iter=50, n_jobs=-1,\n",
       "                   param_distributions={'learning_rate': [0.1, 0.2],\n",
       "                                        'max_depth': [3, 5],\n",
       "                                        'max_features': ['sqrt', 'None'],\n",
       "                                        'min_samples_leaf': [1, 2],\n",
       "                                        'min_samples_split': [1, 2],\n",
       "                                        'n_estimators': [50, 100, 200]},\n",
       "                   pre_dispatch='2*n_jobs', random_state=42, refit=True,\n",
       "                   return_train_score=False, scoring=None, verbose=0)"
      ]
     },
     "execution_count": 91,
     "metadata": {},
     "output_type": "execute_result"
    }
   ],
   "source": [
    "random_gradient = RandomizedSearchCV(estimator = clf3, param_distributions = random_grid_gradient, n_iter = 50, cv =5, random_state=42, verbose=0, n_jobs=-1)\n",
    "# Fit the random search model\n",
    "random_gradient.fit(X_res_train, y_res_train)"
   ]
  },
  {
   "cell_type": "code",
   "execution_count": 92,
   "metadata": {},
   "outputs": [
    {
     "name": "stdout",
     "output_type": "stream",
     "text": [
      "GradientBoostingClassifier(ccp_alpha=0.0, criterion='friedman_mse', init=None,\n",
      "                           learning_rate=0.2, loss='deviance', max_depth=5,\n",
      "                           max_features='sqrt', max_leaf_nodes=None,\n",
      "                           min_impurity_decrease=0.0, min_impurity_split=None,\n",
      "                           min_samples_leaf=1, min_samples_split=2,\n",
      "                           min_weight_fraction_leaf=0.0, n_estimators=200,\n",
      "                           n_iter_no_change=None, presort='deprecated',\n",
      "                           random_state=0, subsample=1.0, tol=0.0001,\n",
      "                           validation_fraction=0.1, verbose=0,\n",
      "                           warm_start=False)\n"
     ]
    }
   ],
   "source": [
    "best_random_gradient  = random_gradient.best_estimator_\n",
    "print (best_random_gradient)"
   ]
  },
  {
   "cell_type": "code",
   "execution_count": 94,
   "metadata": {},
   "outputs": [
    {
     "name": "stdout",
     "output_type": "stream",
     "text": [
      "best_random rf_probs_gradient:  [0.04303546 0.01901652 0.17788879 ... 0.01501829 0.11389584 0.05906468]\n",
      "best_random rf_probs_logistic:  0.7721422080589546\n",
      "best_random score_logistic:  0.8902646273367322\n",
      "Improvement of 1.19%.\n"
     ]
    }
   ],
   "source": [
    "best_y_predict_gradient = best_random_gradient.predict(X_test_df)\n",
    "best_probs_gradient = best_random_gradient.predict_proba(X_test_df)[:,1]\n",
    "print ('best_random rf_probs_gradient: ', best_probs_gradient)\n",
    "best_roc_value_gradient=metrics.roc_auc_score(y_test, best_probs_gradient)\n",
    "print ('best_random rf_probs_logistic: ', best_roc_value_gradient)\n",
    "best_score_gradient = best_random_gradient.score(X_test_df, y_test)\n",
    "print ('best_random score_logistic: ', best_score_gradient)\n",
    "print('Improvement of {:0.2f}%.'.format( 100 * (best_score_gradient- base_score_gradient) / base_score_gradient))"
   ]
  },
  {
   "cell_type": "markdown",
   "metadata": {},
   "source": [
    "##  Grid Search with Cross Validation"
   ]
  },
  {
   "cell_type": "code",
   "execution_count": 95,
   "metadata": {},
   "outputs": [
    {
     "name": "stdout",
     "output_type": "stream",
     "text": [
      "{'learning_rate': [0.1, 0.2],\n",
      " 'max_depth': [3, 5],\n",
      " 'max_features': ['sqrt', 'None'],\n",
      " 'min_samples_leaf': [1, 2],\n",
      " 'min_samples_split': [1, 2],\n",
      " 'n_estimators': [50, 100, 200]}\n"
     ]
    }
   ],
   "source": [
    "param_grid_gradient = {'learning_rate':learning_rate,\n",
    "                       'min_samples_split': min_samples_split,\n",
    "                       'min_samples_leaf': min_samples_leaf,\n",
    "                        'max_depth': max_depth,\n",
    "                        'max_features': max_features,\n",
    "                        'n_estimators': n_estimators}\n",
    "pprint (param_grid_gradient)"
   ]
  },
  {
   "cell_type": "code",
   "execution_count": 96,
   "metadata": {},
   "outputs": [
    {
     "name": "stdout",
     "output_type": "stream",
     "text": [
      "Fitting 5 folds for each of 96 candidates, totalling 480 fits\n"
     ]
    },
    {
     "name": "stderr",
     "output_type": "stream",
     "text": [
      "[Parallel(n_jobs=-1)]: Using backend LokyBackend with 8 concurrent workers.\n",
      "[Parallel(n_jobs=-1)]: Done  25 tasks      | elapsed:   10.9s\n",
      "[Parallel(n_jobs=-1)]: Done 146 tasks      | elapsed:   54.4s\n",
      "[Parallel(n_jobs=-1)]: Done 349 tasks      | elapsed:  2.1min\n",
      "[Parallel(n_jobs=-1)]: Done 480 out of 480 | elapsed:  3.2min finished\n"
     ]
    },
    {
     "data": {
      "text/plain": [
       "{'learning_rate': 0.2,\n",
       " 'max_depth': 5,\n",
       " 'max_features': 'sqrt',\n",
       " 'min_samples_leaf': 2,\n",
       " 'min_samples_split': 2,\n",
       " 'n_estimators': 200}"
      ]
     },
     "execution_count": 96,
     "metadata": {},
     "output_type": "execute_result"
    }
   ],
   "source": [
    "# Instantiate the grid search model\n",
    "grid_search_gradient = GridSearchCV(estimator = clf3, param_grid = param_grid_gradient, cv = 5, n_jobs = -1, verbose = 2)   \n",
    "# Fit the grid search to the data\n",
    "grid_search_gradient.fit(X_res_train, y_res_train)\n",
    "# Find the best prameters\n",
    "grid_search_gradient.best_params_"
   ]
  },
  {
   "cell_type": "code",
   "execution_count": 97,
   "metadata": {},
   "outputs": [],
   "source": [
    "best_grid_gradient = grid_search_gradient.best_estimator_\n",
    "best_grid_predict_gradient = grid_search_gradient.predict(X_test_df)"
   ]
  },
  {
   "cell_type": "code",
   "execution_count": 98,
   "metadata": {},
   "outputs": [
    {
     "name": "stdout",
     "output_type": "stream",
     "text": [
      "best grid of logistic regression rf_probs:  [0.08722167 0.02551623 0.22042946 ... 0.01555603 0.09524428 0.05548544]\n",
      "best grid rf_probs:  0.7765378084312285\n",
      "best grid score:  0.8911143481427531\n",
      "Improvement of 1.28%.\n"
     ]
    }
   ],
   "source": [
    "grid_gradient_probs = best_grid_gradient.predict_proba(X_test_df)[:,1]\n",
    "print ('best grid of logistic regression rf_probs: ',grid_gradient_probs)\n",
    "grid_roc_value_gradient=metrics.roc_auc_score(y_test, grid_gradient_probs)\n",
    "print ('best grid rf_probs: ', grid_roc_value_gradient)\n",
    "grid_score_gradient= best_grid_gradient.score(X_test_df, y_test)\n",
    "print ('best grid score: ', grid_score_gradient)\n",
    "print('Improvement of {:0.2f}%.'.format( 100 * (grid_score_gradient- base_score_gradient) / base_score_gradient))"
   ]
  },
  {
   "cell_type": "markdown",
   "metadata": {},
   "source": [
    "For the Gradient Boosting Classifier model, random search generate higher accuracy score. "
   ]
  },
  {
   "cell_type": "code",
   "execution_count": 99,
   "metadata": {},
   "outputs": [
    {
     "name": "stdout",
     "output_type": "stream",
     "text": [
      "                               Importance\n",
      "nr.employed                      0.221660\n",
      "campaign                         0.108529\n",
      "emp.var.rate                     0.047326\n",
      "euribor3m                        0.038654\n",
      "day_of_week_fri                  0.037349\n",
      "job_admin.                       0.034563\n",
      "day_of_week_wed                  0.030415\n",
      "day_of_week_tue                  0.025130\n",
      "poutcome_success                 0.024883\n",
      "cons.conf.idx                    0.024853\n",
      "contact_telephone                0.022833\n",
      "day_of_week_mon                  0.022344\n",
      "education_university.degree      0.021849\n",
      "day_of_week_thu                  0.019264\n",
      "loan_yes                         0.019032\n",
      "pdays_cat_5-10 days              0.017045\n",
      "job_blue-collar                  0.016689\n",
      "marital_divorced                 0.014617\n",
      "education_high.school            0.014567\n",
      "housing_yes                      0.013913\n",
      "month_oct                        0.012837\n",
      "job_technician                   0.012361\n",
      "month_may                        0.012339\n",
      "age                              0.011128\n",
      "loan_no                          0.010799\n",
      "cons.price.idx                   0.010191\n",
      "education_professional.course    0.009601\n",
      "housing_no                       0.009594\n",
      "marital_single                   0.009336\n",
      "month_mar                        0.009328\n"
     ]
    }
   ],
   "source": [
    "feature_importances2 = pd.DataFrame(best_random_gradient.feature_importances_, index =imputed_bank_full.drop(['y_yes'], axis = 1).columns, columns = ['Importance']).sort_values(by='Importance', ascending=False)\n",
    "feature_importances2 = feature_importances2[:30]\n",
    "print (feature_importances2)"
   ]
  },
  {
   "cell_type": "code",
   "execution_count": 100,
   "metadata": {},
   "outputs": [
    {
     "data": {
      "text/plain": [
       "[Text(0, 0, 'nr.employed'),\n",
       " Text(0, 0, 'campaign'),\n",
       " Text(0, 0, 'emp.var.rate'),\n",
       " Text(0, 0, 'euribor3m'),\n",
       " Text(0, 0, 'day_of_week_fri'),\n",
       " Text(0, 0, 'job_admin.'),\n",
       " Text(0, 0, 'day_of_week_wed'),\n",
       " Text(0, 0, 'day_of_week_tue'),\n",
       " Text(0, 0, 'poutcome_success'),\n",
       " Text(0, 0, 'cons.conf.idx'),\n",
       " Text(0, 0, 'contact_telephone'),\n",
       " Text(0, 0, 'day_of_week_mon'),\n",
       " Text(0, 0, 'education_university.degree'),\n",
       " Text(0, 0, 'day_of_week_thu'),\n",
       " Text(0, 0, 'loan_yes'),\n",
       " Text(0, 0, 'pdays_cat_5-10 days'),\n",
       " Text(0, 0, 'job_blue-collar'),\n",
       " Text(0, 0, 'marital_divorced'),\n",
       " Text(0, 0, 'education_high.school'),\n",
       " Text(0, 0, 'housing_yes'),\n",
       " Text(0, 0, 'month_oct'),\n",
       " Text(0, 0, 'job_technician'),\n",
       " Text(0, 0, 'month_may'),\n",
       " Text(0, 0, 'age'),\n",
       " Text(0, 0, 'loan_no'),\n",
       " Text(0, 0, 'cons.price.idx'),\n",
       " Text(0, 0, 'education_professional.course'),\n",
       " Text(0, 0, 'housing_no'),\n",
       " Text(0, 0, 'marital_single'),\n",
       " Text(0, 0, 'month_mar')]"
      ]
     },
     "execution_count": 100,
     "metadata": {},
     "output_type": "execute_result"
    },
    {
     "data": {
      "image/png": "[encoded data removed]",
      "text/plain": [
       "<Figure size 432x288 with 1 Axes>"
      ]
     },
     "metadata": {
      "needs_background": "light"
     },
     "output_type": "display_data"
    }
   ],
   "source": [
    "#plot feature importance\n",
    "ax = sns.barplot(x=feature_importances2.index, y =feature_importances2.Importance)\n",
    "ax.set_xticklabels(ax.get_xticklabels(), rotation=65, horizontalalignment='right')"
   ]
  },
  {
   "cell_type": "code",
   "execution_count": 127,
   "metadata": {},
   "outputs": [
    {
     "name": "stdout",
     "output_type": "stream",
     "text": [
      "true negative: 7043 \n",
      " false posotive: 260 \n",
      " false negative: 644 \n",
      " true positive: 291\n"
     ]
    }
   ],
   "source": [
    "#Generate confusion matrix for random_gradient\n",
    "tn3, fp3, fn3, tp3 = metrics.confusion_matrix(y_test, best_y_predict_gradient).ravel()\n",
    "print ('true negative:',tn3,'\\n','false posotive:',fp3,'\\n', 'false negative:', fn3, '\\n','true positive:', tp3)"
   ]
  },
  {
   "cell_type": "code",
   "execution_count": 102,
   "metadata": {},
   "outputs": [
    {
     "data": {
      "text/plain": [
       "Text(0.5, 1.0, 'Confusion Matrix')"
      ]
     },
     "execution_count": 102,
     "metadata": {},
     "output_type": "execute_result"
    },
    {
     "data": {
      "image/png": "[encoded data removed]",
      "text/plain": [
       "<Figure size 432x288 with 2 Axes>"
      ]
     },
     "metadata": {
      "needs_background": "light"
     },
     "output_type": "display_data"
    }
   ],
   "source": [
    "cm = metrics.plot_confusion_matrix(best_random_gradient, X_test_df, y_test,normalize = 'true')\n",
    "cm.ax_.set_title('Confusion Matrix')                              "
   ]
  },
  {
   "cell_type": "code",
   "execution_count": 139,
   "metadata": {},
   "outputs": [],
   "source": [
    "#Plot ROC curve for gradient boosting\n",
    "fpr_gb, tpr_gb, threshold_gb = metrics.roc_curve(y_test, grid_gradient_probs, pos_label = 1)\n",
    "roc_auc2 = metrics.auc(fpr_grid, tpr_grid)\n"
   ]
  },
  {
   "cell_type": "code",
   "execution_count": 140,
   "metadata": {},
   "outputs": [
    {
     "data": {
      "image/png": "[encoded data removed]",
      "text/plain": [
       "<Figure size 432x288 with 1 Axes>"
      ]
     },
     "metadata": {
      "needs_background": "light"
     },
     "output_type": "display_data"
    }
   ],
   "source": [
    "plt.title('Receiver Operating Characteristic')\n",
    "plt.plot(fpr_gb, tpr_gb, 'b', label = 'AUC = %0.2f' % roc_auc2)\n",
    "plt.legend(loc = 'lower right')\n",
    "plt.plot([0, 1], [0, 1],'r--')\n",
    "plt.xlim([0, 1])\n",
    "plt.ylim([0, 1])\n",
    "plt.ylabel('True Positive Rate')\n",
    "plt.xlabel('False Positive Rate')\n",
    "plt.show()"
   ]
  },
  {
   "cell_type": "code",
   "execution_count": 141,
   "metadata": {},
   "outputs": [
    {
     "name": "stdout",
     "output_type": "stream",
     "text": [
      "Average precision-recall score for the gradient boosting: 0.39\n"
     ]
    },
    {
     "data": {
      "text/plain": [
       "Text(0.5, 1.0, 'Logistic Regression Precision-Recall curve: AP=0.39')"
      ]
     },
     "execution_count": 141,
     "metadata": {},
     "output_type": "execute_result"
    },
    {
     "data": {
      "image/png": "[encoded data removed]",
      "text/plain": [
       "<Figure size 432x288 with 1 Axes>"
      ]
     },
     "metadata": {
      "needs_background": "light"
     },
     "output_type": "display_data"
    }
   ],
   "source": [
    "average_precision_gb = average_precision_score(y_test, grid_gradient_probs)\n",
    "\n",
    "print('Average precision-recall score for the gradient boosting: {0:0.2f}'.format(\n",
    "      average_precision_rf))\n",
    "disp_gb = plot_precision_recall_curve(best_grid_gradient, X_test, y_test)\n",
    "disp_gb.ax_.set_title('Logistic Regression Precision-Recall curve: '\n",
    "                   'AP={0:0.2f}'.format(average_precision_rf))"
   ]
  },
  {
   "cell_type": "code",
   "execution_count": null,
   "metadata": {},
   "outputs": [],
   "source": []
  }
 ],
 "metadata": {
  "kernelspec": {
   "display_name": "Python 3",
   "language": "python",
   "name": "python3"
  },
  "language_info": {
   "codemirror_mode": {
    "name": "ipython",
    "version": 3
   },
   "file_extension": ".py",
   "mimetype": "text/x-python",
   "name": "python",
   "nbconvert_exporter": "python",
   "pygments_lexer": "ipython3",
   "version": "3.7.6"
  }
 },
 "nbformat": 4,
 "nbformat_minor": 2
}
